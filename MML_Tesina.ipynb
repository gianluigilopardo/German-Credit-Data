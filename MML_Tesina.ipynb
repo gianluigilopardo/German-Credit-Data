{
  "nbformat": 4,
  "nbformat_minor": 0,
  "metadata": {
    "colab": {
      "name": "MML_Tesina.ipynb",
      "provenance": [],
      "collapsed_sections": [],
      "toc_visible": true,
      "authorship_tag": "ABX9TyPlfgHIn8ZjP77VE467FZrZ",
      "include_colab_link": true
    },
    "kernelspec": {
      "name": "python3",
      "display_name": "Python 3"
    }
  },
  "cells": [
    {
      "cell_type": "markdown",
      "metadata": {
        "id": "view-in-github",
        "colab_type": "text"
      },
      "source": [
        "<a href=\"https://colab.research.google.com/github/luciainnocenti/German-Credit-Data/blob/master/MML_Tesina.ipynb\" target=\"_parent\"><img src=\"https://colab.research.google.com/assets/colab-badge.svg\" alt=\"Open In Colab\"/></a>"
      ]
    },
    {
      "cell_type": "markdown",
      "metadata": {
        "id": "LC0ITnji5nsq",
        "colab_type": "text"
      },
      "source": [
        "# Introduction"
      ]
    },
    {
      "cell_type": "markdown",
      "metadata": {
        "id": "vsUuOSvQ5tog",
        "colab_type": "text"
      },
      "source": [
        "This project is about the analysis of credit risks of German Credit Data.\n",
        "The dataset is [Statlog (German Credit Data) Data Set](https://archive.ics.uci.edu/ml/datasets/Statlog+%28German+Credit+Data%29).\n",
        "It is composed by 1000 instances, each one defined by twenty attributes (both numerical and categorical).\n",
        "\n",
        "The data are collected in 1994 and the last attribute referred to how the client has been categorized: good or bad credit risk.\n",
        "\n"
      ]
    },
    {
      "cell_type": "markdown",
      "metadata": {
        "id": "IB-xkesV688M",
        "colab_type": "text"
      },
      "source": [
        "# Imports"
      ]
    },
    {
      "cell_type": "markdown",
      "metadata": {
        "id": "QkBvpAF-6_Cn",
        "colab_type": "text"
      },
      "source": [
        "\n",
        "\n",
        "1.   **Files**: needed to upload the file directly from an external source\n",
        "2.   **Pandas**: needed for manage data as matrices or vectors; provide many usefull function and especially the structure of Dataframe\n",
        "3.  **Numpy**: needed for manage data as matrices or vectors; \n",
        "4.  **Pyplot** and **Seaborn**: useful for visualizations\n"
      ]
    },
    {
      "cell_type": "code",
      "metadata": {
        "id": "8PJfobmmyYV3",
        "colab_type": "code",
        "colab": {}
      },
      "source": [
        "import warnings\n",
        "warnings.filterwarnings(action = 'ignore', category = FutureWarning)\n",
        "\n",
        "from google.colab import files\n",
        "import pandas as pd\n",
        "import numpy as np\n",
        "import io\n",
        "import matplotlib.pyplot as plt\n",
        "import seaborn as sns\n",
        "\n",
        "#Import classification methods and support methods\n",
        "from sklearn.pipeline import Pipeline\n",
        "from sklearn.decomposition import PCA\n",
        "from sklearn.model_selection import train_test_split\n",
        "from imblearn.over_sampling import ADASYN, SMOTE\n",
        "from sklearn.model_selection import GridSearchCV\n",
        "from sklearn.feature_selection import SelectKBest, f_classif\n",
        "from sklearn.preprocessing import StandardScaler\n",
        "from sklearn.neighbors import KNeighborsClassifier\n",
        "from sklearn import svm\n",
        "from sklearn.model_selection import KFold\n",
        "from sklearn.linear_model import LogisticRegression\n",
        "from sklearn.tree import DecisionTreeClassifier\n",
        "from sklearn import tree\n",
        "\n",
        "#Import Metrics\n",
        "from sklearn.metrics import accuracy_score\n",
        "from sklearn.metrics import f1_score\n",
        "from sklearn.metrics import precision_score\n",
        "from sklearn.metrics import recall_score\n",
        "from sklearn.metrics import classification_report\n",
        "\n",
        "SEED = 42"
      ],
      "execution_count": 1,
      "outputs": []
    },
    {
      "cell_type": "code",
      "metadata": {
        "id": "6QjiIVKC1kA-",
        "colab_type": "code",
        "colab": {
          "resources": {
            "http://localhost:8080/nbextensions/google.colab/files.js": {
              "data": "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",
              "ok": true,
              "headers": [
                [
                  "content-type",
                  "application/javascript"
                ]
              ],
              "status": 200,
              "status_text": ""
            }
          },
          "base_uri": "https://localhost:8080/",
          "height": 73
        },
        "outputId": "45c5d311-24cd-41d9-9c97-e5ed4bfc6922"
      },
      "source": [
        "uploaded = files.upload()"
      ],
      "execution_count": 2,
      "outputs": [
        {
          "output_type": "display_data",
          "data": {
            "text/html": [
              "\n",
              "     <input type=\"file\" id=\"files-45645528-1d69-48e3-a035-f58d10a507d7\" name=\"files[]\" multiple disabled\n",
              "        style=\"border:none\" />\n",
              "     <output id=\"result-45645528-1d69-48e3-a035-f58d10a507d7\">\n",
              "      Upload widget is only available when the cell has been executed in the\n",
              "      current browser session. Please rerun this cell to enable.\n",
              "      </output>\n",
              "      <script src=\"/nbextensions/google.colab/files.js\"></script> "
            ],
            "text/plain": [
              "<IPython.core.display.HTML object>"
            ]
          },
          "metadata": {
            "tags": []
          }
        },
        {
          "output_type": "stream",
          "text": [
            "Saving data.csv to data.csv\n"
          ],
          "name": "stdout"
        }
      ]
    },
    {
      "cell_type": "code",
      "metadata": {
        "id": "F3eiXaCSzgBi",
        "colab_type": "code",
        "colab": {
          "base_uri": "https://localhost:8080/",
          "height": 107
        },
        "outputId": "d94064bf-f77e-405b-d4c0-501e8ea94938"
      },
      "source": [
        "df = pd.read_csv(io.BytesIO(uploaded['data.csv']), sep=';', header=None)\n",
        "df.head(2)"
      ],
      "execution_count": 3,
      "outputs": [
        {
          "output_type": "execute_result",
          "data": {
            "text/html": [
              "<div>\n",
              "<style scoped>\n",
              "    .dataframe tbody tr th:only-of-type {\n",
              "        vertical-align: middle;\n",
              "    }\n",
              "\n",
              "    .dataframe tbody tr th {\n",
              "        vertical-align: top;\n",
              "    }\n",
              "\n",
              "    .dataframe thead th {\n",
              "        text-align: right;\n",
              "    }\n",
              "</style>\n",
              "<table border=\"1\" class=\"dataframe\">\n",
              "  <thead>\n",
              "    <tr style=\"text-align: right;\">\n",
              "      <th></th>\n",
              "      <th>0</th>\n",
              "      <th>1</th>\n",
              "      <th>2</th>\n",
              "      <th>3</th>\n",
              "      <th>4</th>\n",
              "      <th>5</th>\n",
              "      <th>6</th>\n",
              "      <th>7</th>\n",
              "      <th>8</th>\n",
              "      <th>9</th>\n",
              "      <th>10</th>\n",
              "      <th>11</th>\n",
              "      <th>12</th>\n",
              "      <th>13</th>\n",
              "      <th>14</th>\n",
              "      <th>15</th>\n",
              "      <th>16</th>\n",
              "      <th>17</th>\n",
              "      <th>18</th>\n",
              "      <th>19</th>\n",
              "      <th>20</th>\n",
              "    </tr>\n",
              "  </thead>\n",
              "  <tbody>\n",
              "    <tr>\n",
              "      <th>0</th>\n",
              "      <td>A11</td>\n",
              "      <td>6</td>\n",
              "      <td>A34</td>\n",
              "      <td>A43</td>\n",
              "      <td>1169</td>\n",
              "      <td>A65</td>\n",
              "      <td>A75</td>\n",
              "      <td>4</td>\n",
              "      <td>A93</td>\n",
              "      <td>A101</td>\n",
              "      <td>4</td>\n",
              "      <td>A121</td>\n",
              "      <td>67</td>\n",
              "      <td>A143</td>\n",
              "      <td>A152</td>\n",
              "      <td>2</td>\n",
              "      <td>A173</td>\n",
              "      <td>1</td>\n",
              "      <td>A192</td>\n",
              "      <td>A201</td>\n",
              "      <td>1</td>\n",
              "    </tr>\n",
              "    <tr>\n",
              "      <th>1</th>\n",
              "      <td>A12</td>\n",
              "      <td>48</td>\n",
              "      <td>A32</td>\n",
              "      <td>A43</td>\n",
              "      <td>5951</td>\n",
              "      <td>A61</td>\n",
              "      <td>A73</td>\n",
              "      <td>2</td>\n",
              "      <td>A92</td>\n",
              "      <td>A101</td>\n",
              "      <td>2</td>\n",
              "      <td>A121</td>\n",
              "      <td>22</td>\n",
              "      <td>A143</td>\n",
              "      <td>A152</td>\n",
              "      <td>1</td>\n",
              "      <td>A173</td>\n",
              "      <td>1</td>\n",
              "      <td>A191</td>\n",
              "      <td>A201</td>\n",
              "      <td>2</td>\n",
              "    </tr>\n",
              "  </tbody>\n",
              "</table>\n",
              "</div>"
            ],
            "text/plain": [
              "    0   1    2    3     4    5    6   ...    14 15    16  17    18    19 20\n",
              "0  A11   6  A34  A43  1169  A65  A75  ...  A152  2  A173   1  A192  A201  1\n",
              "1  A12  48  A32  A43  5951  A61  A73  ...  A152  1  A173   1  A191  A201  2\n",
              "\n",
              "[2 rows x 21 columns]"
            ]
          },
          "metadata": {
            "tags": []
          },
          "execution_count": 3
        }
      ]
    },
    {
      "cell_type": "markdown",
      "metadata": {
        "id": "7eIqFFJT7fGm",
        "colab_type": "text"
      },
      "source": [
        "# Data Exploration"
      ]
    },
    {
      "cell_type": "markdown",
      "metadata": {
        "id": "IeswhxbV4rv6",
        "colab_type": "text"
      },
      "source": [
        "In order to better define how the dataset is done, let's see some characteristics of features and data.\n",
        "First, I have to rename all the columns because the original dataset haven't the header. So, starting from the description available in the original page, the resulting dataset is:"
      ]
    },
    {
      "cell_type": "code",
      "metadata": {
        "id": "NFyBGGF-321U",
        "colab_type": "code",
        "colab": {
          "base_uri": "https://localhost:8080/",
          "height": 127
        },
        "outputId": "bff1d7e4-75c9-47fa-8697-4b1b0816cf03"
      },
      "source": [
        "df.columns = ['checkingAccount','duration','creditHistory', 'purpose', 'creditAmount','savingsAcc','employmentTime', 'installmentPercIncome', \n",
        "              'status', 'otherFin', 'timeResidence', 'property' ,'age', 'otherInstallPlans' ,'housing' ,'numCredits', 'job', 'numOfMant', 'phone', 'foreignWorker', 'risk']\n",
        "df['risk'] = df['risk'] - 1 #(0 = Good, 1 = Bad)\n",
        "df.head(2)"
      ],
      "execution_count": 4,
      "outputs": [
        {
          "output_type": "execute_result",
          "data": {
            "text/html": [
              "<div>\n",
              "<style scoped>\n",
              "    .dataframe tbody tr th:only-of-type {\n",
              "        vertical-align: middle;\n",
              "    }\n",
              "\n",
              "    .dataframe tbody tr th {\n",
              "        vertical-align: top;\n",
              "    }\n",
              "\n",
              "    .dataframe thead th {\n",
              "        text-align: right;\n",
              "    }\n",
              "</style>\n",
              "<table border=\"1\" class=\"dataframe\">\n",
              "  <thead>\n",
              "    <tr style=\"text-align: right;\">\n",
              "      <th></th>\n",
              "      <th>checkingAccount</th>\n",
              "      <th>duration</th>\n",
              "      <th>creditHistory</th>\n",
              "      <th>purpose</th>\n",
              "      <th>creditAmount</th>\n",
              "      <th>savingsAcc</th>\n",
              "      <th>employmentTime</th>\n",
              "      <th>installmentPercIncome</th>\n",
              "      <th>status</th>\n",
              "      <th>otherFin</th>\n",
              "      <th>timeResidence</th>\n",
              "      <th>property</th>\n",
              "      <th>age</th>\n",
              "      <th>otherInstallPlans</th>\n",
              "      <th>housing</th>\n",
              "      <th>numCredits</th>\n",
              "      <th>job</th>\n",
              "      <th>numOfMant</th>\n",
              "      <th>phone</th>\n",
              "      <th>foreignWorker</th>\n",
              "      <th>risk</th>\n",
              "    </tr>\n",
              "  </thead>\n",
              "  <tbody>\n",
              "    <tr>\n",
              "      <th>0</th>\n",
              "      <td>A11</td>\n",
              "      <td>6</td>\n",
              "      <td>A34</td>\n",
              "      <td>A43</td>\n",
              "      <td>1169</td>\n",
              "      <td>A65</td>\n",
              "      <td>A75</td>\n",
              "      <td>4</td>\n",
              "      <td>A93</td>\n",
              "      <td>A101</td>\n",
              "      <td>4</td>\n",
              "      <td>A121</td>\n",
              "      <td>67</td>\n",
              "      <td>A143</td>\n",
              "      <td>A152</td>\n",
              "      <td>2</td>\n",
              "      <td>A173</td>\n",
              "      <td>1</td>\n",
              "      <td>A192</td>\n",
              "      <td>A201</td>\n",
              "      <td>0</td>\n",
              "    </tr>\n",
              "    <tr>\n",
              "      <th>1</th>\n",
              "      <td>A12</td>\n",
              "      <td>48</td>\n",
              "      <td>A32</td>\n",
              "      <td>A43</td>\n",
              "      <td>5951</td>\n",
              "      <td>A61</td>\n",
              "      <td>A73</td>\n",
              "      <td>2</td>\n",
              "      <td>A92</td>\n",
              "      <td>A101</td>\n",
              "      <td>2</td>\n",
              "      <td>A121</td>\n",
              "      <td>22</td>\n",
              "      <td>A143</td>\n",
              "      <td>A152</td>\n",
              "      <td>1</td>\n",
              "      <td>A173</td>\n",
              "      <td>1</td>\n",
              "      <td>A191</td>\n",
              "      <td>A201</td>\n",
              "      <td>1</td>\n",
              "    </tr>\n",
              "  </tbody>\n",
              "</table>\n",
              "</div>"
            ],
            "text/plain": [
              "  checkingAccount  duration creditHistory  ... phone  foreignWorker risk\n",
              "0             A11         6           A34  ...  A192           A201    0\n",
              "1             A12        48           A32  ...  A191           A201    1\n",
              "\n",
              "[2 rows x 21 columns]"
            ]
          },
          "metadata": {
            "tags": []
          },
          "execution_count": 4
        }
      ]
    },
    {
      "cell_type": "markdown",
      "metadata": {
        "id": "y7tdQ37S_M2N",
        "colab_type": "text"
      },
      "source": [
        "The description says that the dataset does not allow for null values. Let's check it:"
      ]
    },
    {
      "cell_type": "code",
      "metadata": {
        "id": "9G9HQaZa_YJk",
        "colab_type": "code",
        "colab": {
          "base_uri": "https://localhost:8080/",
          "height": 34
        },
        "outputId": "9bbcc347-bf18-4a58-fd56-7be1e5159ce8"
      },
      "source": [
        "df.isnull().values.any()"
      ],
      "execution_count": 5,
      "outputs": [
        {
          "output_type": "execute_result",
          "data": {
            "text/plain": [
              "False"
            ]
          },
          "metadata": {
            "tags": []
          },
          "execution_count": 5
        }
      ]
    },
    {
      "cell_type": "code",
      "metadata": {
        "id": "ZfjRjR9f0hgn",
        "colab_type": "code",
        "colab": {}
      },
      "source": [
        "df['risk'] = df['risk'].astype('category')"
      ],
      "execution_count": 6,
      "outputs": []
    },
    {
      "cell_type": "markdown",
      "metadata": {
        "id": "yfJXeVgVGFYy",
        "colab_type": "text"
      },
      "source": [
        "## Numerical Data"
      ]
    },
    {
      "cell_type": "markdown",
      "metadata": {
        "id": "oK1_43XaA0b1",
        "colab_type": "text"
      },
      "source": [
        "The dataset is composed both from numerical and categorical attributes.\n",
        "\n",
        "It is possbile to analize numerical ones by using the method describe, which print the following stats:\n",
        "\n",
        "\n",
        "*   **Count** the total number of instances\n",
        "*   **Mean** of all the instances\n",
        "*   **Std** of all the instances\n",
        "*   **Min** return the minimum value \n",
        "*   **25%, 50%, 75%** are percentile values for each attribute\n",
        "*   **Max** return the maximum value\n",
        "\n"
      ]
    },
    {
      "cell_type": "code",
      "metadata": {
        "id": "6Ux0RSq-fn1J",
        "colab_type": "code",
        "colab": {
          "base_uri": "https://localhost:8080/",
          "height": 287
        },
        "outputId": "e5f57f49-860f-4cb3-eb18-ef2e4c330da4"
      },
      "source": [
        "df.describe()"
      ],
      "execution_count": 7,
      "outputs": [
        {
          "output_type": "execute_result",
          "data": {
            "text/html": [
              "<div>\n",
              "<style scoped>\n",
              "    .dataframe tbody tr th:only-of-type {\n",
              "        vertical-align: middle;\n",
              "    }\n",
              "\n",
              "    .dataframe tbody tr th {\n",
              "        vertical-align: top;\n",
              "    }\n",
              "\n",
              "    .dataframe thead th {\n",
              "        text-align: right;\n",
              "    }\n",
              "</style>\n",
              "<table border=\"1\" class=\"dataframe\">\n",
              "  <thead>\n",
              "    <tr style=\"text-align: right;\">\n",
              "      <th></th>\n",
              "      <th>duration</th>\n",
              "      <th>creditAmount</th>\n",
              "      <th>installmentPercIncome</th>\n",
              "      <th>timeResidence</th>\n",
              "      <th>age</th>\n",
              "      <th>numCredits</th>\n",
              "      <th>numOfMant</th>\n",
              "    </tr>\n",
              "  </thead>\n",
              "  <tbody>\n",
              "    <tr>\n",
              "      <th>count</th>\n",
              "      <td>1000.000000</td>\n",
              "      <td>1000.000000</td>\n",
              "      <td>1000.000000</td>\n",
              "      <td>1000.000000</td>\n",
              "      <td>1000.000000</td>\n",
              "      <td>1000.000000</td>\n",
              "      <td>1000.000000</td>\n",
              "    </tr>\n",
              "    <tr>\n",
              "      <th>mean</th>\n",
              "      <td>20.903000</td>\n",
              "      <td>3271.258000</td>\n",
              "      <td>2.973000</td>\n",
              "      <td>2.845000</td>\n",
              "      <td>35.546000</td>\n",
              "      <td>1.407000</td>\n",
              "      <td>1.155000</td>\n",
              "    </tr>\n",
              "    <tr>\n",
              "      <th>std</th>\n",
              "      <td>12.058814</td>\n",
              "      <td>2822.736876</td>\n",
              "      <td>1.118715</td>\n",
              "      <td>1.103718</td>\n",
              "      <td>11.375469</td>\n",
              "      <td>0.577654</td>\n",
              "      <td>0.362086</td>\n",
              "    </tr>\n",
              "    <tr>\n",
              "      <th>min</th>\n",
              "      <td>4.000000</td>\n",
              "      <td>250.000000</td>\n",
              "      <td>1.000000</td>\n",
              "      <td>1.000000</td>\n",
              "      <td>19.000000</td>\n",
              "      <td>1.000000</td>\n",
              "      <td>1.000000</td>\n",
              "    </tr>\n",
              "    <tr>\n",
              "      <th>25%</th>\n",
              "      <td>12.000000</td>\n",
              "      <td>1365.500000</td>\n",
              "      <td>2.000000</td>\n",
              "      <td>2.000000</td>\n",
              "      <td>27.000000</td>\n",
              "      <td>1.000000</td>\n",
              "      <td>1.000000</td>\n",
              "    </tr>\n",
              "    <tr>\n",
              "      <th>50%</th>\n",
              "      <td>18.000000</td>\n",
              "      <td>2319.500000</td>\n",
              "      <td>3.000000</td>\n",
              "      <td>3.000000</td>\n",
              "      <td>33.000000</td>\n",
              "      <td>1.000000</td>\n",
              "      <td>1.000000</td>\n",
              "    </tr>\n",
              "    <tr>\n",
              "      <th>75%</th>\n",
              "      <td>24.000000</td>\n",
              "      <td>3972.250000</td>\n",
              "      <td>4.000000</td>\n",
              "      <td>4.000000</td>\n",
              "      <td>42.000000</td>\n",
              "      <td>2.000000</td>\n",
              "      <td>1.000000</td>\n",
              "    </tr>\n",
              "    <tr>\n",
              "      <th>max</th>\n",
              "      <td>72.000000</td>\n",
              "      <td>18424.000000</td>\n",
              "      <td>4.000000</td>\n",
              "      <td>4.000000</td>\n",
              "      <td>75.000000</td>\n",
              "      <td>4.000000</td>\n",
              "      <td>2.000000</td>\n",
              "    </tr>\n",
              "  </tbody>\n",
              "</table>\n",
              "</div>"
            ],
            "text/plain": [
              "          duration  creditAmount  ...   numCredits    numOfMant\n",
              "count  1000.000000   1000.000000  ...  1000.000000  1000.000000\n",
              "mean     20.903000   3271.258000  ...     1.407000     1.155000\n",
              "std      12.058814   2822.736876  ...     0.577654     0.362086\n",
              "min       4.000000    250.000000  ...     1.000000     1.000000\n",
              "25%      12.000000   1365.500000  ...     1.000000     1.000000\n",
              "50%      18.000000   2319.500000  ...     1.000000     1.000000\n",
              "75%      24.000000   3972.250000  ...     2.000000     1.000000\n",
              "max      72.000000  18424.000000  ...     4.000000     2.000000\n",
              "\n",
              "[8 rows x 7 columns]"
            ]
          },
          "metadata": {
            "tags": []
          },
          "execution_count": 7
        }
      ]
    },
    {
      "cell_type": "markdown",
      "metadata": {
        "id": "IMkMZ68NNj8B",
        "colab_type": "text"
      },
      "source": [
        "Let's make some observations about other features:\n",
        "*   *Duration* hasn't strange values, data are well distributed into the interval of values.\n",
        "*   *CreditAmount* has a large standard deviation, a possible approach in order to identify possible wrong data is to visualize it by grouping for Purpose.\n",
        "*   *Age* has as minimum value 19 years and as maximum value 75 year, so it perfectly fit expectations.\n",
        "\n",
        "\n"
      ]
    },
    {
      "cell_type": "code",
      "metadata": {
        "id": "_mvNG7VRBPqA",
        "colab_type": "code",
        "colab": {
          "base_uri": "https://localhost:8080/",
          "height": 846
        },
        "outputId": "19109e55-6f9f-4c86-8707-075088c43ffb"
      },
      "source": [
        "numerical = df.select_dtypes(include=['int64'])\n",
        "numerical = (numerical-numerical.mean())/numerical.std()\n",
        "corr = numerical.corr()\n",
        "plt.figure(figsize = (12,12))\n",
        "sns.heatmap(corr, annot = True, \n",
        "            vmin = -1, vmax = 1, center = 0,\n",
        "            cmap = sns.diverging_palette(20, 220, n = 200))\n",
        "plt.title('Correlation Heatmap', fontsize = 24)"
      ],
      "execution_count": 8,
      "outputs": [
        {
          "output_type": "execute_result",
          "data": {
            "text/plain": [
              "Text(0.5, 1.0, 'Correlation Heatmap')"
            ]
          },
          "metadata": {
            "tags": []
          },
          "execution_count": 8
        },
        {
          "output_type": "display_data",
          "data": {
            "image/png": "[encoded data removed]",
            "text/plain": [
              "<Figure size 864x864 with 2 Axes>"
            ]
          },
          "metadata": {
            "tags": [],
            "needs_background": "light"
          }
        }
      ]
    },
    {
      "cell_type": "markdown",
      "metadata": {
        "id": "ZWBJ_JziC3dD",
        "colab_type": "text"
      },
      "source": [
        "The correlation map shows that, as expected, the highest correlation is the one between duration and creditAmount; there are not other important correlations"
      ]
    },
    {
      "cell_type": "markdown",
      "metadata": {
        "id": "ghVC2AcmGMdm",
        "colab_type": "text"
      },
      "source": [
        "## Categorical Data"
      ]
    },
    {
      "cell_type": "markdown",
      "metadata": {
        "id": "aTYbSeaiCW8D",
        "colab_type": "text"
      },
      "source": [
        "To analize categorical data it is possible to use the plot of frequencies:"
      ]
    },
    {
      "cell_type": "code",
      "metadata": {
        "id": "zj-Gzix9-i6w",
        "colab_type": "code",
        "colab": {
          "base_uri": "https://localhost:8080/",
          "height": 295
        },
        "outputId": "9dc68545-e6c9-4d91-ad98-52f13473cfd1"
      },
      "source": [
        "sns.countplot('creditHistory', data=df)\n",
        "plt.title('Credit History', fontsize=14)\n",
        "plt.show()"
      ],
      "execution_count": 9,
      "outputs": [
        {
          "output_type": "display_data",
          "data": {
            "image/png": "[encoded data removed]",
            "text/plain": [
              "<Figure size 432x288 with 1 Axes>"
            ]
          },
          "metadata": {
            "tags": [],
            "needs_background": "light"
          }
        }
      ]
    },
    {
      "cell_type": "markdown",
      "metadata": {
        "id": "B_Xl-oOPS71D",
        "colab_type": "text"
      },
      "source": [
        "Credit history\n",
        "\n",
        "*    A30 : no credits taken/ all credits paid back duly\n",
        "*    A31 : all credits at this bank paid back duly\n",
        "*    A32 : existing credits paid back duly till now\n",
        "*    A33 : delay in paying off in the past\n",
        "*    A34 : critical account/ other credits existing (not at this bank)"
      ]
    },
    {
      "cell_type": "code",
      "metadata": {
        "id": "4UAyD3gTDiNY",
        "colab_type": "code",
        "colab": {
          "base_uri": "https://localhost:8080/",
          "height": 295
        },
        "outputId": "4e44abba-b43d-4d4a-b341-74db53ae4ef5"
      },
      "source": [
        "sns.countplot('checkingAccount', data=df)\n",
        "plt.title('Checking account', fontsize=14)\n",
        "plt.show()"
      ],
      "execution_count": 10,
      "outputs": [
        {
          "output_type": "display_data",
          "data": {
            "image/png": "[encoded data removed]",
            "text/plain": [
              "<Figure size 432x288 with 1 Axes>"
            ]
          },
          "metadata": {
            "tags": [],
            "needs_background": "light"
          }
        }
      ]
    },
    {
      "cell_type": "markdown",
      "metadata": {
        "id": "j4dAiKSvTMt3",
        "colab_type": "text"
      },
      "source": [
        "Status of existing checking account\n",
        "* A11 : ... < 0 DM\n",
        "* A12 : 0 <= ... < 200 DM\n",
        "* A13 : ... >= 200 DM / salary assignments for at least 1 year\n",
        "* A14 : no checking account"
      ]
    },
    {
      "cell_type": "code",
      "metadata": {
        "id": "bnaLiRB_DO3E",
        "colab_type": "code",
        "colab": {
          "base_uri": "https://localhost:8080/",
          "height": 295
        },
        "outputId": "273b63c0-4f78-4f40-94ce-bbad26cbfdbe"
      },
      "source": [
        "sns.countplot('purpose', data=df)\n",
        "plt.title('Purpose', fontsize=14)\n",
        "plt.show()"
      ],
      "execution_count": 11,
      "outputs": [
        {
          "output_type": "display_data",
          "data": {
            "image/png": "[encoded data removed]",
            "text/plain": [
              "<Figure size 432x288 with 1 Axes>"
            ]
          },
          "metadata": {
            "tags": [],
            "needs_background": "light"
          }
        }
      ]
    },
    {
      "cell_type": "markdown",
      "metadata": {
        "id": "d4WpzHMcTTTZ",
        "colab_type": "text"
      },
      "source": [
        "Purpose\n",
        "* A40 : car (new)\n",
        "* A41 : car (used)\n",
        "* A42 : furniture/equipment\n",
        "* A43 : radio/television\n",
        "* A44 : domestic appliances\n",
        "* A45 : repairs\n",
        "* A46 : education\n",
        "* A47 : (vacation - does not exist?)\n",
        "* A48 : retraining\n",
        "* A49 : business\n",
        "* A410 : others"
      ]
    },
    {
      "cell_type": "code",
      "metadata": {
        "id": "3O3_NgPnDpT3",
        "colab_type": "code",
        "colab": {
          "base_uri": "https://localhost:8080/",
          "height": 295
        },
        "outputId": "3c4a6003-9c1e-4132-d0c1-0f393cf1d465"
      },
      "source": [
        "sns.countplot('savingsAcc', data=df)\n",
        "plt.title('Savings Accounts', fontsize=14)\n",
        "plt.show()"
      ],
      "execution_count": 12,
      "outputs": [
        {
          "output_type": "display_data",
          "data": {
            "image/png": "[encoded data removed]",
            "text/plain": [
              "<Figure size 432x288 with 1 Axes>"
            ]
          },
          "metadata": {
            "tags": [],
            "needs_background": "light"
          }
        }
      ]
    },
    {
      "cell_type": "markdown",
      "metadata": {
        "id": "P5evrDMpTZ0V",
        "colab_type": "text"
      },
      "source": [
        "Savings account/bonds\n",
        "* A61 : ... < 100 DM\n",
        "* A62 : 100 <= ... < 500 DM\n",
        "* A63 : 500 <= ... < 1000 DM\n",
        "* A64 : .. >= 1000 DM\n",
        "* A65 : unknown/ no savings account\n"
      ]
    },
    {
      "cell_type": "code",
      "metadata": {
        "id": "gJntEPwTDuzu",
        "colab_type": "code",
        "colab": {
          "base_uri": "https://localhost:8080/",
          "height": 295
        },
        "outputId": "4fe729ad-196c-4e5e-81c6-a37c423ba07b"
      },
      "source": [
        "sns.countplot('employmentTime', data=df)\n",
        "plt.title('Present employment since', fontsize=14)\n",
        "plt.show()"
      ],
      "execution_count": 13,
      "outputs": [
        {
          "output_type": "display_data",
          "data": {
            "image/png": "[encoded data removed]",
            "text/plain": [
              "<Figure size 432x288 with 1 Axes>"
            ]
          },
          "metadata": {
            "tags": [],
            "needs_background": "light"
          }
        }
      ]
    },
    {
      "cell_type": "markdown",
      "metadata": {
        "id": "RzZjzZK4TfHS",
        "colab_type": "text"
      },
      "source": [
        "Present employment since\n",
        "* A71 : unemployed\n",
        "* A72 : ... < 1 year\n",
        "* A73 : 1 <= ... < 4 years\n",
        "* A74 : 4 <= ... < 7 years\n",
        "* A75 : .. >= 7 years"
      ]
    },
    {
      "cell_type": "code",
      "metadata": {
        "id": "UMFyZiIiD4U6",
        "colab_type": "code",
        "colab": {
          "base_uri": "https://localhost:8080/",
          "height": 295
        },
        "outputId": "25b63c18-9f18-46d0-938e-1cc55e4fc5dc"
      },
      "source": [
        "sns.countplot('status', data=df)\n",
        "plt.title('Personal status and sex', fontsize=14)\n",
        "plt.show()"
      ],
      "execution_count": 14,
      "outputs": [
        {
          "output_type": "display_data",
          "data": {
            "image/png": "[encoded data removed]",
            "text/plain": [
              "<Figure size 432x288 with 1 Axes>"
            ]
          },
          "metadata": {
            "tags": [],
            "needs_background": "light"
          }
        }
      ]
    },
    {
      "cell_type": "markdown",
      "metadata": {
        "id": "eUrq0YwnTl_y",
        "colab_type": "text"
      },
      "source": [
        "Personal status and sex\n",
        "* A91 : male : divorced/separated\n",
        "* A92 : female : divorced/separated/married\n",
        "* A93 : male : single\n",
        "* A94 : male : married/widowed\n",
        "* A95 : female : single"
      ]
    },
    {
      "cell_type": "code",
      "metadata": {
        "id": "3zFw7C2QD_io",
        "colab_type": "code",
        "colab": {
          "base_uri": "https://localhost:8080/",
          "height": 295
        },
        "outputId": "6c60ba55-96d1-47cd-9eeb-c80582753d5a"
      },
      "source": [
        "sns.countplot('otherFin', data=df)\n",
        "plt.title('Other debtors / guarantors', fontsize=14)\n",
        "plt.show()"
      ],
      "execution_count": 15,
      "outputs": [
        {
          "output_type": "display_data",
          "data": {
            "image/png": "[encoded data removed]",
            "text/plain": [
              "<Figure size 432x288 with 1 Axes>"
            ]
          },
          "metadata": {
            "tags": [],
            "needs_background": "light"
          }
        }
      ]
    },
    {
      "cell_type": "markdown",
      "metadata": {
        "id": "zKCmg85NTt1v",
        "colab_type": "text"
      },
      "source": [
        "Other debtors / guarantors\n",
        "* A101 : none\n",
        "* A102 : co-applicant\n",
        "* A103 : guarantor \n"
      ]
    },
    {
      "cell_type": "code",
      "metadata": {
        "id": "sOFACL2NEGaC",
        "colab_type": "code",
        "colab": {
          "base_uri": "https://localhost:8080/",
          "height": 295
        },
        "outputId": "42c68b7e-869a-4549-8c8e-ee83b512e7aa"
      },
      "source": [
        "sns.countplot('property', data=df)\n",
        "plt.title('Property', fontsize=14)\n",
        "plt.show()"
      ],
      "execution_count": 16,
      "outputs": [
        {
          "output_type": "display_data",
          "data": {
            "image/png": "[encoded data removed]",
            "text/plain": [
              "<Figure size 432x288 with 1 Axes>"
            ]
          },
          "metadata": {
            "tags": [],
            "needs_background": "light"
          }
        }
      ]
    },
    {
      "cell_type": "markdown",
      "metadata": {
        "id": "MvNDIIYVfciC",
        "colab_type": "text"
      },
      "source": [
        "Property\n",
        "* A121 : real estate\n",
        "* A122 : if not A121 : building society savings agreement/ life insurance\n",
        "* A123 : if not A121/A122 : car or other, not in attribute 6\n",
        "* A124 : unknown / no property\n"
      ]
    },
    {
      "cell_type": "code",
      "metadata": {
        "id": "yyAiXxFCEP4y",
        "colab_type": "code",
        "colab": {
          "base_uri": "https://localhost:8080/",
          "height": 295
        },
        "outputId": "dc81aec0-cf1b-4a65-96f0-5c4297cd3d46"
      },
      "source": [
        "sns.countplot('otherInstallPlans', data=df)\n",
        "plt.title('Other installment plans', fontsize=14)\n",
        "plt.show()"
      ],
      "execution_count": 17,
      "outputs": [
        {
          "output_type": "display_data",
          "data": {
            "image/png": "[encoded data removed]",
            "text/plain": [
              "<Figure size 432x288 with 1 Axes>"
            ]
          },
          "metadata": {
            "tags": [],
            "needs_background": "light"
          }
        }
      ]
    },
    {
      "cell_type": "markdown",
      "metadata": {
        "id": "bNRhauojfo5S",
        "colab_type": "text"
      },
      "source": [
        "Other installment plans\n",
        "* A141 : bank\n",
        "* A142 : stores\n",
        "* A143 : none"
      ]
    },
    {
      "cell_type": "code",
      "metadata": {
        "id": "XtNVnvcHEapG",
        "colab_type": "code",
        "colab": {
          "base_uri": "https://localhost:8080/",
          "height": 295
        },
        "outputId": "8b0c734f-2571-4819-ee1f-ad97831b3973"
      },
      "source": [
        "sns.countplot('housing', data=df)\n",
        "plt.title('Housing', fontsize=14)\n",
        "plt.show()"
      ],
      "execution_count": 18,
      "outputs": [
        {
          "output_type": "display_data",
          "data": {
            "image/png": "[encoded data removed]",
            "text/plain": [
              "<Figure size 432x288 with 1 Axes>"
            ]
          },
          "metadata": {
            "tags": [],
            "needs_background": "light"
          }
        }
      ]
    },
    {
      "cell_type": "markdown",
      "metadata": {
        "id": "pNraKyZOftEz",
        "colab_type": "text"
      },
      "source": [
        "Housing\n",
        "* A151 : rent\n",
        "* A152 : own\n",
        "* A153 : for free"
      ]
    },
    {
      "cell_type": "code",
      "metadata": {
        "id": "Dzi-09vdEeXw",
        "colab_type": "code",
        "colab": {
          "base_uri": "https://localhost:8080/",
          "height": 295
        },
        "outputId": "70e21048-a57a-40eb-b517-c47a09f330ad"
      },
      "source": [
        "sns.countplot('job', data=df)\n",
        "plt.title('Job', fontsize=14)\n",
        "plt.show()"
      ],
      "execution_count": 19,
      "outputs": [
        {
          "output_type": "display_data",
          "data": {
            "image/png": "[encoded data removed]",
            "text/plain": [
              "<Figure size 432x288 with 1 Axes>"
            ]
          },
          "metadata": {
            "tags": [],
            "needs_background": "light"
          }
        }
      ]
    },
    {
      "cell_type": "markdown",
      "metadata": {
        "id": "cf3i_nR5fyEe",
        "colab_type": "text"
      },
      "source": [
        "Job\n",
        "* A171 : unemployed/ unskilled - non-resident\n",
        "* A172 : unskilled - resident\n",
        "* A173 : skilled employee / official\n",
        "* A174 : management/ self-employed/highly qualified employee/ officer"
      ]
    },
    {
      "cell_type": "code",
      "metadata": {
        "id": "S-boeqI0Eh9C",
        "colab_type": "code",
        "colab": {
          "base_uri": "https://localhost:8080/",
          "height": 295
        },
        "outputId": "d0cc2997-c6f5-42a8-c362-d5d7a15868f8"
      },
      "source": [
        "sns.countplot('phone', data=df)\n",
        "plt.title('Telephone', fontsize=14)\n",
        "plt.show()"
      ],
      "execution_count": 20,
      "outputs": [
        {
          "output_type": "display_data",
          "data": {
            "image/png": "[encoded data removed]",
            "text/plain": [
              "<Figure size 432x288 with 1 Axes>"
            ]
          },
          "metadata": {
            "tags": [],
            "needs_background": "light"
          }
        }
      ]
    },
    {
      "cell_type": "markdown",
      "metadata": {
        "id": "kUqQhBybf5Cz",
        "colab_type": "text"
      },
      "source": [
        "Telephone\n",
        "* A191 : none\n",
        "* A192 : yes, registered under the customers name"
      ]
    },
    {
      "cell_type": "code",
      "metadata": {
        "id": "-ZhJY3BWEl2N",
        "colab_type": "code",
        "colab": {
          "base_uri": "https://localhost:8080/",
          "height": 295
        },
        "outputId": "06154084-894e-473d-a315-6904c048625f"
      },
      "source": [
        "sns.countplot('foreignWorker', data=df)\n",
        "plt.title('Foreign worker', fontsize=14)\n",
        "plt.show()"
      ],
      "execution_count": 21,
      "outputs": [
        {
          "output_type": "display_data",
          "data": {
            "image/png": "[encoded data removed]",
            "text/plain": [
              "<Figure size 432x288 with 1 Axes>"
            ]
          },
          "metadata": {
            "tags": [],
            "needs_background": "light"
          }
        }
      ]
    },
    {
      "cell_type": "markdown",
      "metadata": {
        "id": "9dKGzgVkf9AA",
        "colab_type": "text"
      },
      "source": [
        "Foreign worker\n",
        "* A201 : yes\n",
        "* A202 : no"
      ]
    },
    {
      "cell_type": "markdown",
      "metadata": {
        "id": "lys4Eh1WFQq5",
        "colab_type": "text"
      },
      "source": [
        "From these plots, nothing of relevant has been detected.\n",
        "Let's take a look to the frequency plot for the risk value:"
      ]
    },
    {
      "cell_type": "code",
      "metadata": {
        "id": "Kd_DeFGs1d7r",
        "colab_type": "code",
        "colab": {
          "base_uri": "https://localhost:8080/",
          "height": 295
        },
        "outputId": "dbba66d5-810d-4af7-c0ab-52688daff672"
      },
      "source": [
        "sns.countplot('risk', data=df)\n",
        "plt.title('Risk Distribution', fontsize=14)\n",
        "plt.show()"
      ],
      "execution_count": 22,
      "outputs": [
        {
          "output_type": "display_data",
          "data": {
            "image/png": "[encoded data removed]",
            "text/plain": [
              "<Figure size 432x288 with 1 Axes>"
            ]
          },
          "metadata": {
            "tags": [],
            "needs_background": "light"
          }
        }
      ]
    },
    {
      "cell_type": "markdown",
      "metadata": {
        "id": "yRtK5pgcoL88",
        "colab_type": "text"
      },
      "source": [
        "As said before, the 2 categories are not perfectly balanced.\n",
        "Different approaches can be selected now. Let's take a look to outliers and other aspects of raw data, and then we will face this aspect."
      ]
    },
    {
      "cell_type": "markdown",
      "metadata": {
        "id": "ChMZ0anzF_Bj",
        "colab_type": "text"
      },
      "source": [
        "## Distribution and Outliers"
      ]
    },
    {
      "cell_type": "markdown",
      "metadata": {
        "id": "_-aCnkSepuOj",
        "colab_type": "text"
      },
      "source": [
        "The numerical attributes in German Credit Risk data have many outliers. Some plot can help to understand:"
      ]
    },
    {
      "cell_type": "code",
      "metadata": {
        "id": "7YIP_S8KGPwZ",
        "colab_type": "code",
        "colab": {
          "base_uri": "https://localhost:8080/",
          "height": 278
        },
        "outputId": "d64909c5-4bb3-4636-da0c-798889b6a52d"
      },
      "source": [
        "plt.boxplot(df['duration'], widths = 0.5)\n",
        "plt.ylabel('Duration of credist [Months]')\n",
        "plt.xlabel('Boxplot')\n",
        "plt.show()"
      ],
      "execution_count": 23,
      "outputs": [
        {
          "output_type": "display_data",
          "data": {
            "image/png": "[encoded data removed]",
            "text/plain": [
              "<Figure size 432x288 with 1 Axes>"
            ]
          },
          "metadata": {
            "tags": [],
            "needs_background": "light"
          }
        }
      ]
    },
    {
      "cell_type": "markdown",
      "metadata": {
        "id": "nYXnYJCjp6MD",
        "colab_type": "text"
      },
      "source": [
        "The average value for the duration of credits is 20 months, but some values are higher that 50. We can go deep and see if these values are trusted:"
      ]
    },
    {
      "cell_type": "code",
      "metadata": {
        "id": "KgiBnCGkOfYw",
        "colab_type": "code",
        "colab": {
          "base_uri": "https://localhost:8080/",
          "height": 547
        },
        "outputId": "a5f23417-9491-40ef-d1f4-4bc5848b9770"
      },
      "source": [
        "df[ df['duration'] > 50]"
      ],
      "execution_count": 24,
      "outputs": [
        {
          "output_type": "execute_result",
          "data": {
            "text/html": [
              "<div>\n",
              "<style scoped>\n",
              "    .dataframe tbody tr th:only-of-type {\n",
              "        vertical-align: middle;\n",
              "    }\n",
              "\n",
              "    .dataframe tbody tr th {\n",
              "        vertical-align: top;\n",
              "    }\n",
              "\n",
              "    .dataframe thead th {\n",
              "        text-align: right;\n",
              "    }\n",
              "</style>\n",
              "<table border=\"1\" class=\"dataframe\">\n",
              "  <thead>\n",
              "    <tr style=\"text-align: right;\">\n",
              "      <th></th>\n",
              "      <th>checkingAccount</th>\n",
              "      <th>duration</th>\n",
              "      <th>creditHistory</th>\n",
              "      <th>purpose</th>\n",
              "      <th>creditAmount</th>\n",
              "      <th>savingsAcc</th>\n",
              "      <th>employmentTime</th>\n",
              "      <th>installmentPercIncome</th>\n",
              "      <th>status</th>\n",
              "      <th>otherFin</th>\n",
              "      <th>timeResidence</th>\n",
              "      <th>property</th>\n",
              "      <th>age</th>\n",
              "      <th>otherInstallPlans</th>\n",
              "      <th>housing</th>\n",
              "      <th>numCredits</th>\n",
              "      <th>job</th>\n",
              "      <th>numOfMant</th>\n",
              "      <th>phone</th>\n",
              "      <th>foreignWorker</th>\n",
              "      <th>risk</th>\n",
              "    </tr>\n",
              "  </thead>\n",
              "  <tbody>\n",
              "    <tr>\n",
              "      <th>29</th>\n",
              "      <td>A11</td>\n",
              "      <td>60</td>\n",
              "      <td>A33</td>\n",
              "      <td>A49</td>\n",
              "      <td>6836</td>\n",
              "      <td>A61</td>\n",
              "      <td>A75</td>\n",
              "      <td>3</td>\n",
              "      <td>A93</td>\n",
              "      <td>A101</td>\n",
              "      <td>4</td>\n",
              "      <td>A124</td>\n",
              "      <td>63</td>\n",
              "      <td>A143</td>\n",
              "      <td>A152</td>\n",
              "      <td>2</td>\n",
              "      <td>A173</td>\n",
              "      <td>1</td>\n",
              "      <td>A192</td>\n",
              "      <td>A201</td>\n",
              "      <td>1</td>\n",
              "    </tr>\n",
              "    <tr>\n",
              "      <th>78</th>\n",
              "      <td>A14</td>\n",
              "      <td>54</td>\n",
              "      <td>A30</td>\n",
              "      <td>A41</td>\n",
              "      <td>9436</td>\n",
              "      <td>A65</td>\n",
              "      <td>A73</td>\n",
              "      <td>2</td>\n",
              "      <td>A93</td>\n",
              "      <td>A101</td>\n",
              "      <td>2</td>\n",
              "      <td>A122</td>\n",
              "      <td>39</td>\n",
              "      <td>A143</td>\n",
              "      <td>A152</td>\n",
              "      <td>1</td>\n",
              "      <td>A172</td>\n",
              "      <td>2</td>\n",
              "      <td>A191</td>\n",
              "      <td>A201</td>\n",
              "      <td>0</td>\n",
              "    </tr>\n",
              "    <tr>\n",
              "      <th>95</th>\n",
              "      <td>A12</td>\n",
              "      <td>54</td>\n",
              "      <td>A30</td>\n",
              "      <td>A49</td>\n",
              "      <td>15945</td>\n",
              "      <td>A61</td>\n",
              "      <td>A72</td>\n",
              "      <td>3</td>\n",
              "      <td>A93</td>\n",
              "      <td>A101</td>\n",
              "      <td>4</td>\n",
              "      <td>A124</td>\n",
              "      <td>58</td>\n",
              "      <td>A143</td>\n",
              "      <td>A151</td>\n",
              "      <td>1</td>\n",
              "      <td>A173</td>\n",
              "      <td>1</td>\n",
              "      <td>A192</td>\n",
              "      <td>A201</td>\n",
              "      <td>1</td>\n",
              "    </tr>\n",
              "    <tr>\n",
              "      <th>134</th>\n",
              "      <td>A14</td>\n",
              "      <td>60</td>\n",
              "      <td>A32</td>\n",
              "      <td>A43</td>\n",
              "      <td>10144</td>\n",
              "      <td>A62</td>\n",
              "      <td>A74</td>\n",
              "      <td>2</td>\n",
              "      <td>A92</td>\n",
              "      <td>A101</td>\n",
              "      <td>4</td>\n",
              "      <td>A121</td>\n",
              "      <td>21</td>\n",
              "      <td>A143</td>\n",
              "      <td>A152</td>\n",
              "      <td>1</td>\n",
              "      <td>A173</td>\n",
              "      <td>1</td>\n",
              "      <td>A192</td>\n",
              "      <td>A201</td>\n",
              "      <td>0</td>\n",
              "    </tr>\n",
              "    <tr>\n",
              "      <th>255</th>\n",
              "      <td>A12</td>\n",
              "      <td>60</td>\n",
              "      <td>A33</td>\n",
              "      <td>A43</td>\n",
              "      <td>7418</td>\n",
              "      <td>A65</td>\n",
              "      <td>A73</td>\n",
              "      <td>1</td>\n",
              "      <td>A93</td>\n",
              "      <td>A101</td>\n",
              "      <td>1</td>\n",
              "      <td>A121</td>\n",
              "      <td>27</td>\n",
              "      <td>A143</td>\n",
              "      <td>A152</td>\n",
              "      <td>1</td>\n",
              "      <td>A172</td>\n",
              "      <td>1</td>\n",
              "      <td>A191</td>\n",
              "      <td>A201</td>\n",
              "      <td>0</td>\n",
              "    </tr>\n",
              "    <tr>\n",
              "      <th>332</th>\n",
              "      <td>A12</td>\n",
              "      <td>60</td>\n",
              "      <td>A32</td>\n",
              "      <td>A40</td>\n",
              "      <td>7408</td>\n",
              "      <td>A62</td>\n",
              "      <td>A72</td>\n",
              "      <td>4</td>\n",
              "      <td>A92</td>\n",
              "      <td>A101</td>\n",
              "      <td>2</td>\n",
              "      <td>A122</td>\n",
              "      <td>24</td>\n",
              "      <td>A143</td>\n",
              "      <td>A152</td>\n",
              "      <td>1</td>\n",
              "      <td>A174</td>\n",
              "      <td>1</td>\n",
              "      <td>A191</td>\n",
              "      <td>A201</td>\n",
              "      <td>1</td>\n",
              "    </tr>\n",
              "    <tr>\n",
              "      <th>373</th>\n",
              "      <td>A14</td>\n",
              "      <td>60</td>\n",
              "      <td>A34</td>\n",
              "      <td>A40</td>\n",
              "      <td>13756</td>\n",
              "      <td>A65</td>\n",
              "      <td>A75</td>\n",
              "      <td>2</td>\n",
              "      <td>A93</td>\n",
              "      <td>A101</td>\n",
              "      <td>4</td>\n",
              "      <td>A124</td>\n",
              "      <td>63</td>\n",
              "      <td>A141</td>\n",
              "      <td>A153</td>\n",
              "      <td>1</td>\n",
              "      <td>A174</td>\n",
              "      <td>1</td>\n",
              "      <td>A192</td>\n",
              "      <td>A201</td>\n",
              "      <td>0</td>\n",
              "    </tr>\n",
              "    <tr>\n",
              "      <th>374</th>\n",
              "      <td>A12</td>\n",
              "      <td>60</td>\n",
              "      <td>A31</td>\n",
              "      <td>A410</td>\n",
              "      <td>14782</td>\n",
              "      <td>A62</td>\n",
              "      <td>A75</td>\n",
              "      <td>3</td>\n",
              "      <td>A92</td>\n",
              "      <td>A101</td>\n",
              "      <td>4</td>\n",
              "      <td>A124</td>\n",
              "      <td>60</td>\n",
              "      <td>A141</td>\n",
              "      <td>A153</td>\n",
              "      <td>2</td>\n",
              "      <td>A174</td>\n",
              "      <td>1</td>\n",
              "      <td>A192</td>\n",
              "      <td>A201</td>\n",
              "      <td>1</td>\n",
              "    </tr>\n",
              "    <tr>\n",
              "      <th>616</th>\n",
              "      <td>A12</td>\n",
              "      <td>60</td>\n",
              "      <td>A33</td>\n",
              "      <td>A43</td>\n",
              "      <td>9157</td>\n",
              "      <td>A65</td>\n",
              "      <td>A73</td>\n",
              "      <td>2</td>\n",
              "      <td>A93</td>\n",
              "      <td>A101</td>\n",
              "      <td>2</td>\n",
              "      <td>A124</td>\n",
              "      <td>27</td>\n",
              "      <td>A143</td>\n",
              "      <td>A153</td>\n",
              "      <td>1</td>\n",
              "      <td>A174</td>\n",
              "      <td>1</td>\n",
              "      <td>A191</td>\n",
              "      <td>A201</td>\n",
              "      <td>0</td>\n",
              "    </tr>\n",
              "    <tr>\n",
              "      <th>637</th>\n",
              "      <td>A14</td>\n",
              "      <td>60</td>\n",
              "      <td>A33</td>\n",
              "      <td>A43</td>\n",
              "      <td>15653</td>\n",
              "      <td>A61</td>\n",
              "      <td>A74</td>\n",
              "      <td>2</td>\n",
              "      <td>A93</td>\n",
              "      <td>A101</td>\n",
              "      <td>4</td>\n",
              "      <td>A123</td>\n",
              "      <td>21</td>\n",
              "      <td>A143</td>\n",
              "      <td>A152</td>\n",
              "      <td>2</td>\n",
              "      <td>A173</td>\n",
              "      <td>1</td>\n",
              "      <td>A192</td>\n",
              "      <td>A201</td>\n",
              "      <td>0</td>\n",
              "    </tr>\n",
              "    <tr>\n",
              "      <th>672</th>\n",
              "      <td>A14</td>\n",
              "      <td>60</td>\n",
              "      <td>A32</td>\n",
              "      <td>A40</td>\n",
              "      <td>10366</td>\n",
              "      <td>A61</td>\n",
              "      <td>A75</td>\n",
              "      <td>2</td>\n",
              "      <td>A93</td>\n",
              "      <td>A101</td>\n",
              "      <td>4</td>\n",
              "      <td>A122</td>\n",
              "      <td>42</td>\n",
              "      <td>A143</td>\n",
              "      <td>A152</td>\n",
              "      <td>1</td>\n",
              "      <td>A174</td>\n",
              "      <td>1</td>\n",
              "      <td>A192</td>\n",
              "      <td>A201</td>\n",
              "      <td>0</td>\n",
              "    </tr>\n",
              "    <tr>\n",
              "      <th>677</th>\n",
              "      <td>A12</td>\n",
              "      <td>72</td>\n",
              "      <td>A32</td>\n",
              "      <td>A43</td>\n",
              "      <td>5595</td>\n",
              "      <td>A62</td>\n",
              "      <td>A73</td>\n",
              "      <td>2</td>\n",
              "      <td>A94</td>\n",
              "      <td>A101</td>\n",
              "      <td>2</td>\n",
              "      <td>A123</td>\n",
              "      <td>24</td>\n",
              "      <td>A143</td>\n",
              "      <td>A152</td>\n",
              "      <td>1</td>\n",
              "      <td>A173</td>\n",
              "      <td>1</td>\n",
              "      <td>A191</td>\n",
              "      <td>A201</td>\n",
              "      <td>1</td>\n",
              "    </tr>\n",
              "    <tr>\n",
              "      <th>685</th>\n",
              "      <td>A14</td>\n",
              "      <td>60</td>\n",
              "      <td>A32</td>\n",
              "      <td>A40</td>\n",
              "      <td>6527</td>\n",
              "      <td>A65</td>\n",
              "      <td>A73</td>\n",
              "      <td>4</td>\n",
              "      <td>A93</td>\n",
              "      <td>A101</td>\n",
              "      <td>4</td>\n",
              "      <td>A124</td>\n",
              "      <td>34</td>\n",
              "      <td>A143</td>\n",
              "      <td>A153</td>\n",
              "      <td>1</td>\n",
              "      <td>A173</td>\n",
              "      <td>2</td>\n",
              "      <td>A192</td>\n",
              "      <td>A201</td>\n",
              "      <td>0</td>\n",
              "    </tr>\n",
              "    <tr>\n",
              "      <th>714</th>\n",
              "      <td>A12</td>\n",
              "      <td>60</td>\n",
              "      <td>A32</td>\n",
              "      <td>A40</td>\n",
              "      <td>14027</td>\n",
              "      <td>A61</td>\n",
              "      <td>A74</td>\n",
              "      <td>4</td>\n",
              "      <td>A93</td>\n",
              "      <td>A101</td>\n",
              "      <td>2</td>\n",
              "      <td>A124</td>\n",
              "      <td>27</td>\n",
              "      <td>A143</td>\n",
              "      <td>A152</td>\n",
              "      <td>1</td>\n",
              "      <td>A174</td>\n",
              "      <td>1</td>\n",
              "      <td>A192</td>\n",
              "      <td>A201</td>\n",
              "      <td>1</td>\n",
              "    </tr>\n",
              "    <tr>\n",
              "      <th>938</th>\n",
              "      <td>A12</td>\n",
              "      <td>60</td>\n",
              "      <td>A32</td>\n",
              "      <td>A46</td>\n",
              "      <td>6288</td>\n",
              "      <td>A61</td>\n",
              "      <td>A73</td>\n",
              "      <td>4</td>\n",
              "      <td>A93</td>\n",
              "      <td>A101</td>\n",
              "      <td>4</td>\n",
              "      <td>A124</td>\n",
              "      <td>42</td>\n",
              "      <td>A143</td>\n",
              "      <td>A153</td>\n",
              "      <td>1</td>\n",
              "      <td>A173</td>\n",
              "      <td>1</td>\n",
              "      <td>A191</td>\n",
              "      <td>A201</td>\n",
              "      <td>1</td>\n",
              "    </tr>\n",
              "    <tr>\n",
              "      <th>973</th>\n",
              "      <td>A11</td>\n",
              "      <td>60</td>\n",
              "      <td>A32</td>\n",
              "      <td>A49</td>\n",
              "      <td>7297</td>\n",
              "      <td>A61</td>\n",
              "      <td>A75</td>\n",
              "      <td>4</td>\n",
              "      <td>A93</td>\n",
              "      <td>A102</td>\n",
              "      <td>4</td>\n",
              "      <td>A124</td>\n",
              "      <td>36</td>\n",
              "      <td>A143</td>\n",
              "      <td>A151</td>\n",
              "      <td>1</td>\n",
              "      <td>A173</td>\n",
              "      <td>1</td>\n",
              "      <td>A191</td>\n",
              "      <td>A201</td>\n",
              "      <td>1</td>\n",
              "    </tr>\n",
              "  </tbody>\n",
              "</table>\n",
              "</div>"
            ],
            "text/plain": [
              "    checkingAccount  duration creditHistory  ... phone  foreignWorker risk\n",
              "29              A11        60           A33  ...  A192           A201    1\n",
              "78              A14        54           A30  ...  A191           A201    0\n",
              "95              A12        54           A30  ...  A192           A201    1\n",
              "134             A14        60           A32  ...  A192           A201    0\n",
              "255             A12        60           A33  ...  A191           A201    0\n",
              "332             A12        60           A32  ...  A191           A201    1\n",
              "373             A14        60           A34  ...  A192           A201    0\n",
              "374             A12        60           A31  ...  A192           A201    1\n",
              "616             A12        60           A33  ...  A191           A201    0\n",
              "637             A14        60           A33  ...  A192           A201    0\n",
              "672             A14        60           A32  ...  A192           A201    0\n",
              "677             A12        72           A32  ...  A191           A201    1\n",
              "685             A14        60           A32  ...  A192           A201    0\n",
              "714             A12        60           A32  ...  A192           A201    1\n",
              "938             A12        60           A32  ...  A191           A201    1\n",
              "973             A11        60           A32  ...  A191           A201    1\n",
              "\n",
              "[16 rows x 21 columns]"
            ]
          },
          "metadata": {
            "tags": []
          },
          "execution_count": 24
        }
      ]
    },
    {
      "cell_type": "markdown",
      "metadata": {
        "id": "Cc36i6SNqd2s",
        "colab_type": "text"
      },
      "source": [
        "We can see that there is not a recurrent pattern in this data, so we have no reasons to don't trust it."
      ]
    },
    {
      "cell_type": "code",
      "metadata": {
        "id": "CCQYSGbZGaG2",
        "colab_type": "code",
        "colab": {
          "base_uri": "https://localhost:8080/",
          "height": 278
        },
        "outputId": "73436205-430d-4598-8a74-26fa70b359cc"
      },
      "source": [
        "plt.boxplot(df['creditAmount'], widths = 0.5)\n",
        "plt.ylabel('Credit Amount')\n",
        "plt.xlabel('Boxplot')\n",
        "plt.show()"
      ],
      "execution_count": 25,
      "outputs": [
        {
          "output_type": "display_data",
          "data": {
            "image/png": "[encoded data removed]",
            "text/plain": [
              "<Figure size 432x288 with 1 Axes>"
            ]
          },
          "metadata": {
            "tags": [],
            "needs_background": "light"
          }
        }
      ]
    },
    {
      "cell_type": "code",
      "metadata": {
        "id": "67ShN3hzPZkP",
        "colab_type": "code",
        "colab": {
          "base_uri": "https://localhost:8080/",
          "height": 157
        },
        "outputId": "eba11941-c691-418a-dc3f-acc87dfebf1b"
      },
      "source": [
        "df[ df['creditAmount'] > 7500].set_index(['risk','creditAmount', 'duration']).count(level=\"risk\")"
      ],
      "execution_count": 26,
      "outputs": [
        {
          "output_type": "execute_result",
          "data": {
            "text/html": [
              "<div>\n",
              "<style scoped>\n",
              "    .dataframe tbody tr th:only-of-type {\n",
              "        vertical-align: middle;\n",
              "    }\n",
              "\n",
              "    .dataframe tbody tr th {\n",
              "        vertical-align: top;\n",
              "    }\n",
              "\n",
              "    .dataframe thead th {\n",
              "        text-align: right;\n",
              "    }\n",
              "</style>\n",
              "<table border=\"1\" class=\"dataframe\">\n",
              "  <thead>\n",
              "    <tr style=\"text-align: right;\">\n",
              "      <th></th>\n",
              "      <th>checkingAccount</th>\n",
              "      <th>creditHistory</th>\n",
              "      <th>purpose</th>\n",
              "      <th>savingsAcc</th>\n",
              "      <th>employmentTime</th>\n",
              "      <th>installmentPercIncome</th>\n",
              "      <th>status</th>\n",
              "      <th>otherFin</th>\n",
              "      <th>timeResidence</th>\n",
              "      <th>property</th>\n",
              "      <th>age</th>\n",
              "      <th>otherInstallPlans</th>\n",
              "      <th>housing</th>\n",
              "      <th>numCredits</th>\n",
              "      <th>job</th>\n",
              "      <th>numOfMant</th>\n",
              "      <th>phone</th>\n",
              "      <th>foreignWorker</th>\n",
              "    </tr>\n",
              "    <tr>\n",
              "      <th>risk</th>\n",
              "      <th></th>\n",
              "      <th></th>\n",
              "      <th></th>\n",
              "      <th></th>\n",
              "      <th></th>\n",
              "      <th></th>\n",
              "      <th></th>\n",
              "      <th></th>\n",
              "      <th></th>\n",
              "      <th></th>\n",
              "      <th></th>\n",
              "      <th></th>\n",
              "      <th></th>\n",
              "      <th></th>\n",
              "      <th></th>\n",
              "      <th></th>\n",
              "      <th></th>\n",
              "      <th></th>\n",
              "    </tr>\n",
              "  </thead>\n",
              "  <tbody>\n",
              "    <tr>\n",
              "      <th>0</th>\n",
              "      <td>42</td>\n",
              "      <td>42</td>\n",
              "      <td>42</td>\n",
              "      <td>42</td>\n",
              "      <td>42</td>\n",
              "      <td>42</td>\n",
              "      <td>42</td>\n",
              "      <td>42</td>\n",
              "      <td>42</td>\n",
              "      <td>42</td>\n",
              "      <td>42</td>\n",
              "      <td>42</td>\n",
              "      <td>42</td>\n",
              "      <td>42</td>\n",
              "      <td>42</td>\n",
              "      <td>42</td>\n",
              "      <td>42</td>\n",
              "      <td>42</td>\n",
              "    </tr>\n",
              "    <tr>\n",
              "      <th>1</th>\n",
              "      <td>44</td>\n",
              "      <td>44</td>\n",
              "      <td>44</td>\n",
              "      <td>44</td>\n",
              "      <td>44</td>\n",
              "      <td>44</td>\n",
              "      <td>44</td>\n",
              "      <td>44</td>\n",
              "      <td>44</td>\n",
              "      <td>44</td>\n",
              "      <td>44</td>\n",
              "      <td>44</td>\n",
              "      <td>44</td>\n",
              "      <td>44</td>\n",
              "      <td>44</td>\n",
              "      <td>44</td>\n",
              "      <td>44</td>\n",
              "      <td>44</td>\n",
              "    </tr>\n",
              "  </tbody>\n",
              "</table>\n",
              "</div>"
            ],
            "text/plain": [
              "      checkingAccount  creditHistory  purpose  ...  numOfMant  phone  foreignWorker\n",
              "risk                                           ...                                 \n",
              "0                  42             42       42  ...         42     42             42\n",
              "1                  44             44       44  ...         44     44             44\n",
              "\n",
              "[2 rows x 18 columns]"
            ]
          },
          "metadata": {
            "tags": []
          },
          "execution_count": 26
        }
      ]
    },
    {
      "cell_type": "markdown",
      "metadata": {
        "id": "2zpJPJe1vc-1",
        "colab_type": "text"
      },
      "source": [
        "## Correlations"
      ]
    },
    {
      "cell_type": "markdown",
      "metadata": {
        "id": "L9vv_uA7DIDL",
        "colab_type": "text"
      },
      "source": [
        "Starting from the informations taked out from the heat map, we want to go deep into the analisys of them, in order to decide if some values can be dropped out from the dataset:"
      ]
    },
    {
      "cell_type": "code",
      "metadata": {
        "id": "kKF21vGUxBj7",
        "colab_type": "code",
        "colab": {
          "base_uri": "https://localhost:8080/",
          "height": 278
        },
        "outputId": "a207a86b-61cf-4452-a0e5-3d7b00eaf156"
      },
      "source": [
        "x = df['creditAmount']\n",
        "y = df['duration']\n",
        "plt.scatter(x, y, alpha=0.5)\n",
        "z = np.polyfit(x, y, 1)\n",
        "p = np.poly1d(z)\n",
        "plt.plot(x,p(x),\"black\")\n",
        "plt.xlabel('creditAmount')\n",
        "plt.ylabel('Duration')\n",
        "plt.show()"
      ],
      "execution_count": 27,
      "outputs": [
        {
          "output_type": "display_data",
          "data": {
            "image/png": "[encoded data removed]",
            "text/plain": [
              "<Figure size 432x288 with 1 Axes>"
            ]
          },
          "metadata": {
            "tags": [],
            "needs_background": "light"
          }
        }
      ]
    },
    {
      "cell_type": "markdown",
      "metadata": {
        "id": "Gp_436xkygXy",
        "colab_type": "text"
      },
      "source": [
        "As expected, the number of rates and the amount of credit are positivly correlated. But we can see different elements that have a high variance, so we cannot drop out one of the attributes as if has been completly represented by the other one"
      ]
    },
    {
      "cell_type": "markdown",
      "metadata": {
        "id": "8l36fZ-azMeL",
        "colab_type": "text"
      },
      "source": [
        "# Data Preparation"
      ]
    },
    {
      "cell_type": "markdown",
      "metadata": {
        "id": "OvYNIcMszSxT",
        "colab_type": "text"
      },
      "source": [
        "## One hot Encoding"
      ]
    },
    {
      "cell_type": "markdown",
      "metadata": {
        "id": "smWSfQX91lqo",
        "colab_type": "text"
      },
      "source": [
        "Apart from the target variabile, the dataset we use has now 7 numerical features and 13 categorical feature. Two of them are binary values, the others are nominal ones.\n",
        "\n",
        "There is something to do in order to work with the nominal values. \n",
        "One approach can be to map it into numerical value; so each level of a categorical feature corresponds to an integer value.\n",
        "The problem is that numerical values implies an order, but for our data this is not the correct approach.\n",
        "To overcame this problem, the most commonly technique used is one hot encoding. Each category value is converted into a new column: we assign 1 to the corresponding value and 0 to everything else.\n",
        "Let's look what happens in this case:"
      ]
    },
    {
      "cell_type": "code",
      "metadata": {
        "id": "ZfC_u5r94dmD",
        "colab_type": "code",
        "colab": {}
      },
      "source": [
        "categorical = ['checkingAccount', 'creditHistory', 'purpose', 'savingsAcc', 'employmentTime', 'status', 'otherFin', 'property', 'otherInstallPlans', 'housing', 'job']"
      ],
      "execution_count": 28,
      "outputs": []
    },
    {
      "cell_type": "code",
      "metadata": {
        "id": "ioBRg-hi6P6j",
        "colab_type": "code",
        "colab": {
          "base_uri": "https://localhost:8080/",
          "height": 426
        },
        "outputId": "edf7a923-26a3-4224-cf68-9bae3e0a9f54"
      },
      "source": [
        "Y = df['risk'].copy()\n",
        "oneHotDF = df.copy()\n",
        "oneHotDF.drop(['risk'],axis=1, inplace=True)\n",
        "\n",
        "for att in categorical:\n",
        "  oneHotDF = pd.concat([oneHotDF,pd.get_dummies(oneHotDF[att], prefix = att)], axis=1)\n",
        "  oneHotDF .drop([att],axis=1, inplace=True)\n",
        "oneHotDF"
      ],
      "execution_count": 29,
      "outputs": [
        {
          "output_type": "execute_result",
          "data": {
            "text/html": [
              "<div>\n",
              "<style scoped>\n",
              "    .dataframe tbody tr th:only-of-type {\n",
              "        vertical-align: middle;\n",
              "    }\n",
              "\n",
              "    .dataframe tbody tr th {\n",
              "        vertical-align: top;\n",
              "    }\n",
              "\n",
              "    .dataframe thead th {\n",
              "        text-align: right;\n",
              "    }\n",
              "</style>\n",
              "<table border=\"1\" class=\"dataframe\">\n",
              "  <thead>\n",
              "    <tr style=\"text-align: right;\">\n",
              "      <th></th>\n",
              "      <th>duration</th>\n",
              "      <th>creditAmount</th>\n",
              "      <th>installmentPercIncome</th>\n",
              "      <th>timeResidence</th>\n",
              "      <th>age</th>\n",
              "      <th>numCredits</th>\n",
              "      <th>numOfMant</th>\n",
              "      <th>phone</th>\n",
              "      <th>foreignWorker</th>\n",
              "      <th>checkingAccount_A11</th>\n",
              "      <th>checkingAccount_A12</th>\n",
              "      <th>checkingAccount_A13</th>\n",
              "      <th>checkingAccount_A14</th>\n",
              "      <th>creditHistory_A30</th>\n",
              "      <th>creditHistory_A31</th>\n",
              "      <th>creditHistory_A32</th>\n",
              "      <th>creditHistory_A33</th>\n",
              "      <th>creditHistory_A34</th>\n",
              "      <th>purpose_A40</th>\n",
              "      <th>purpose_A41</th>\n",
              "      <th>purpose_A410</th>\n",
              "      <th>purpose_A42</th>\n",
              "      <th>purpose_A43</th>\n",
              "      <th>purpose_A44</th>\n",
              "      <th>purpose_A45</th>\n",
              "      <th>purpose_A46</th>\n",
              "      <th>purpose_A48</th>\n",
              "      <th>purpose_A49</th>\n",
              "      <th>savingsAcc_A61</th>\n",
              "      <th>savingsAcc_A62</th>\n",
              "      <th>savingsAcc_A63</th>\n",
              "      <th>savingsAcc_A64</th>\n",
              "      <th>savingsAcc_A65</th>\n",
              "      <th>employmentTime_A71</th>\n",
              "      <th>employmentTime_A72</th>\n",
              "      <th>employmentTime_A73</th>\n",
              "      <th>employmentTime_A74</th>\n",
              "      <th>employmentTime_A75</th>\n",
              "      <th>status_A91</th>\n",
              "      <th>status_A92</th>\n",
              "      <th>status_A93</th>\n",
              "      <th>status_A94</th>\n",
              "      <th>otherFin_A101</th>\n",
              "      <th>otherFin_A102</th>\n",
              "      <th>otherFin_A103</th>\n",
              "      <th>property_A121</th>\n",
              "      <th>property_A122</th>\n",
              "      <th>property_A123</th>\n",
              "      <th>property_A124</th>\n",
              "      <th>otherInstallPlans_A141</th>\n",
              "      <th>otherInstallPlans_A142</th>\n",
              "      <th>otherInstallPlans_A143</th>\n",
              "      <th>housing_A151</th>\n",
              "      <th>housing_A152</th>\n",
              "      <th>housing_A153</th>\n",
              "      <th>job_A171</th>\n",
              "      <th>job_A172</th>\n",
              "      <th>job_A173</th>\n",
              "      <th>job_A174</th>\n",
              "    </tr>\n",
              "  </thead>\n",
              "  <tbody>\n",
              "    <tr>\n",
              "      <th>0</th>\n",
              "      <td>6</td>\n",
              "      <td>1169</td>\n",
              "      <td>4</td>\n",
              "      <td>4</td>\n",
              "      <td>67</td>\n",
              "      <td>2</td>\n",
              "      <td>1</td>\n",
              "      <td>A192</td>\n",
              "      <td>A201</td>\n",
              "      <td>1</td>\n",
              "      <td>0</td>\n",
              "      <td>0</td>\n",
              "      <td>0</td>\n",
              "      <td>0</td>\n",
              "      <td>0</td>\n",
              "      <td>0</td>\n",
              "      <td>0</td>\n",
              "      <td>1</td>\n",
              "      <td>0</td>\n",
              "      <td>0</td>\n",
              "      <td>0</td>\n",
              "      <td>0</td>\n",
              "      <td>1</td>\n",
              "      <td>0</td>\n",
              "      <td>0</td>\n",
              "      <td>0</td>\n",
              "      <td>0</td>\n",
              "      <td>0</td>\n",
              "      <td>0</td>\n",
              "      <td>0</td>\n",
              "      <td>0</td>\n",
              "      <td>0</td>\n",
              "      <td>1</td>\n",
              "      <td>0</td>\n",
              "      <td>0</td>\n",
              "      <td>0</td>\n",
              "      <td>0</td>\n",
              "      <td>1</td>\n",
              "      <td>0</td>\n",
              "      <td>0</td>\n",
              "      <td>1</td>\n",
              "      <td>0</td>\n",
              "      <td>1</td>\n",
              "      <td>0</td>\n",
              "      <td>0</td>\n",
              "      <td>1</td>\n",
              "      <td>0</td>\n",
              "      <td>0</td>\n",
              "      <td>0</td>\n",
              "      <td>0</td>\n",
              "      <td>0</td>\n",
              "      <td>1</td>\n",
              "      <td>0</td>\n",
              "      <td>1</td>\n",
              "      <td>0</td>\n",
              "      <td>0</td>\n",
              "      <td>0</td>\n",
              "      <td>1</td>\n",
              "      <td>0</td>\n",
              "    </tr>\n",
              "    <tr>\n",
              "      <th>1</th>\n",
              "      <td>48</td>\n",
              "      <td>5951</td>\n",
              "      <td>2</td>\n",
              "      <td>2</td>\n",
              "      <td>22</td>\n",
              "      <td>1</td>\n",
              "      <td>1</td>\n",
              "      <td>A191</td>\n",
              "      <td>A201</td>\n",
              "      <td>0</td>\n",
              "      <td>1</td>\n",
              "      <td>0</td>\n",
              "      <td>0</td>\n",
              "      <td>0</td>\n",
              "      <td>0</td>\n",
              "      <td>1</td>\n",
              "      <td>0</td>\n",
              "      <td>0</td>\n",
              "      <td>0</td>\n",
              "      <td>0</td>\n",
              "      <td>0</td>\n",
              "      <td>0</td>\n",
              "      <td>1</td>\n",
              "      <td>0</td>\n",
              "      <td>0</td>\n",
              "      <td>0</td>\n",
              "      <td>0</td>\n",
              "      <td>0</td>\n",
              "      <td>1</td>\n",
              "      <td>0</td>\n",
              "      <td>0</td>\n",
              "      <td>0</td>\n",
              "      <td>0</td>\n",
              "      <td>0</td>\n",
              "      <td>0</td>\n",
              "      <td>1</td>\n",
              "      <td>0</td>\n",
              "      <td>0</td>\n",
              "      <td>0</td>\n",
              "      <td>1</td>\n",
              "      <td>0</td>\n",
              "      <td>0</td>\n",
              "      <td>1</td>\n",
              "      <td>0</td>\n",
              "      <td>0</td>\n",
              "      <td>1</td>\n",
              "      <td>0</td>\n",
              "      <td>0</td>\n",
              "      <td>0</td>\n",
              "      <td>0</td>\n",
              "      <td>0</td>\n",
              "      <td>1</td>\n",
              "      <td>0</td>\n",
              "      <td>1</td>\n",
              "      <td>0</td>\n",
              "      <td>0</td>\n",
              "      <td>0</td>\n",
              "      <td>1</td>\n",
              "      <td>0</td>\n",
              "    </tr>\n",
              "    <tr>\n",
              "      <th>2</th>\n",
              "      <td>12</td>\n",
              "      <td>2096</td>\n",
              "      <td>2</td>\n",
              "      <td>3</td>\n",
              "      <td>49</td>\n",
              "      <td>1</td>\n",
              "      <td>2</td>\n",
              "      <td>A191</td>\n",
              "      <td>A201</td>\n",
              "      <td>0</td>\n",
              "      <td>0</td>\n",
              "      <td>0</td>\n",
              "      <td>1</td>\n",
              "      <td>0</td>\n",
              "      <td>0</td>\n",
              "      <td>0</td>\n",
              "      <td>0</td>\n",
              "      <td>1</td>\n",
              "      <td>0</td>\n",
              "      <td>0</td>\n",
              "      <td>0</td>\n",
              "      <td>0</td>\n",
              "      <td>0</td>\n",
              "      <td>0</td>\n",
              "      <td>0</td>\n",
              "      <td>1</td>\n",
              "      <td>0</td>\n",
              "      <td>0</td>\n",
              "      <td>1</td>\n",
              "      <td>0</td>\n",
              "      <td>0</td>\n",
              "      <td>0</td>\n",
              "      <td>0</td>\n",
              "      <td>0</td>\n",
              "      <td>0</td>\n",
              "      <td>0</td>\n",
              "      <td>1</td>\n",
              "      <td>0</td>\n",
              "      <td>0</td>\n",
              "      <td>0</td>\n",
              "      <td>1</td>\n",
              "      <td>0</td>\n",
              "      <td>1</td>\n",
              "      <td>0</td>\n",
              "      <td>0</td>\n",
              "      <td>1</td>\n",
              "      <td>0</td>\n",
              "      <td>0</td>\n",
              "      <td>0</td>\n",
              "      <td>0</td>\n",
              "      <td>0</td>\n",
              "      <td>1</td>\n",
              "      <td>0</td>\n",
              "      <td>1</td>\n",
              "      <td>0</td>\n",
              "      <td>0</td>\n",
              "      <td>1</td>\n",
              "      <td>0</td>\n",
              "      <td>0</td>\n",
              "    </tr>\n",
              "    <tr>\n",
              "      <th>3</th>\n",
              "      <td>42</td>\n",
              "      <td>7882</td>\n",
              "      <td>2</td>\n",
              "      <td>4</td>\n",
              "      <td>45</td>\n",
              "      <td>1</td>\n",
              "      <td>2</td>\n",
              "      <td>A191</td>\n",
              "      <td>A201</td>\n",
              "      <td>1</td>\n",
              "      <td>0</td>\n",
              "      <td>0</td>\n",
              "      <td>0</td>\n",
              "      <td>0</td>\n",
              "      <td>0</td>\n",
              "      <td>1</td>\n",
              "      <td>0</td>\n",
              "      <td>0</td>\n",
              "      <td>0</td>\n",
              "      <td>0</td>\n",
              "      <td>0</td>\n",
              "      <td>1</td>\n",
              "      <td>0</td>\n",
              "      <td>0</td>\n",
              "      <td>0</td>\n",
              "      <td>0</td>\n",
              "      <td>0</td>\n",
              "      <td>0</td>\n",
              "      <td>1</td>\n",
              "      <td>0</td>\n",
              "      <td>0</td>\n",
              "      <td>0</td>\n",
              "      <td>0</td>\n",
              "      <td>0</td>\n",
              "      <td>0</td>\n",
              "      <td>0</td>\n",
              "      <td>1</td>\n",
              "      <td>0</td>\n",
              "      <td>0</td>\n",
              "      <td>0</td>\n",
              "      <td>1</td>\n",
              "      <td>0</td>\n",
              "      <td>0</td>\n",
              "      <td>0</td>\n",
              "      <td>1</td>\n",
              "      <td>0</td>\n",
              "      <td>1</td>\n",
              "      <td>0</td>\n",
              "      <td>0</td>\n",
              "      <td>0</td>\n",
              "      <td>0</td>\n",
              "      <td>1</td>\n",
              "      <td>0</td>\n",
              "      <td>0</td>\n",
              "      <td>1</td>\n",
              "      <td>0</td>\n",
              "      <td>0</td>\n",
              "      <td>1</td>\n",
              "      <td>0</td>\n",
              "    </tr>\n",
              "    <tr>\n",
              "      <th>4</th>\n",
              "      <td>24</td>\n",
              "      <td>4870</td>\n",
              "      <td>3</td>\n",
              "      <td>4</td>\n",
              "      <td>53</td>\n",
              "      <td>2</td>\n",
              "      <td>2</td>\n",
              "      <td>A191</td>\n",
              "      <td>A201</td>\n",
              "      <td>1</td>\n",
              "      <td>0</td>\n",
              "      <td>0</td>\n",
              "      <td>0</td>\n",
              "      <td>0</td>\n",
              "      <td>0</td>\n",
              "      <td>0</td>\n",
              "      <td>1</td>\n",
              "      <td>0</td>\n",
              "      <td>1</td>\n",
              "      <td>0</td>\n",
              "      <td>0</td>\n",
              "      <td>0</td>\n",
              "      <td>0</td>\n",
              "      <td>0</td>\n",
              "      <td>0</td>\n",
              "      <td>0</td>\n",
              "      <td>0</td>\n",
              "      <td>0</td>\n",
              "      <td>1</td>\n",
              "      <td>0</td>\n",
              "      <td>0</td>\n",
              "      <td>0</td>\n",
              "      <td>0</td>\n",
              "      <td>0</td>\n",
              "      <td>0</td>\n",
              "      <td>1</td>\n",
              "      <td>0</td>\n",
              "      <td>0</td>\n",
              "      <td>0</td>\n",
              "      <td>0</td>\n",
              "      <td>1</td>\n",
              "      <td>0</td>\n",
              "      <td>1</td>\n",
              "      <td>0</td>\n",
              "      <td>0</td>\n",
              "      <td>0</td>\n",
              "      <td>0</td>\n",
              "      <td>0</td>\n",
              "      <td>1</td>\n",
              "      <td>0</td>\n",
              "      <td>0</td>\n",
              "      <td>1</td>\n",
              "      <td>0</td>\n",
              "      <td>0</td>\n",
              "      <td>1</td>\n",
              "      <td>0</td>\n",
              "      <td>0</td>\n",
              "      <td>1</td>\n",
              "      <td>0</td>\n",
              "    </tr>\n",
              "    <tr>\n",
              "      <th>...</th>\n",
              "      <td>...</td>\n",
              "      <td>...</td>\n",
              "      <td>...</td>\n",
              "      <td>...</td>\n",
              "      <td>...</td>\n",
              "      <td>...</td>\n",
              "      <td>...</td>\n",
              "      <td>...</td>\n",
              "      <td>...</td>\n",
              "      <td>...</td>\n",
              "      <td>...</td>\n",
              "      <td>...</td>\n",
              "      <td>...</td>\n",
              "      <td>...</td>\n",
              "      <td>...</td>\n",
              "      <td>...</td>\n",
              "      <td>...</td>\n",
              "      <td>...</td>\n",
              "      <td>...</td>\n",
              "      <td>...</td>\n",
              "      <td>...</td>\n",
              "      <td>...</td>\n",
              "      <td>...</td>\n",
              "      <td>...</td>\n",
              "      <td>...</td>\n",
              "      <td>...</td>\n",
              "      <td>...</td>\n",
              "      <td>...</td>\n",
              "      <td>...</td>\n",
              "      <td>...</td>\n",
              "      <td>...</td>\n",
              "      <td>...</td>\n",
              "      <td>...</td>\n",
              "      <td>...</td>\n",
              "      <td>...</td>\n",
              "      <td>...</td>\n",
              "      <td>...</td>\n",
              "      <td>...</td>\n",
              "      <td>...</td>\n",
              "      <td>...</td>\n",
              "      <td>...</td>\n",
              "      <td>...</td>\n",
              "      <td>...</td>\n",
              "      <td>...</td>\n",
              "      <td>...</td>\n",
              "      <td>...</td>\n",
              "      <td>...</td>\n",
              "      <td>...</td>\n",
              "      <td>...</td>\n",
              "      <td>...</td>\n",
              "      <td>...</td>\n",
              "      <td>...</td>\n",
              "      <td>...</td>\n",
              "      <td>...</td>\n",
              "      <td>...</td>\n",
              "      <td>...</td>\n",
              "      <td>...</td>\n",
              "      <td>...</td>\n",
              "      <td>...</td>\n",
              "    </tr>\n",
              "    <tr>\n",
              "      <th>995</th>\n",
              "      <td>12</td>\n",
              "      <td>1736</td>\n",
              "      <td>3</td>\n",
              "      <td>4</td>\n",
              "      <td>31</td>\n",
              "      <td>1</td>\n",
              "      <td>1</td>\n",
              "      <td>A191</td>\n",
              "      <td>A201</td>\n",
              "      <td>0</td>\n",
              "      <td>0</td>\n",
              "      <td>0</td>\n",
              "      <td>1</td>\n",
              "      <td>0</td>\n",
              "      <td>0</td>\n",
              "      <td>1</td>\n",
              "      <td>0</td>\n",
              "      <td>0</td>\n",
              "      <td>0</td>\n",
              "      <td>0</td>\n",
              "      <td>0</td>\n",
              "      <td>1</td>\n",
              "      <td>0</td>\n",
              "      <td>0</td>\n",
              "      <td>0</td>\n",
              "      <td>0</td>\n",
              "      <td>0</td>\n",
              "      <td>0</td>\n",
              "      <td>1</td>\n",
              "      <td>0</td>\n",
              "      <td>0</td>\n",
              "      <td>0</td>\n",
              "      <td>0</td>\n",
              "      <td>0</td>\n",
              "      <td>0</td>\n",
              "      <td>0</td>\n",
              "      <td>1</td>\n",
              "      <td>0</td>\n",
              "      <td>0</td>\n",
              "      <td>1</td>\n",
              "      <td>0</td>\n",
              "      <td>0</td>\n",
              "      <td>1</td>\n",
              "      <td>0</td>\n",
              "      <td>0</td>\n",
              "      <td>1</td>\n",
              "      <td>0</td>\n",
              "      <td>0</td>\n",
              "      <td>0</td>\n",
              "      <td>0</td>\n",
              "      <td>0</td>\n",
              "      <td>1</td>\n",
              "      <td>0</td>\n",
              "      <td>1</td>\n",
              "      <td>0</td>\n",
              "      <td>0</td>\n",
              "      <td>1</td>\n",
              "      <td>0</td>\n",
              "      <td>0</td>\n",
              "    </tr>\n",
              "    <tr>\n",
              "      <th>996</th>\n",
              "      <td>30</td>\n",
              "      <td>3857</td>\n",
              "      <td>4</td>\n",
              "      <td>4</td>\n",
              "      <td>40</td>\n",
              "      <td>1</td>\n",
              "      <td>1</td>\n",
              "      <td>A192</td>\n",
              "      <td>A201</td>\n",
              "      <td>1</td>\n",
              "      <td>0</td>\n",
              "      <td>0</td>\n",
              "      <td>0</td>\n",
              "      <td>0</td>\n",
              "      <td>0</td>\n",
              "      <td>1</td>\n",
              "      <td>0</td>\n",
              "      <td>0</td>\n",
              "      <td>0</td>\n",
              "      <td>1</td>\n",
              "      <td>0</td>\n",
              "      <td>0</td>\n",
              "      <td>0</td>\n",
              "      <td>0</td>\n",
              "      <td>0</td>\n",
              "      <td>0</td>\n",
              "      <td>0</td>\n",
              "      <td>0</td>\n",
              "      <td>1</td>\n",
              "      <td>0</td>\n",
              "      <td>0</td>\n",
              "      <td>0</td>\n",
              "      <td>0</td>\n",
              "      <td>0</td>\n",
              "      <td>0</td>\n",
              "      <td>1</td>\n",
              "      <td>0</td>\n",
              "      <td>0</td>\n",
              "      <td>1</td>\n",
              "      <td>0</td>\n",
              "      <td>0</td>\n",
              "      <td>0</td>\n",
              "      <td>1</td>\n",
              "      <td>0</td>\n",
              "      <td>0</td>\n",
              "      <td>0</td>\n",
              "      <td>1</td>\n",
              "      <td>0</td>\n",
              "      <td>0</td>\n",
              "      <td>0</td>\n",
              "      <td>0</td>\n",
              "      <td>1</td>\n",
              "      <td>0</td>\n",
              "      <td>1</td>\n",
              "      <td>0</td>\n",
              "      <td>0</td>\n",
              "      <td>0</td>\n",
              "      <td>0</td>\n",
              "      <td>1</td>\n",
              "    </tr>\n",
              "    <tr>\n",
              "      <th>997</th>\n",
              "      <td>12</td>\n",
              "      <td>804</td>\n",
              "      <td>4</td>\n",
              "      <td>4</td>\n",
              "      <td>38</td>\n",
              "      <td>1</td>\n",
              "      <td>1</td>\n",
              "      <td>A191</td>\n",
              "      <td>A201</td>\n",
              "      <td>0</td>\n",
              "      <td>0</td>\n",
              "      <td>0</td>\n",
              "      <td>1</td>\n",
              "      <td>0</td>\n",
              "      <td>0</td>\n",
              "      <td>1</td>\n",
              "      <td>0</td>\n",
              "      <td>0</td>\n",
              "      <td>0</td>\n",
              "      <td>0</td>\n",
              "      <td>0</td>\n",
              "      <td>0</td>\n",
              "      <td>1</td>\n",
              "      <td>0</td>\n",
              "      <td>0</td>\n",
              "      <td>0</td>\n",
              "      <td>0</td>\n",
              "      <td>0</td>\n",
              "      <td>1</td>\n",
              "      <td>0</td>\n",
              "      <td>0</td>\n",
              "      <td>0</td>\n",
              "      <td>0</td>\n",
              "      <td>0</td>\n",
              "      <td>0</td>\n",
              "      <td>0</td>\n",
              "      <td>0</td>\n",
              "      <td>1</td>\n",
              "      <td>0</td>\n",
              "      <td>0</td>\n",
              "      <td>1</td>\n",
              "      <td>0</td>\n",
              "      <td>1</td>\n",
              "      <td>0</td>\n",
              "      <td>0</td>\n",
              "      <td>0</td>\n",
              "      <td>0</td>\n",
              "      <td>1</td>\n",
              "      <td>0</td>\n",
              "      <td>0</td>\n",
              "      <td>0</td>\n",
              "      <td>1</td>\n",
              "      <td>0</td>\n",
              "      <td>1</td>\n",
              "      <td>0</td>\n",
              "      <td>0</td>\n",
              "      <td>0</td>\n",
              "      <td>1</td>\n",
              "      <td>0</td>\n",
              "    </tr>\n",
              "    <tr>\n",
              "      <th>998</th>\n",
              "      <td>45</td>\n",
              "      <td>1845</td>\n",
              "      <td>4</td>\n",
              "      <td>4</td>\n",
              "      <td>23</td>\n",
              "      <td>1</td>\n",
              "      <td>1</td>\n",
              "      <td>A192</td>\n",
              "      <td>A201</td>\n",
              "      <td>1</td>\n",
              "      <td>0</td>\n",
              "      <td>0</td>\n",
              "      <td>0</td>\n",
              "      <td>0</td>\n",
              "      <td>0</td>\n",
              "      <td>1</td>\n",
              "      <td>0</td>\n",
              "      <td>0</td>\n",
              "      <td>0</td>\n",
              "      <td>0</td>\n",
              "      <td>0</td>\n",
              "      <td>0</td>\n",
              "      <td>1</td>\n",
              "      <td>0</td>\n",
              "      <td>0</td>\n",
              "      <td>0</td>\n",
              "      <td>0</td>\n",
              "      <td>0</td>\n",
              "      <td>1</td>\n",
              "      <td>0</td>\n",
              "      <td>0</td>\n",
              "      <td>0</td>\n",
              "      <td>0</td>\n",
              "      <td>0</td>\n",
              "      <td>0</td>\n",
              "      <td>1</td>\n",
              "      <td>0</td>\n",
              "      <td>0</td>\n",
              "      <td>0</td>\n",
              "      <td>0</td>\n",
              "      <td>1</td>\n",
              "      <td>0</td>\n",
              "      <td>1</td>\n",
              "      <td>0</td>\n",
              "      <td>0</td>\n",
              "      <td>0</td>\n",
              "      <td>0</td>\n",
              "      <td>0</td>\n",
              "      <td>1</td>\n",
              "      <td>0</td>\n",
              "      <td>0</td>\n",
              "      <td>1</td>\n",
              "      <td>0</td>\n",
              "      <td>0</td>\n",
              "      <td>1</td>\n",
              "      <td>0</td>\n",
              "      <td>0</td>\n",
              "      <td>1</td>\n",
              "      <td>0</td>\n",
              "    </tr>\n",
              "    <tr>\n",
              "      <th>999</th>\n",
              "      <td>45</td>\n",
              "      <td>4576</td>\n",
              "      <td>3</td>\n",
              "      <td>4</td>\n",
              "      <td>27</td>\n",
              "      <td>1</td>\n",
              "      <td>1</td>\n",
              "      <td>A191</td>\n",
              "      <td>A201</td>\n",
              "      <td>0</td>\n",
              "      <td>1</td>\n",
              "      <td>0</td>\n",
              "      <td>0</td>\n",
              "      <td>0</td>\n",
              "      <td>0</td>\n",
              "      <td>0</td>\n",
              "      <td>0</td>\n",
              "      <td>1</td>\n",
              "      <td>0</td>\n",
              "      <td>1</td>\n",
              "      <td>0</td>\n",
              "      <td>0</td>\n",
              "      <td>0</td>\n",
              "      <td>0</td>\n",
              "      <td>0</td>\n",
              "      <td>0</td>\n",
              "      <td>0</td>\n",
              "      <td>0</td>\n",
              "      <td>0</td>\n",
              "      <td>1</td>\n",
              "      <td>0</td>\n",
              "      <td>0</td>\n",
              "      <td>0</td>\n",
              "      <td>1</td>\n",
              "      <td>0</td>\n",
              "      <td>0</td>\n",
              "      <td>0</td>\n",
              "      <td>0</td>\n",
              "      <td>0</td>\n",
              "      <td>0</td>\n",
              "      <td>1</td>\n",
              "      <td>0</td>\n",
              "      <td>1</td>\n",
              "      <td>0</td>\n",
              "      <td>0</td>\n",
              "      <td>0</td>\n",
              "      <td>0</td>\n",
              "      <td>1</td>\n",
              "      <td>0</td>\n",
              "      <td>0</td>\n",
              "      <td>0</td>\n",
              "      <td>1</td>\n",
              "      <td>0</td>\n",
              "      <td>1</td>\n",
              "      <td>0</td>\n",
              "      <td>0</td>\n",
              "      <td>0</td>\n",
              "      <td>1</td>\n",
              "      <td>0</td>\n",
              "    </tr>\n",
              "  </tbody>\n",
              "</table>\n",
              "<p>1000 rows × 59 columns</p>\n",
              "</div>"
            ],
            "text/plain": [
              "     duration  creditAmount  ...  job_A173  job_A174\n",
              "0           6          1169  ...         1         0\n",
              "1          48          5951  ...         1         0\n",
              "2          12          2096  ...         0         0\n",
              "3          42          7882  ...         1         0\n",
              "4          24          4870  ...         1         0\n",
              "..        ...           ...  ...       ...       ...\n",
              "995        12          1736  ...         0         0\n",
              "996        30          3857  ...         0         1\n",
              "997        12           804  ...         1         0\n",
              "998        45          1845  ...         1         0\n",
              "999        45          4576  ...         1         0\n",
              "\n",
              "[1000 rows x 59 columns]"
            ]
          },
          "metadata": {
            "tags": []
          },
          "execution_count": 29
        }
      ]
    },
    {
      "cell_type": "markdown",
      "metadata": {
        "id": "8Xd8QjLMowpO",
        "colab_type": "text"
      },
      "source": [
        "Binary categorical features can be mapped as 0-1 variables:"
      ]
    },
    {
      "cell_type": "code",
      "metadata": {
        "id": "Pd6G7d-towQX",
        "colab_type": "code",
        "colab": {}
      },
      "source": [
        "phoneMapping = {\n",
        "    'A191' : 1,\n",
        "    'A192' : 0\n",
        "}\n",
        "\n",
        "foreignWorkerMapping = {\n",
        "    'A202' : 1,\n",
        "    'A201' : 0\n",
        "}\n",
        "oneHotDF['phone'] = oneHotDF['phone'].map(phoneMapping)\n",
        "oneHotDF['foreignWorker'] = oneHotDF['foreignWorker'].map(foreignWorkerMapping)"
      ],
      "execution_count": 30,
      "outputs": []
    },
    {
      "cell_type": "code",
      "metadata": {
        "id": "7Dx2RQsfpu2W",
        "colab_type": "code",
        "colab": {
          "base_uri": "https://localhost:8080/",
          "height": 426
        },
        "outputId": "8b6ace72-d5e1-478c-d7b3-caf3864732fb"
      },
      "source": [
        "oneHotDF"
      ],
      "execution_count": 31,
      "outputs": [
        {
          "output_type": "execute_result",
          "data": {
            "text/html": [
              "<div>\n",
              "<style scoped>\n",
              "    .dataframe tbody tr th:only-of-type {\n",
              "        vertical-align: middle;\n",
              "    }\n",
              "\n",
              "    .dataframe tbody tr th {\n",
              "        vertical-align: top;\n",
              "    }\n",
              "\n",
              "    .dataframe thead th {\n",
              "        text-align: right;\n",
              "    }\n",
              "</style>\n",
              "<table border=\"1\" class=\"dataframe\">\n",
              "  <thead>\n",
              "    <tr style=\"text-align: right;\">\n",
              "      <th></th>\n",
              "      <th>duration</th>\n",
              "      <th>creditAmount</th>\n",
              "      <th>installmentPercIncome</th>\n",
              "      <th>timeResidence</th>\n",
              "      <th>age</th>\n",
              "      <th>numCredits</th>\n",
              "      <th>numOfMant</th>\n",
              "      <th>phone</th>\n",
              "      <th>foreignWorker</th>\n",
              "      <th>checkingAccount_A11</th>\n",
              "      <th>checkingAccount_A12</th>\n",
              "      <th>checkingAccount_A13</th>\n",
              "      <th>checkingAccount_A14</th>\n",
              "      <th>creditHistory_A30</th>\n",
              "      <th>creditHistory_A31</th>\n",
              "      <th>creditHistory_A32</th>\n",
              "      <th>creditHistory_A33</th>\n",
              "      <th>creditHistory_A34</th>\n",
              "      <th>purpose_A40</th>\n",
              "      <th>purpose_A41</th>\n",
              "      <th>purpose_A410</th>\n",
              "      <th>purpose_A42</th>\n",
              "      <th>purpose_A43</th>\n",
              "      <th>purpose_A44</th>\n",
              "      <th>purpose_A45</th>\n",
              "      <th>purpose_A46</th>\n",
              "      <th>purpose_A48</th>\n",
              "      <th>purpose_A49</th>\n",
              "      <th>savingsAcc_A61</th>\n",
              "      <th>savingsAcc_A62</th>\n",
              "      <th>savingsAcc_A63</th>\n",
              "      <th>savingsAcc_A64</th>\n",
              "      <th>savingsAcc_A65</th>\n",
              "      <th>employmentTime_A71</th>\n",
              "      <th>employmentTime_A72</th>\n",
              "      <th>employmentTime_A73</th>\n",
              "      <th>employmentTime_A74</th>\n",
              "      <th>employmentTime_A75</th>\n",
              "      <th>status_A91</th>\n",
              "      <th>status_A92</th>\n",
              "      <th>status_A93</th>\n",
              "      <th>status_A94</th>\n",
              "      <th>otherFin_A101</th>\n",
              "      <th>otherFin_A102</th>\n",
              "      <th>otherFin_A103</th>\n",
              "      <th>property_A121</th>\n",
              "      <th>property_A122</th>\n",
              "      <th>property_A123</th>\n",
              "      <th>property_A124</th>\n",
              "      <th>otherInstallPlans_A141</th>\n",
              "      <th>otherInstallPlans_A142</th>\n",
              "      <th>otherInstallPlans_A143</th>\n",
              "      <th>housing_A151</th>\n",
              "      <th>housing_A152</th>\n",
              "      <th>housing_A153</th>\n",
              "      <th>job_A171</th>\n",
              "      <th>job_A172</th>\n",
              "      <th>job_A173</th>\n",
              "      <th>job_A174</th>\n",
              "    </tr>\n",
              "  </thead>\n",
              "  <tbody>\n",
              "    <tr>\n",
              "      <th>0</th>\n",
              "      <td>6</td>\n",
              "      <td>1169</td>\n",
              "      <td>4</td>\n",
              "      <td>4</td>\n",
              "      <td>67</td>\n",
              "      <td>2</td>\n",
              "      <td>1</td>\n",
              "      <td>0</td>\n",
              "      <td>0</td>\n",
              "      <td>1</td>\n",
              "      <td>0</td>\n",
              "      <td>0</td>\n",
              "      <td>0</td>\n",
              "      <td>0</td>\n",
              "      <td>0</td>\n",
              "      <td>0</td>\n",
              "      <td>0</td>\n",
              "      <td>1</td>\n",
              "      <td>0</td>\n",
              "      <td>0</td>\n",
              "      <td>0</td>\n",
              "      <td>0</td>\n",
              "      <td>1</td>\n",
              "      <td>0</td>\n",
              "      <td>0</td>\n",
              "      <td>0</td>\n",
              "      <td>0</td>\n",
              "      <td>0</td>\n",
              "      <td>0</td>\n",
              "      <td>0</td>\n",
              "      <td>0</td>\n",
              "      <td>0</td>\n",
              "      <td>1</td>\n",
              "      <td>0</td>\n",
              "      <td>0</td>\n",
              "      <td>0</td>\n",
              "      <td>0</td>\n",
              "      <td>1</td>\n",
              "      <td>0</td>\n",
              "      <td>0</td>\n",
              "      <td>1</td>\n",
              "      <td>0</td>\n",
              "      <td>1</td>\n",
              "      <td>0</td>\n",
              "      <td>0</td>\n",
              "      <td>1</td>\n",
              "      <td>0</td>\n",
              "      <td>0</td>\n",
              "      <td>0</td>\n",
              "      <td>0</td>\n",
              "      <td>0</td>\n",
              "      <td>1</td>\n",
              "      <td>0</td>\n",
              "      <td>1</td>\n",
              "      <td>0</td>\n",
              "      <td>0</td>\n",
              "      <td>0</td>\n",
              "      <td>1</td>\n",
              "      <td>0</td>\n",
              "    </tr>\n",
              "    <tr>\n",
              "      <th>1</th>\n",
              "      <td>48</td>\n",
              "      <td>5951</td>\n",
              "      <td>2</td>\n",
              "      <td>2</td>\n",
              "      <td>22</td>\n",
              "      <td>1</td>\n",
              "      <td>1</td>\n",
              "      <td>1</td>\n",
              "      <td>0</td>\n",
              "      <td>0</td>\n",
              "      <td>1</td>\n",
              "      <td>0</td>\n",
              "      <td>0</td>\n",
              "      <td>0</td>\n",
              "      <td>0</td>\n",
              "      <td>1</td>\n",
              "      <td>0</td>\n",
              "      <td>0</td>\n",
              "      <td>0</td>\n",
              "      <td>0</td>\n",
              "      <td>0</td>\n",
              "      <td>0</td>\n",
              "      <td>1</td>\n",
              "      <td>0</td>\n",
              "      <td>0</td>\n",
              "      <td>0</td>\n",
              "      <td>0</td>\n",
              "      <td>0</td>\n",
              "      <td>1</td>\n",
              "      <td>0</td>\n",
              "      <td>0</td>\n",
              "      <td>0</td>\n",
              "      <td>0</td>\n",
              "      <td>0</td>\n",
              "      <td>0</td>\n",
              "      <td>1</td>\n",
              "      <td>0</td>\n",
              "      <td>0</td>\n",
              "      <td>0</td>\n",
              "      <td>1</td>\n",
              "      <td>0</td>\n",
              "      <td>0</td>\n",
              "      <td>1</td>\n",
              "      <td>0</td>\n",
              "      <td>0</td>\n",
              "      <td>1</td>\n",
              "      <td>0</td>\n",
              "      <td>0</td>\n",
              "      <td>0</td>\n",
              "      <td>0</td>\n",
              "      <td>0</td>\n",
              "      <td>1</td>\n",
              "      <td>0</td>\n",
              "      <td>1</td>\n",
              "      <td>0</td>\n",
              "      <td>0</td>\n",
              "      <td>0</td>\n",
              "      <td>1</td>\n",
              "      <td>0</td>\n",
              "    </tr>\n",
              "    <tr>\n",
              "      <th>2</th>\n",
              "      <td>12</td>\n",
              "      <td>2096</td>\n",
              "      <td>2</td>\n",
              "      <td>3</td>\n",
              "      <td>49</td>\n",
              "      <td>1</td>\n",
              "      <td>2</td>\n",
              "      <td>1</td>\n",
              "      <td>0</td>\n",
              "      <td>0</td>\n",
              "      <td>0</td>\n",
              "      <td>0</td>\n",
              "      <td>1</td>\n",
              "      <td>0</td>\n",
              "      <td>0</td>\n",
              "      <td>0</td>\n",
              "      <td>0</td>\n",
              "      <td>1</td>\n",
              "      <td>0</td>\n",
              "      <td>0</td>\n",
              "      <td>0</td>\n",
              "      <td>0</td>\n",
              "      <td>0</td>\n",
              "      <td>0</td>\n",
              "      <td>0</td>\n",
              "      <td>1</td>\n",
              "      <td>0</td>\n",
              "      <td>0</td>\n",
              "      <td>1</td>\n",
              "      <td>0</td>\n",
              "      <td>0</td>\n",
              "      <td>0</td>\n",
              "      <td>0</td>\n",
              "      <td>0</td>\n",
              "      <td>0</td>\n",
              "      <td>0</td>\n",
              "      <td>1</td>\n",
              "      <td>0</td>\n",
              "      <td>0</td>\n",
              "      <td>0</td>\n",
              "      <td>1</td>\n",
              "      <td>0</td>\n",
              "      <td>1</td>\n",
              "      <td>0</td>\n",
              "      <td>0</td>\n",
              "      <td>1</td>\n",
              "      <td>0</td>\n",
              "      <td>0</td>\n",
              "      <td>0</td>\n",
              "      <td>0</td>\n",
              "      <td>0</td>\n",
              "      <td>1</td>\n",
              "      <td>0</td>\n",
              "      <td>1</td>\n",
              "      <td>0</td>\n",
              "      <td>0</td>\n",
              "      <td>1</td>\n",
              "      <td>0</td>\n",
              "      <td>0</td>\n",
              "    </tr>\n",
              "    <tr>\n",
              "      <th>3</th>\n",
              "      <td>42</td>\n",
              "      <td>7882</td>\n",
              "      <td>2</td>\n",
              "      <td>4</td>\n",
              "      <td>45</td>\n",
              "      <td>1</td>\n",
              "      <td>2</td>\n",
              "      <td>1</td>\n",
              "      <td>0</td>\n",
              "      <td>1</td>\n",
              "      <td>0</td>\n",
              "      <td>0</td>\n",
              "      <td>0</td>\n",
              "      <td>0</td>\n",
              "      <td>0</td>\n",
              "      <td>1</td>\n",
              "      <td>0</td>\n",
              "      <td>0</td>\n",
              "      <td>0</td>\n",
              "      <td>0</td>\n",
              "      <td>0</td>\n",
              "      <td>1</td>\n",
              "      <td>0</td>\n",
              "      <td>0</td>\n",
              "      <td>0</td>\n",
              "      <td>0</td>\n",
              "      <td>0</td>\n",
              "      <td>0</td>\n",
              "      <td>1</td>\n",
              "      <td>0</td>\n",
              "      <td>0</td>\n",
              "      <td>0</td>\n",
              "      <td>0</td>\n",
              "      <td>0</td>\n",
              "      <td>0</td>\n",
              "      <td>0</td>\n",
              "      <td>1</td>\n",
              "      <td>0</td>\n",
              "      <td>0</td>\n",
              "      <td>0</td>\n",
              "      <td>1</td>\n",
              "      <td>0</td>\n",
              "      <td>0</td>\n",
              "      <td>0</td>\n",
              "      <td>1</td>\n",
              "      <td>0</td>\n",
              "      <td>1</td>\n",
              "      <td>0</td>\n",
              "      <td>0</td>\n",
              "      <td>0</td>\n",
              "      <td>0</td>\n",
              "      <td>1</td>\n",
              "      <td>0</td>\n",
              "      <td>0</td>\n",
              "      <td>1</td>\n",
              "      <td>0</td>\n",
              "      <td>0</td>\n",
              "      <td>1</td>\n",
              "      <td>0</td>\n",
              "    </tr>\n",
              "    <tr>\n",
              "      <th>4</th>\n",
              "      <td>24</td>\n",
              "      <td>4870</td>\n",
              "      <td>3</td>\n",
              "      <td>4</td>\n",
              "      <td>53</td>\n",
              "      <td>2</td>\n",
              "      <td>2</td>\n",
              "      <td>1</td>\n",
              "      <td>0</td>\n",
              "      <td>1</td>\n",
              "      <td>0</td>\n",
              "      <td>0</td>\n",
              "      <td>0</td>\n",
              "      <td>0</td>\n",
              "      <td>0</td>\n",
              "      <td>0</td>\n",
              "      <td>1</td>\n",
              "      <td>0</td>\n",
              "      <td>1</td>\n",
              "      <td>0</td>\n",
              "      <td>0</td>\n",
              "      <td>0</td>\n",
              "      <td>0</td>\n",
              "      <td>0</td>\n",
              "      <td>0</td>\n",
              "      <td>0</td>\n",
              "      <td>0</td>\n",
              "      <td>0</td>\n",
              "      <td>1</td>\n",
              "      <td>0</td>\n",
              "      <td>0</td>\n",
              "      <td>0</td>\n",
              "      <td>0</td>\n",
              "      <td>0</td>\n",
              "      <td>0</td>\n",
              "      <td>1</td>\n",
              "      <td>0</td>\n",
              "      <td>0</td>\n",
              "      <td>0</td>\n",
              "      <td>0</td>\n",
              "      <td>1</td>\n",
              "      <td>0</td>\n",
              "      <td>1</td>\n",
              "      <td>0</td>\n",
              "      <td>0</td>\n",
              "      <td>0</td>\n",
              "      <td>0</td>\n",
              "      <td>0</td>\n",
              "      <td>1</td>\n",
              "      <td>0</td>\n",
              "      <td>0</td>\n",
              "      <td>1</td>\n",
              "      <td>0</td>\n",
              "      <td>0</td>\n",
              "      <td>1</td>\n",
              "      <td>0</td>\n",
              "      <td>0</td>\n",
              "      <td>1</td>\n",
              "      <td>0</td>\n",
              "    </tr>\n",
              "    <tr>\n",
              "      <th>...</th>\n",
              "      <td>...</td>\n",
              "      <td>...</td>\n",
              "      <td>...</td>\n",
              "      <td>...</td>\n",
              "      <td>...</td>\n",
              "      <td>...</td>\n",
              "      <td>...</td>\n",
              "      <td>...</td>\n",
              "      <td>...</td>\n",
              "      <td>...</td>\n",
              "      <td>...</td>\n",
              "      <td>...</td>\n",
              "      <td>...</td>\n",
              "      <td>...</td>\n",
              "      <td>...</td>\n",
              "      <td>...</td>\n",
              "      <td>...</td>\n",
              "      <td>...</td>\n",
              "      <td>...</td>\n",
              "      <td>...</td>\n",
              "      <td>...</td>\n",
              "      <td>...</td>\n",
              "      <td>...</td>\n",
              "      <td>...</td>\n",
              "      <td>...</td>\n",
              "      <td>...</td>\n",
              "      <td>...</td>\n",
              "      <td>...</td>\n",
              "      <td>...</td>\n",
              "      <td>...</td>\n",
              "      <td>...</td>\n",
              "      <td>...</td>\n",
              "      <td>...</td>\n",
              "      <td>...</td>\n",
              "      <td>...</td>\n",
              "      <td>...</td>\n",
              "      <td>...</td>\n",
              "      <td>...</td>\n",
              "      <td>...</td>\n",
              "      <td>...</td>\n",
              "      <td>...</td>\n",
              "      <td>...</td>\n",
              "      <td>...</td>\n",
              "      <td>...</td>\n",
              "      <td>...</td>\n",
              "      <td>...</td>\n",
              "      <td>...</td>\n",
              "      <td>...</td>\n",
              "      <td>...</td>\n",
              "      <td>...</td>\n",
              "      <td>...</td>\n",
              "      <td>...</td>\n",
              "      <td>...</td>\n",
              "      <td>...</td>\n",
              "      <td>...</td>\n",
              "      <td>...</td>\n",
              "      <td>...</td>\n",
              "      <td>...</td>\n",
              "      <td>...</td>\n",
              "    </tr>\n",
              "    <tr>\n",
              "      <th>995</th>\n",
              "      <td>12</td>\n",
              "      <td>1736</td>\n",
              "      <td>3</td>\n",
              "      <td>4</td>\n",
              "      <td>31</td>\n",
              "      <td>1</td>\n",
              "      <td>1</td>\n",
              "      <td>1</td>\n",
              "      <td>0</td>\n",
              "      <td>0</td>\n",
              "      <td>0</td>\n",
              "      <td>0</td>\n",
              "      <td>1</td>\n",
              "      <td>0</td>\n",
              "      <td>0</td>\n",
              "      <td>1</td>\n",
              "      <td>0</td>\n",
              "      <td>0</td>\n",
              "      <td>0</td>\n",
              "      <td>0</td>\n",
              "      <td>0</td>\n",
              "      <td>1</td>\n",
              "      <td>0</td>\n",
              "      <td>0</td>\n",
              "      <td>0</td>\n",
              "      <td>0</td>\n",
              "      <td>0</td>\n",
              "      <td>0</td>\n",
              "      <td>1</td>\n",
              "      <td>0</td>\n",
              "      <td>0</td>\n",
              "      <td>0</td>\n",
              "      <td>0</td>\n",
              "      <td>0</td>\n",
              "      <td>0</td>\n",
              "      <td>0</td>\n",
              "      <td>1</td>\n",
              "      <td>0</td>\n",
              "      <td>0</td>\n",
              "      <td>1</td>\n",
              "      <td>0</td>\n",
              "      <td>0</td>\n",
              "      <td>1</td>\n",
              "      <td>0</td>\n",
              "      <td>0</td>\n",
              "      <td>1</td>\n",
              "      <td>0</td>\n",
              "      <td>0</td>\n",
              "      <td>0</td>\n",
              "      <td>0</td>\n",
              "      <td>0</td>\n",
              "      <td>1</td>\n",
              "      <td>0</td>\n",
              "      <td>1</td>\n",
              "      <td>0</td>\n",
              "      <td>0</td>\n",
              "      <td>1</td>\n",
              "      <td>0</td>\n",
              "      <td>0</td>\n",
              "    </tr>\n",
              "    <tr>\n",
              "      <th>996</th>\n",
              "      <td>30</td>\n",
              "      <td>3857</td>\n",
              "      <td>4</td>\n",
              "      <td>4</td>\n",
              "      <td>40</td>\n",
              "      <td>1</td>\n",
              "      <td>1</td>\n",
              "      <td>0</td>\n",
              "      <td>0</td>\n",
              "      <td>1</td>\n",
              "      <td>0</td>\n",
              "      <td>0</td>\n",
              "      <td>0</td>\n",
              "      <td>0</td>\n",
              "      <td>0</td>\n",
              "      <td>1</td>\n",
              "      <td>0</td>\n",
              "      <td>0</td>\n",
              "      <td>0</td>\n",
              "      <td>1</td>\n",
              "      <td>0</td>\n",
              "      <td>0</td>\n",
              "      <td>0</td>\n",
              "      <td>0</td>\n",
              "      <td>0</td>\n",
              "      <td>0</td>\n",
              "      <td>0</td>\n",
              "      <td>0</td>\n",
              "      <td>1</td>\n",
              "      <td>0</td>\n",
              "      <td>0</td>\n",
              "      <td>0</td>\n",
              "      <td>0</td>\n",
              "      <td>0</td>\n",
              "      <td>0</td>\n",
              "      <td>1</td>\n",
              "      <td>0</td>\n",
              "      <td>0</td>\n",
              "      <td>1</td>\n",
              "      <td>0</td>\n",
              "      <td>0</td>\n",
              "      <td>0</td>\n",
              "      <td>1</td>\n",
              "      <td>0</td>\n",
              "      <td>0</td>\n",
              "      <td>0</td>\n",
              "      <td>1</td>\n",
              "      <td>0</td>\n",
              "      <td>0</td>\n",
              "      <td>0</td>\n",
              "      <td>0</td>\n",
              "      <td>1</td>\n",
              "      <td>0</td>\n",
              "      <td>1</td>\n",
              "      <td>0</td>\n",
              "      <td>0</td>\n",
              "      <td>0</td>\n",
              "      <td>0</td>\n",
              "      <td>1</td>\n",
              "    </tr>\n",
              "    <tr>\n",
              "      <th>997</th>\n",
              "      <td>12</td>\n",
              "      <td>804</td>\n",
              "      <td>4</td>\n",
              "      <td>4</td>\n",
              "      <td>38</td>\n",
              "      <td>1</td>\n",
              "      <td>1</td>\n",
              "      <td>1</td>\n",
              "      <td>0</td>\n",
              "      <td>0</td>\n",
              "      <td>0</td>\n",
              "      <td>0</td>\n",
              "      <td>1</td>\n",
              "      <td>0</td>\n",
              "      <td>0</td>\n",
              "      <td>1</td>\n",
              "      <td>0</td>\n",
              "      <td>0</td>\n",
              "      <td>0</td>\n",
              "      <td>0</td>\n",
              "      <td>0</td>\n",
              "      <td>0</td>\n",
              "      <td>1</td>\n",
              "      <td>0</td>\n",
              "      <td>0</td>\n",
              "      <td>0</td>\n",
              "      <td>0</td>\n",
              "      <td>0</td>\n",
              "      <td>1</td>\n",
              "      <td>0</td>\n",
              "      <td>0</td>\n",
              "      <td>0</td>\n",
              "      <td>0</td>\n",
              "      <td>0</td>\n",
              "      <td>0</td>\n",
              "      <td>0</td>\n",
              "      <td>0</td>\n",
              "      <td>1</td>\n",
              "      <td>0</td>\n",
              "      <td>0</td>\n",
              "      <td>1</td>\n",
              "      <td>0</td>\n",
              "      <td>1</td>\n",
              "      <td>0</td>\n",
              "      <td>0</td>\n",
              "      <td>0</td>\n",
              "      <td>0</td>\n",
              "      <td>1</td>\n",
              "      <td>0</td>\n",
              "      <td>0</td>\n",
              "      <td>0</td>\n",
              "      <td>1</td>\n",
              "      <td>0</td>\n",
              "      <td>1</td>\n",
              "      <td>0</td>\n",
              "      <td>0</td>\n",
              "      <td>0</td>\n",
              "      <td>1</td>\n",
              "      <td>0</td>\n",
              "    </tr>\n",
              "    <tr>\n",
              "      <th>998</th>\n",
              "      <td>45</td>\n",
              "      <td>1845</td>\n",
              "      <td>4</td>\n",
              "      <td>4</td>\n",
              "      <td>23</td>\n",
              "      <td>1</td>\n",
              "      <td>1</td>\n",
              "      <td>0</td>\n",
              "      <td>0</td>\n",
              "      <td>1</td>\n",
              "      <td>0</td>\n",
              "      <td>0</td>\n",
              "      <td>0</td>\n",
              "      <td>0</td>\n",
              "      <td>0</td>\n",
              "      <td>1</td>\n",
              "      <td>0</td>\n",
              "      <td>0</td>\n",
              "      <td>0</td>\n",
              "      <td>0</td>\n",
              "      <td>0</td>\n",
              "      <td>0</td>\n",
              "      <td>1</td>\n",
              "      <td>0</td>\n",
              "      <td>0</td>\n",
              "      <td>0</td>\n",
              "      <td>0</td>\n",
              "      <td>0</td>\n",
              "      <td>1</td>\n",
              "      <td>0</td>\n",
              "      <td>0</td>\n",
              "      <td>0</td>\n",
              "      <td>0</td>\n",
              "      <td>0</td>\n",
              "      <td>0</td>\n",
              "      <td>1</td>\n",
              "      <td>0</td>\n",
              "      <td>0</td>\n",
              "      <td>0</td>\n",
              "      <td>0</td>\n",
              "      <td>1</td>\n",
              "      <td>0</td>\n",
              "      <td>1</td>\n",
              "      <td>0</td>\n",
              "      <td>0</td>\n",
              "      <td>0</td>\n",
              "      <td>0</td>\n",
              "      <td>0</td>\n",
              "      <td>1</td>\n",
              "      <td>0</td>\n",
              "      <td>0</td>\n",
              "      <td>1</td>\n",
              "      <td>0</td>\n",
              "      <td>0</td>\n",
              "      <td>1</td>\n",
              "      <td>0</td>\n",
              "      <td>0</td>\n",
              "      <td>1</td>\n",
              "      <td>0</td>\n",
              "    </tr>\n",
              "    <tr>\n",
              "      <th>999</th>\n",
              "      <td>45</td>\n",
              "      <td>4576</td>\n",
              "      <td>3</td>\n",
              "      <td>4</td>\n",
              "      <td>27</td>\n",
              "      <td>1</td>\n",
              "      <td>1</td>\n",
              "      <td>1</td>\n",
              "      <td>0</td>\n",
              "      <td>0</td>\n",
              "      <td>1</td>\n",
              "      <td>0</td>\n",
              "      <td>0</td>\n",
              "      <td>0</td>\n",
              "      <td>0</td>\n",
              "      <td>0</td>\n",
              "      <td>0</td>\n",
              "      <td>1</td>\n",
              "      <td>0</td>\n",
              "      <td>1</td>\n",
              "      <td>0</td>\n",
              "      <td>0</td>\n",
              "      <td>0</td>\n",
              "      <td>0</td>\n",
              "      <td>0</td>\n",
              "      <td>0</td>\n",
              "      <td>0</td>\n",
              "      <td>0</td>\n",
              "      <td>0</td>\n",
              "      <td>1</td>\n",
              "      <td>0</td>\n",
              "      <td>0</td>\n",
              "      <td>0</td>\n",
              "      <td>1</td>\n",
              "      <td>0</td>\n",
              "      <td>0</td>\n",
              "      <td>0</td>\n",
              "      <td>0</td>\n",
              "      <td>0</td>\n",
              "      <td>0</td>\n",
              "      <td>1</td>\n",
              "      <td>0</td>\n",
              "      <td>1</td>\n",
              "      <td>0</td>\n",
              "      <td>0</td>\n",
              "      <td>0</td>\n",
              "      <td>0</td>\n",
              "      <td>1</td>\n",
              "      <td>0</td>\n",
              "      <td>0</td>\n",
              "      <td>0</td>\n",
              "      <td>1</td>\n",
              "      <td>0</td>\n",
              "      <td>1</td>\n",
              "      <td>0</td>\n",
              "      <td>0</td>\n",
              "      <td>0</td>\n",
              "      <td>1</td>\n",
              "      <td>0</td>\n",
              "    </tr>\n",
              "  </tbody>\n",
              "</table>\n",
              "<p>1000 rows × 59 columns</p>\n",
              "</div>"
            ],
            "text/plain": [
              "     duration  creditAmount  ...  job_A173  job_A174\n",
              "0           6          1169  ...         1         0\n",
              "1          48          5951  ...         1         0\n",
              "2          12          2096  ...         0         0\n",
              "3          42          7882  ...         1         0\n",
              "4          24          4870  ...         1         0\n",
              "..        ...           ...  ...       ...       ...\n",
              "995        12          1736  ...         0         0\n",
              "996        30          3857  ...         0         1\n",
              "997        12           804  ...         1         0\n",
              "998        45          1845  ...         1         0\n",
              "999        45          4576  ...         1         0\n",
              "\n",
              "[1000 rows x 59 columns]"
            ]
          },
          "metadata": {
            "tags": []
          },
          "execution_count": 31
        }
      ]
    },
    {
      "cell_type": "markdown",
      "metadata": {
        "id": "Wl7MHhJ_6RhL",
        "colab_type": "text"
      },
      "source": [
        "The one-hot-encoding procedure is necessary, but we can see that it has create a dataframe having three times the number of columns than the initial one. \n"
      ]
    },
    {
      "cell_type": "markdown",
      "metadata": {
        "id": "0DBCGtliokr-",
        "colab_type": "text"
      },
      "source": [
        "## PCA"
      ]
    },
    {
      "cell_type": "markdown",
      "metadata": {
        "id": "7HGAWWmjnnfJ",
        "colab_type": "text"
      },
      "source": [
        "The PCA (Principal Components Analysis) is a tecnique of dimensionality reduction, based on the idea of preserve the highest variance among the data but reducing the number of features.\n",
        "\n",
        "Principal component are a new coordinate system. Given data on D variables, the hope is that the data points will lie mainly in a linear subspace of dimension d < D.\n",
        "The PCs decompose the total variance of the data, so the sum of the variance among all the PCs corresponds to the total variance among original data.\n",
        "\n",
        "The first PCs is the one which have the higher variance, the last PCs is the one having lower variance.\n",
        "\n",
        "Each PC is an ortogonal linear transformation of the original data.\n"
      ]
    },
    {
      "cell_type": "code",
      "metadata": {
        "id": "1GgBPomLnn5s",
        "colab_type": "code",
        "colab": {
          "base_uri": "https://localhost:8080/",
          "height": 34
        },
        "outputId": "8da69f19-199c-4c02-c579-0098b8b0d395"
      },
      "source": [
        "X_pca = oneHotDF.copy()\n",
        "# Normalize:\n",
        "X_pca_norm = (X_pca-X_pca.mean())/X_pca.std()\n",
        "print(\"There are \" + (\"some\" if X_pca_norm.isnull().values.any() else \"no\")  + \" null/missing values in the dataset.\")"
      ],
      "execution_count": 32,
      "outputs": [
        {
          "output_type": "stream",
          "text": [
            "There are no null/missing values in the dataset.\n"
          ],
          "name": "stdout"
        }
      ]
    },
    {
      "cell_type": "code",
      "metadata": {
        "id": "kHMpXpvPn3je",
        "colab_type": "code",
        "colab": {
          "base_uri": "https://localhost:8080/",
          "height": 312
        },
        "outputId": "f92b14f0-5477-418c-a6d6-de0504bf02dd"
      },
      "source": [
        "# calculate the principal components\n",
        "X_pca = PCA(random_state = SEED).fit(X_pca_norm)\n",
        "cumvar = np.cumsum(X_pca.explained_variance_ratio_)\n",
        "#Plotting cumulative variance\n",
        "plt.plot(cumvar)\n",
        "plt.title('Cumulative variance')\n",
        "plt.xlabel('Number of components')\n",
        "plt.ylabel('Variance explained')"
      ],
      "execution_count": 33,
      "outputs": [
        {
          "output_type": "execute_result",
          "data": {
            "text/plain": [
              "Text(0, 0.5, 'Variance explained')"
            ]
          },
          "metadata": {
            "tags": []
          },
          "execution_count": 33
        },
        {
          "output_type": "display_data",
          "data": {
            "image/png": "[encoded data removed]",
            "text/plain": [
              "<Figure size 432x288 with 1 Axes>"
            ]
          },
          "metadata": {
            "tags": [],
            "needs_background": "light"
          }
        }
      ]
    },
    {
      "cell_type": "code",
      "metadata": {
        "id": "bDTMERghsO8t",
        "colab_type": "code",
        "colab": {
          "base_uri": "https://localhost:8080/",
          "height": 34
        },
        "outputId": "3b515daf-b569-4198-dc28-7c33593ee347"
      },
      "source": [
        "cumvar[35]"
      ],
      "execution_count": 34,
      "outputs": [
        {
          "output_type": "execute_result",
          "data": {
            "text/plain": [
              "0.8850792991002365"
            ]
          },
          "metadata": {
            "tags": []
          },
          "execution_count": 34
        }
      ]
    },
    {
      "cell_type": "code",
      "metadata": {
        "id": "Z8MXQ1D0scJb",
        "colab_type": "code",
        "colab": {
          "base_uri": "https://localhost:8080/",
          "height": 217
        },
        "outputId": "2d221cdd-375e-406b-84c5-3179dc6867a6"
      },
      "source": [
        "n_used = 35\n",
        "X_pca = np.dot(X_pca_norm.values, X_pca.components_[:n_used,:].T)\n",
        "X_pca = pd.DataFrame(X_pca, columns=[\"PC%d\" % (x + 1) for x in range(n_used)])\n",
        "X_pca.head()"
      ],
      "execution_count": 35,
      "outputs": [
        {
          "output_type": "execute_result",
          "data": {
            "text/html": [
              "<div>\n",
              "<style scoped>\n",
              "    .dataframe tbody tr th:only-of-type {\n",
              "        vertical-align: middle;\n",
              "    }\n",
              "\n",
              "    .dataframe tbody tr th {\n",
              "        vertical-align: top;\n",
              "    }\n",
              "\n",
              "    .dataframe thead th {\n",
              "        text-align: right;\n",
              "    }\n",
              "</style>\n",
              "<table border=\"1\" class=\"dataframe\">\n",
              "  <thead>\n",
              "    <tr style=\"text-align: right;\">\n",
              "      <th></th>\n",
              "      <th>PC1</th>\n",
              "      <th>PC2</th>\n",
              "      <th>PC3</th>\n",
              "      <th>PC4</th>\n",
              "      <th>PC5</th>\n",
              "      <th>PC6</th>\n",
              "      <th>PC7</th>\n",
              "      <th>PC8</th>\n",
              "      <th>PC9</th>\n",
              "      <th>PC10</th>\n",
              "      <th>PC11</th>\n",
              "      <th>PC12</th>\n",
              "      <th>PC13</th>\n",
              "      <th>PC14</th>\n",
              "      <th>PC15</th>\n",
              "      <th>PC16</th>\n",
              "      <th>PC17</th>\n",
              "      <th>PC18</th>\n",
              "      <th>PC19</th>\n",
              "      <th>PC20</th>\n",
              "      <th>PC21</th>\n",
              "      <th>PC22</th>\n",
              "      <th>PC23</th>\n",
              "      <th>PC24</th>\n",
              "      <th>PC25</th>\n",
              "      <th>PC26</th>\n",
              "      <th>PC27</th>\n",
              "      <th>PC28</th>\n",
              "      <th>PC29</th>\n",
              "      <th>PC30</th>\n",
              "      <th>PC31</th>\n",
              "      <th>PC32</th>\n",
              "      <th>PC33</th>\n",
              "      <th>PC34</th>\n",
              "      <th>PC35</th>\n",
              "    </tr>\n",
              "  </thead>\n",
              "  <tbody>\n",
              "    <tr>\n",
              "      <th>0</th>\n",
              "      <td>1.082157</td>\n",
              "      <td>-3.197403</td>\n",
              "      <td>1.416799</td>\n",
              "      <td>-2.128576</td>\n",
              "      <td>0.794921</td>\n",
              "      <td>-0.032605</td>\n",
              "      <td>-0.021152</td>\n",
              "      <td>-0.104399</td>\n",
              "      <td>1.391877</td>\n",
              "      <td>-0.485826</td>\n",
              "      <td>1.309274</td>\n",
              "      <td>-0.157171</td>\n",
              "      <td>-0.812471</td>\n",
              "      <td>1.065436</td>\n",
              "      <td>0.652970</td>\n",
              "      <td>-1.404743</td>\n",
              "      <td>0.698282</td>\n",
              "      <td>-0.250057</td>\n",
              "      <td>0.803691</td>\n",
              "      <td>1.843718</td>\n",
              "      <td>-0.218453</td>\n",
              "      <td>-1.247701</td>\n",
              "      <td>0.172129</td>\n",
              "      <td>-0.167908</td>\n",
              "      <td>0.259076</td>\n",
              "      <td>-0.850239</td>\n",
              "      <td>0.514253</td>\n",
              "      <td>-0.721604</td>\n",
              "      <td>-0.165025</td>\n",
              "      <td>-0.149025</td>\n",
              "      <td>-0.320648</td>\n",
              "      <td>-0.054975</td>\n",
              "      <td>1.363490</td>\n",
              "      <td>-0.330293</td>\n",
              "      <td>-0.844084</td>\n",
              "    </tr>\n",
              "    <tr>\n",
              "      <th>1</th>\n",
              "      <td>-2.046062</td>\n",
              "      <td>1.181714</td>\n",
              "      <td>-1.460144</td>\n",
              "      <td>1.090682</td>\n",
              "      <td>0.986275</td>\n",
              "      <td>0.073940</td>\n",
              "      <td>0.824098</td>\n",
              "      <td>0.083795</td>\n",
              "      <td>-0.873888</td>\n",
              "      <td>-1.949324</td>\n",
              "      <td>-0.569196</td>\n",
              "      <td>0.387994</td>\n",
              "      <td>-0.794746</td>\n",
              "      <td>-0.452731</td>\n",
              "      <td>-0.808203</td>\n",
              "      <td>0.248107</td>\n",
              "      <td>1.130982</td>\n",
              "      <td>-0.295376</td>\n",
              "      <td>1.417432</td>\n",
              "      <td>0.238133</td>\n",
              "      <td>0.145244</td>\n",
              "      <td>-0.151891</td>\n",
              "      <td>-0.086377</td>\n",
              "      <td>-0.152218</td>\n",
              "      <td>0.862216</td>\n",
              "      <td>-1.844986</td>\n",
              "      <td>-0.568349</td>\n",
              "      <td>-0.061486</td>\n",
              "      <td>-0.095967</td>\n",
              "      <td>0.726449</td>\n",
              "      <td>-0.173887</td>\n",
              "      <td>0.472890</td>\n",
              "      <td>0.432070</td>\n",
              "      <td>-0.230725</td>\n",
              "      <td>-0.391088</td>\n",
              "    </tr>\n",
              "    <tr>\n",
              "      <th>2</th>\n",
              "      <td>0.043917</td>\n",
              "      <td>-2.317239</td>\n",
              "      <td>2.305621</td>\n",
              "      <td>-0.914054</td>\n",
              "      <td>-1.172443</td>\n",
              "      <td>-0.329090</td>\n",
              "      <td>0.427019</td>\n",
              "      <td>-0.464922</td>\n",
              "      <td>-1.435776</td>\n",
              "      <td>0.389333</td>\n",
              "      <td>-0.861282</td>\n",
              "      <td>-1.476623</td>\n",
              "      <td>0.420367</td>\n",
              "      <td>-1.869308</td>\n",
              "      <td>-0.964124</td>\n",
              "      <td>1.889132</td>\n",
              "      <td>-0.303784</td>\n",
              "      <td>-0.111125</td>\n",
              "      <td>1.707624</td>\n",
              "      <td>-1.588365</td>\n",
              "      <td>-1.265883</td>\n",
              "      <td>0.020359</td>\n",
              "      <td>-0.233063</td>\n",
              "      <td>0.450322</td>\n",
              "      <td>-1.759031</td>\n",
              "      <td>0.688406</td>\n",
              "      <td>1.459506</td>\n",
              "      <td>-0.497424</td>\n",
              "      <td>0.725172</td>\n",
              "      <td>-0.507362</td>\n",
              "      <td>-1.045211</td>\n",
              "      <td>2.010000</td>\n",
              "      <td>1.738597</td>\n",
              "      <td>-0.101321</td>\n",
              "      <td>-0.234409</td>\n",
              "    </tr>\n",
              "    <tr>\n",
              "      <th>3</th>\n",
              "      <td>1.187569</td>\n",
              "      <td>2.782986</td>\n",
              "      <td>2.257115</td>\n",
              "      <td>-0.116350</td>\n",
              "      <td>4.270613</td>\n",
              "      <td>1.934985</td>\n",
              "      <td>-0.088762</td>\n",
              "      <td>-0.443202</td>\n",
              "      <td>-1.152752</td>\n",
              "      <td>2.655444</td>\n",
              "      <td>0.878449</td>\n",
              "      <td>-0.323830</td>\n",
              "      <td>-0.267440</td>\n",
              "      <td>-0.922543</td>\n",
              "      <td>0.181592</td>\n",
              "      <td>-0.308483</td>\n",
              "      <td>-0.082768</td>\n",
              "      <td>0.081125</td>\n",
              "      <td>1.961554</td>\n",
              "      <td>-2.347813</td>\n",
              "      <td>-0.221533</td>\n",
              "      <td>-0.682695</td>\n",
              "      <td>-1.155530</td>\n",
              "      <td>-1.142687</td>\n",
              "      <td>-0.348207</td>\n",
              "      <td>-0.143454</td>\n",
              "      <td>-1.016785</td>\n",
              "      <td>0.442327</td>\n",
              "      <td>0.612784</td>\n",
              "      <td>-0.155964</td>\n",
              "      <td>0.221144</td>\n",
              "      <td>-0.315698</td>\n",
              "      <td>0.236581</td>\n",
              "      <td>-0.378430</td>\n",
              "      <td>0.183735</td>\n",
              "    </tr>\n",
              "    <tr>\n",
              "      <th>4</th>\n",
              "      <td>3.320006</td>\n",
              "      <td>0.783071</td>\n",
              "      <td>1.719462</td>\n",
              "      <td>-1.520643</td>\n",
              "      <td>0.621341</td>\n",
              "      <td>1.081563</td>\n",
              "      <td>-0.930741</td>\n",
              "      <td>-1.235018</td>\n",
              "      <td>-3.484279</td>\n",
              "      <td>-0.972879</td>\n",
              "      <td>-0.402520</td>\n",
              "      <td>1.300858</td>\n",
              "      <td>0.836320</td>\n",
              "      <td>-0.721601</td>\n",
              "      <td>0.446074</td>\n",
              "      <td>0.315107</td>\n",
              "      <td>-0.168726</td>\n",
              "      <td>-0.771486</td>\n",
              "      <td>-0.679625</td>\n",
              "      <td>1.102042</td>\n",
              "      <td>-0.108621</td>\n",
              "      <td>0.360321</td>\n",
              "      <td>-1.099029</td>\n",
              "      <td>-1.384993</td>\n",
              "      <td>-0.948545</td>\n",
              "      <td>-1.299154</td>\n",
              "      <td>0.108081</td>\n",
              "      <td>1.376801</td>\n",
              "      <td>-0.246205</td>\n",
              "      <td>1.513928</td>\n",
              "      <td>0.396242</td>\n",
              "      <td>-1.092485</td>\n",
              "      <td>-0.486634</td>\n",
              "      <td>-0.607261</td>\n",
              "      <td>0.491395</td>\n",
              "    </tr>\n",
              "  </tbody>\n",
              "</table>\n",
              "</div>"
            ],
            "text/plain": [
              "        PC1       PC2       PC3  ...      PC33      PC34      PC35\n",
              "0  1.082157 -3.197403  1.416799  ...  1.363490 -0.330293 -0.844084\n",
              "1 -2.046062  1.181714 -1.460144  ...  0.432070 -0.230725 -0.391088\n",
              "2  0.043917 -2.317239  2.305621  ...  1.738597 -0.101321 -0.234409\n",
              "3  1.187569  2.782986  2.257115  ...  0.236581 -0.378430  0.183735\n",
              "4  3.320006  0.783071  1.719462  ... -0.486634 -0.607261  0.491395\n",
              "\n",
              "[5 rows x 35 columns]"
            ]
          },
          "metadata": {
            "tags": []
          },
          "execution_count": 35
        }
      ]
    },
    {
      "cell_type": "code",
      "metadata": {
        "id": "GK6Aru6ftvX3",
        "colab_type": "code",
        "colab": {
          "base_uri": "https://localhost:8080/",
          "height": 141
        },
        "outputId": "4deab1fc-62b3-4da5-d2ae-e5f0b000dfed"
      },
      "source": [
        "Y.head()"
      ],
      "execution_count": 36,
      "outputs": [
        {
          "output_type": "execute_result",
          "data": {
            "text/plain": [
              "0    0\n",
              "1    1\n",
              "2    0\n",
              "3    0\n",
              "4    1\n",
              "Name: risk, dtype: category\n",
              "Categories (2, int64): [0, 1]"
            ]
          },
          "metadata": {
            "tags": []
          },
          "execution_count": 36
        }
      ]
    },
    {
      "cell_type": "markdown",
      "metadata": {
        "id": "J20Dlj6q80Gx",
        "colab_type": "text"
      },
      "source": [
        "### Train and Test set for PCA model"
      ]
    },
    {
      "cell_type": "markdown",
      "metadata": {
        "id": "hSYgGwRi82uV",
        "colab_type": "text"
      },
      "source": [
        "In order to create a learning algorith able to classify instances, we need to create a training set $S$, sampled from the entire dataset $D$, and to train our model triyng to minimize the training error.\n",
        "This approach is based on the *Empirical Risk Minimization paradigm*, a learning paradigm that starts from the idea that, if S is representative of $D$, minimizing the error on $S$ we are also minimizing the error on $D$.\n",
        "Let's define the error on $S$, given an hypotesis $h$, as:\\\n",
        "$$ L_s(h) =\\frac{ \\{ |i  \\in [m] : h(x_i) \\ne y_i   \\}  }{m} $$\n",
        "where:\n",
        "*  $m$ is the training size\n",
        "*  $h(x_i)$ is the predicted label\n",
        "*  $y_i$ is the true label\n",
        "\n",
        "At each step $i$, the loss is calculated and the hypotesis $h$ is changed in order to minimize $L_s(h)$.\n",
        "\n",
        "In order to create a training set $S$ that represent the entire set $D$, let's define a set that preserve the proportionality among classes (defined by the parameter *stratify*). \n",
        "\n",
        "Then, the algorithm trained so far will be tested on the other part of the dataset $D$, the test set.\n",
        "\n",
        "To approach our problem in this way, however, we need to manually select each algorithm that we want to analyze.\n",
        "In order to choose the best algorithm (refering to the algorithm itself or the tuned hyperparameters of the algorithm), we need to do a *model selection*: by looking at all the hypothesis $h$, we want the one that best performs on our data.\n",
        "\n",
        "A very accurate estimation of the true risk can be obtained using both train and validation set: the first for constructing the model and the second to select the best model among all the proposed.\n",
        "\n",
        "Validation can be naturally used for model selection as follows:\n",
        "* train the algorith on the training set and construct $H = {h_1,...,h_d}$\n",
        "* choose a single predictor $h_s$ from $H$: the one that minimizes the error over the validation set\n",
        "* use $h_s$ on the test set\n",
        "\n",
        "In other words, we are applying a *ERM* approach to the validation set instead of to the training set."
      ]
    },
    {
      "cell_type": "code",
      "metadata": {
        "id": "3fIO65LEBenM",
        "colab_type": "code",
        "colab": {}
      },
      "source": [
        "X, X_test, y, y_test = train_test_split(X_pca, Y, test_size=0.3, stratify = Y)\n",
        "X_val, X_train, y_val, y_train = train_test_split(X, y, test_size=0.57, stratify = y)"
      ],
      "execution_count": 37,
      "outputs": []
    },
    {
      "cell_type": "markdown",
      "metadata": {
        "id": "VpSb8t5Aoql9",
        "colab_type": "text"
      },
      "source": [
        "### Data Augmentation"
      ]
    },
    {
      "cell_type": "markdown",
      "metadata": {
        "id": "E6VTJz2-IkHI",
        "colab_type": "text"
      },
      "source": [
        "Resampling involves creating a new transformed version of the training dataset in which the selected examples have a different class distribution.\n",
        "\n",
        "This is a simple and effective strategy for imbalanced classification problems.\n",
        "\n",
        "The dataset that we are analyzing are not really imbalanced; as we can see in the next box, the proportion between two categories is 7:3:"
      ]
    },
    {
      "cell_type": "code",
      "metadata": {
        "id": "19ViG_j6Ik__",
        "colab_type": "code",
        "colab": {
          "base_uri": "https://localhost:8080/",
          "height": 70
        },
        "outputId": "ad4413d3-74b6-47e7-d23a-ac52bd939ff7"
      },
      "source": [
        "df['risk'].value_counts()"
      ],
      "execution_count": 38,
      "outputs": [
        {
          "output_type": "execute_result",
          "data": {
            "text/plain": [
              "0    700\n",
              "1    300\n",
              "Name: risk, dtype: int64"
            ]
          },
          "metadata": {
            "tags": []
          },
          "execution_count": 38
        }
      ]
    },
    {
      "cell_type": "markdown",
      "metadata": {
        "id": "MrRRH4OjTsrZ",
        "colab_type": "text"
      },
      "source": [
        "But it could be intresting to ses a comparization of the performances of different classifiers between the original dataset and an oversampled-one, more balanced that the current one."
      ]
    },
    {
      "cell_type": "code",
      "metadata": {
        "id": "YUeYgnUVTmNm",
        "colab_type": "code",
        "colab": {
          "base_uri": "https://localhost:8080/",
          "height": 52
        },
        "outputId": "7ce988d3-8cc2-4770-e14c-28121fc1fd28"
      },
      "source": [
        "X_ADASYN, y_ADASYN = ADASYN().fit_resample(X_train, y_train)\n",
        "print(\"Oversampling on X generate a dataset of \", X_ADASYN.shape, \"istances, while the original dataset had \", X_train.shape, \" instances\")\n",
        "print( 'The new dataset has' , np.count_nonzero(y_ADASYN == 0), 'elements for riks = good, and', np.count_nonzero(y_ADASYN == 1), 'elements for riks = bad')"
      ],
      "execution_count": 39,
      "outputs": [
        {
          "output_type": "stream",
          "text": [
            "Oversampling on X generate a dataset of  (525, 35) istances, while the original dataset had  (399, 35)  instances\n",
            "The new dataset has 279 elements for riks = good, and 246 elements for riks = bad\n"
          ],
          "name": "stdout"
        }
      ]
    },
    {
      "cell_type": "code",
      "metadata": {
        "id": "6HTTj_pIZHeA",
        "colab_type": "code",
        "colab": {
          "base_uri": "https://localhost:8080/",
          "height": 52
        },
        "outputId": "668f642a-bed8-414a-844a-934c8931bcc4"
      },
      "source": [
        "X_SMOTE, y_SMOTE = SMOTE().fit_resample(X_train, y_train)\n",
        "print(\"Oversampling on X generate a dataset of \", X_SMOTE.shape, \"istances, while the original dataset had \", X_train.shape, \" instances\")\n",
        "print( 'The new dataset has' , np.count_nonzero(y_SMOTE == 0), 'elements for riks = good, and', np.count_nonzero(y_SMOTE == 1), 'elements for riks = bad')"
      ],
      "execution_count": 40,
      "outputs": [
        {
          "output_type": "stream",
          "text": [
            "Oversampling on X generate a dataset of  (558, 35) istances, while the original dataset had  (399, 35)  instances\n",
            "The new dataset has 279 elements for riks = good, and 279 elements for riks = bad\n"
          ],
          "name": "stdout"
        }
      ]
    },
    {
      "cell_type": "markdown",
      "metadata": {
        "id": "CPJ3qvt0XJn7",
        "colab_type": "text"
      },
      "source": [
        "So we can apply different classification algorithms both to **X**, **X_ADASYN** and **X_SMOTE** and find the one that has the best performance."
      ]
    },
    {
      "cell_type": "markdown",
      "metadata": {
        "id": "-eehYfLxWpnZ",
        "colab_type": "text"
      },
      "source": [
        "## Features Selection"
      ]
    },
    {
      "cell_type": "markdown",
      "metadata": {
        "id": "o_AxTjksbx6B",
        "colab_type": "text"
      },
      "source": [
        "Feature selection is the process of reducing the number of input variables when developing a predictive model.\n",
        "It is desirable to reduce the number of input variables to both reduce the computational cost of modeling and, in some cases, to improve the performance of the model.\n",
        "\n",
        "By looking at our dataset, we can see that we have both qualitative and quantitative predictors\n",
        "\n",
        "So we can use an ***Anova F-Test*** test in order to select the best features.\n"
      ]
    },
    {
      "cell_type": "code",
      "metadata": {
        "id": "mFGu0LdAb-74",
        "colab_type": "code",
        "colab": {}
      },
      "source": [
        "kbest = SelectKBest(f_classif)"
      ],
      "execution_count": 41,
      "outputs": []
    },
    {
      "cell_type": "markdown",
      "metadata": {
        "id": "ELLY75C1fuYP",
        "colab_type": "text"
      },
      "source": [
        "### K-fold Cross Validation"
      ]
    },
    {
      "cell_type": "markdown",
      "metadata": {
        "id": "NkCyT-zaYYN9",
        "colab_type": "text"
      },
      "source": [
        "In the PCA approach, select the number of selected PC for the model is easy: by looking at the cumulative variances we have an immediate way to evaluate how good the model is.\n",
        "\n",
        "But, in features selection, there is a different approach:\n",
        "we need to set a priori the hyperparameter K and we can evaluate how good the model performs only when the classification models gives its results.\n",
        "\n",
        "And also the hyperparametes of the classification models need to be tuned. So, at each step, we need to define both K and model hyperparameters.\n",
        "\n",
        "\n",
        "A good approach, in this case, can be to use a K_Fold Cross-Validation model:\n",
        "the original dataset is divided in $k$ partitions having $\\frac{n}{k}$ elements, where $n$ is the size of the original dataset.\n",
        "At each step, the $i^{th}$ partition is used as training set and the others $k - 1$ are concatenated and used as validation set.\n",
        "The model is trained on the training set, and validate on the validation set and the final score for the model is the average mean squared error:\\\n",
        "$CV_{(k)} = \\frac{1}{k} \\cdot \\sum_{i = 1}^{k} {MSE_i}$, where $MSE_i = | Y_i - \\hat{Y_i} |^2$ \\\n",
        "being $\\hat{Y_i}$ the predictor of $Y_i$ using all the other observations.\n",
        "\n",
        "At each of the $k$ iterations, the model uses a different set of parameters and, finally, the model providing the best score is selected as the best one and the entire dataset is re-trained by using those hyperparameters."
      ]
    },
    {
      "cell_type": "code",
      "metadata": {
        "id": "4j4ZY56TMOo1",
        "colab_type": "code",
        "colab": {}
      },
      "source": [
        "Xfs = oneHotDF.copy()\n",
        "Xfs_train, Xfs_test, yfs_train, yfs_test = train_test_split(Xfs, Y, test_size=0.3, stratify = Y)"
      ],
      "execution_count": 42,
      "outputs": []
    },
    {
      "cell_type": "markdown",
      "metadata": {
        "id": "YLOC_-OxigUy",
        "colab_type": "text"
      },
      "source": [
        "### Data Augmentation"
      ]
    },
    {
      "cell_type": "markdown",
      "metadata": {
        "id": "YNlQ7dTAiirb",
        "colab_type": "text"
      },
      "source": [
        "The same approach used for the PCA section is used here:"
      ]
    },
    {
      "cell_type": "code",
      "metadata": {
        "id": "bIBvALBVivTX",
        "colab_type": "code",
        "colab": {
          "base_uri": "https://localhost:8080/",
          "height": 52
        },
        "outputId": "c9a480cb-99ad-4a75-ca19-83f517f766a3"
      },
      "source": [
        "Xfs_ADASYN, yfs_ADASYN = ADASYN().fit_resample(Xfs_train, yfs_train)\n",
        "print(\"Oversampling on X generate a dataset of \", Xfs_ADASYN.shape, \"istances, while the original dataset had \", Xfs_train.shape, \" instances\")\n",
        "print( 'The new dataset has' , np.count_nonzero(yfs_ADASYN == 0), 'elements for riks = good, and', np.count_nonzero(yfs_ADASYN == 1), 'elements for riks = bad')"
      ],
      "execution_count": 43,
      "outputs": [
        {
          "output_type": "stream",
          "text": [
            "Oversampling on X generate a dataset of  (995, 59) istances, while the original dataset had  (700, 59)  instances\n",
            "The new dataset has 490 elements for riks = good, and 505 elements for riks = bad\n"
          ],
          "name": "stdout"
        }
      ]
    },
    {
      "cell_type": "code",
      "metadata": {
        "id": "-9_EIq7NZybV",
        "colab_type": "code",
        "colab": {
          "base_uri": "https://localhost:8080/",
          "height": 52
        },
        "outputId": "43525e3a-79e3-4cef-efe5-18fa10ef4e7e"
      },
      "source": [
        "Xfs_SMOTE, yfs_SMOTE = SMOTE().fit_resample(Xfs_train, yfs_train)\n",
        "print(\"Oversampling on X generate a dataset of \", Xfs_SMOTE.shape, \"istances, while the original dataset had \", Xfs_train.shape, \" instances\")\n",
        "print( 'The new dataset has' , np.count_nonzero(yfs_SMOTE == 0), 'elements for riks = good, and', np.count_nonzero(yfs_SMOTE == 1), 'elements for riks = bad')"
      ],
      "execution_count": 44,
      "outputs": [
        {
          "output_type": "stream",
          "text": [
            "Oversampling on X generate a dataset of  (980, 59) istances, while the original dataset had  (700, 59)  instances\n",
            "The new dataset has 490 elements for riks = good, and 490 elements for riks = bad\n"
          ],
          "name": "stdout"
        }
      ]
    },
    {
      "cell_type": "markdown",
      "metadata": {
        "id": "BICNvmvRi_IQ",
        "colab_type": "text"
      },
      "source": [
        "# Classification Algorithms"
      ]
    },
    {
      "cell_type": "markdown",
      "metadata": {
        "id": "S27ueNsMJ1I8",
        "colab_type": "text"
      },
      "source": [
        "After having defined all the different datasets, let's start with the classification task: this is the problem of assigning a category to each item.\n",
        "\n",
        "In order to compare models and find the one that performs better, it's needed to define which metrics will be used to evaluate performances.\n",
        "\n",
        "Let: $TP$ = True positives, $TN$ = True negative, $FP$ = False positive, $FN$ = False negative.\n",
        "\n",
        "Accuracy = $\\frac{TP + TN}{TP+TN + FP + FN} = \\frac{\\text{Number of correct predictions}}{\\text{Total number of predictions}}$\n",
        "\n",
        "Precision = $\\frac{\\text{TP}}{\\text{TP + FP}}$\n",
        "\n",
        "Sensitivity = $\\frac{\\text{TP}}{\\text{TP + FN}}$\n",
        "\n",
        "\n",
        "F1 Score = $2 \\cdot \\frac{\\text{Precision}\\cdot \\text{Sensitivity}}{\\text{Precision + Sensitivity}} $\n",
        "\n",
        "\n"
      ]
    },
    {
      "cell_type": "code",
      "metadata": {
        "id": "aAy_AFWjRay_",
        "colab_type": "code",
        "colab": {}
      },
      "source": [
        "binary_metricsPCA = pd.DataFrame(columns=[\"Accuracy\", \"Precision\", \"Sensitivity\", \"F1 Score\"])\n",
        "binary_metricsFS = pd.DataFrame(columns=[\"Accuracy\", \"Precision\", \"Sensitivity\", \"F1 Score\"])\n",
        "binary_metricsORIG = pd.DataFrame(columns=[\"Accuracy\", \"Precision\", \"Sensitivity\", \"F1 Score\"])"
      ],
      "execution_count": 45,
      "outputs": []
    },
    {
      "cell_type": "markdown",
      "metadata": {
        "id": "wSUgNAkozzrk",
        "colab_type": "text"
      },
      "source": [
        "## Theory overview"
      ]
    },
    {
      "cell_type": "markdown",
      "metadata": {
        "id": "sprGzk3ty2gN",
        "colab_type": "text"
      },
      "source": [
        "### SVM Method"
      ]
    },
    {
      "cell_type": "markdown",
      "metadata": {
        "id": "Svj8xeRPNPmb",
        "colab_type": "text"
      },
      "source": [
        "The basic Support-Vector Machine (SVM) model is linear: it finds the optimal hyperplane between the points of two classes such that the distance of the nearest points to the decision boundary is maximized.\n",
        "\n",
        "Clearly, it is not common to have a linear separation and SVM can be generalized.\n",
        "\n",
        "This generalization can be made by choosing a non-linear Kernel function to apply to the support vector machine.\n",
        "\n",
        "Linear support vector machine generally uses as linear kernel:$$ k({\\vec{x_i}},{\\vec{x_{j}}})={\\vec{x_{i}}}\\cdot{\\vec{x_{j}}}$$\n",
        "\n",
        "Probably the common non-lineare alternative is the Radial basis kernel:$${k({\\vec{x_i},\\vec{x_{j}}})=\\exp(-\\gamma \\|{\\vec {x_{i}}}-{\\vec {x_{j}}}\\|^{2})}$$where $\\gamma \\gt0$ is a parameter to chose. This is in fact the default kernel function in the library.\n",
        "\n",
        "Basically, the kernel maps the data into another space in which the class can be linearly separated, while in the original space, the boundary will in general be non linear."
      ]
    },
    {
      "cell_type": "markdown",
      "metadata": {
        "id": "4idUZU3Py8as",
        "colab_type": "text"
      },
      "source": [
        "### KNN Method"
      ]
    },
    {
      "cell_type": "markdown",
      "metadata": {
        "id": "ivpguejedZkV",
        "colab_type": "text"
      },
      "source": [
        "K-Nearest-Neighbors is one of the simplest classification algorithm in supervised learning. The core idea for KNN is that the features that are used to describe the domain points determinates their classification label. So, features from the same classes need to have similar features. But if we project the domain points in the hyper-space of the features, elements with similar features (and so belonging to the same class) are closer one to each other.\n",
        "So, the KNN algorithm assigned to a point the label of the closest point(s).\n",
        "This algorithm has onehyper-parameter:  the value of $k$, that define the number of neighbors to consider in order to have the classification: $k \\in \\mathbb{N}$.\n",
        "\n",
        "$k$ must be an odd number in order to avoid uncertain classification in case of binary classification.\n",
        "\n",
        "The concept of \"close\" is related to the concept of distance. KNN algorithm use an Euclidean Distances defined as:\n",
        "\n",
        "$\\rho(x, x') = || x - x' || = \\sqrt{ \\sum_{i=1}^{d}{(x_i - x_i')^2}}$"
      ]
    },
    {
      "cell_type": "markdown",
      "metadata": {
        "id": "BHVFg1wvy9_c",
        "colab_type": "text"
      },
      "source": [
        "### Logistic Regression Method"
      ]
    },
    {
      "cell_type": "markdown",
      "metadata": {
        "id": "SdOOIuXojgTY",
        "colab_type": "text"
      },
      "source": [
        "The logistic regression in a generalization of linear regression that allow to solve binary classification problems. In order to execute this generalization, the steps are:\n",
        "* substitute the normal distribution for error with a Bernoulli Distribution:\n",
        "$p(y|\\hat{x},\\hat{w}) = Ber(y| \\mu(\\hat{x}) ) $, where $\\mu(x)$ = $p(y=1| \\hat{x})$\n",
        "* coumpute a linear combination of inputs in order to be shure that $0 \\leq \\mu({\\hat{x}}) \\leq 1$ by using a **sigmoid**, that has the following shape:\n",
        "\n",
        "![Sigmoid function](https://upload.wikimedia.org/wikipedia/commons/5/53/Sigmoid-function-2.svg)\n",
        "\n"
      ]
    },
    {
      "cell_type": "markdown",
      "metadata": {
        "id": "bnGTpx-NzB0w",
        "colab_type": "text"
      },
      "source": [
        "### Decision Trees"
      ]
    },
    {
      "cell_type": "markdown",
      "metadata": {
        "id": "2Hdf7Nxfm-NP",
        "colab_type": "text"
      },
      "source": [
        "A decision tree is a predictor $h : H \\to Y$, that predicts the label associated to an instance of $x$ by travelling from the root to the leaf of a tree in which nodes represent features and edges are values.\n",
        "\n",
        "Usually the decision tree learning algorithm are based on a greedy approach: the tree is constructed gradually and at each step the decision is taken by analize the local optimal decision. So it's not guarantee a global optimal tree.\n",
        "\n",
        "The model starts with a single leaf, the root. The leaf recives as lable the one according to the majority vote among all labels over the training set. Then, in a set of iterations, the algorithm examinates the possibility of split each leaf and evaluate the gain in splitting it.\n",
        "Among all the possibile splits, the one that gave the best gain is choosen"
      ]
    },
    {
      "cell_type": "markdown",
      "metadata": {
        "id": "jueZjtLbzt0R",
        "colab_type": "text"
      },
      "source": [
        "## PCA"
      ]
    },
    {
      "cell_type": "code",
      "metadata": {
        "id": "egHuXqpwyj8I",
        "colab_type": "code",
        "colab": {}
      },
      "source": [
        "PCAparams = {\n",
        "    'SVM' : {'C' : np.logspace(0, 4, 5) },\n",
        "    'KNN' : {'n_neighbors' : [5,7,9,11] },\n",
        "    'LR' : {'solver' : ['newton-cg', 'lbfgs', 'liblinear'] },\n",
        "    'GiniTREE' : {'max_depth': np.arange(5, 20) }\n",
        "}\n",
        "\n",
        "PCAmethods = {\n",
        "    'SVM' : svm.SVC(kernel = \"rbf\", random_state = SEED),\n",
        "    'KNN' : KNeighborsClassifier(),\n",
        "    'LR' :  LogisticRegression(max_iter = 10000, random_state = SEED, solver = 'lbfgs'),\n",
        "    'GiniTREE' : DecisionTreeClassifier(criterion = 'gini', random_state = SEED)\n",
        "}"
      ],
      "execution_count": 46,
      "outputs": []
    },
    {
      "cell_type": "code",
      "metadata": {
        "id": "O-QRkhgG7Trq",
        "colab_type": "code",
        "colab": {}
      },
      "source": [
        "def TrainFunction(methodName, paramName, dataset = 'original'):\n",
        "  scaler = StandardScaler()\n",
        "  if( dataset == 'original'):\n",
        "    scal_X_train = scaler.fit_transform(X_train)\n",
        "    x_train = scal_X_train\n",
        "    Y = y_train\n",
        "  elif( dataset == 'adasyn'):\n",
        "    scal_X_train = scaler.fit_transform(X_ADASYN)\n",
        "    x_train = scal_X_train\n",
        "    Y = y_ADASYN\n",
        "  elif( dataset == 'smote'):\n",
        "    scal_X_train = scaler.fit_transform(X_SMOTE)\n",
        "    x_train = scal_X_train\n",
        "    Y = y_SMOTE\n",
        "  \n",
        "  method = PCAmethods[methodName]\n",
        "  best_score = 0\n",
        "\n",
        "  for p in PCAparams[methodName].get(paramName):\n",
        "    params = { paramName : p}\n",
        "    model = method.set_params(**params).fit(x_train, Y)\n",
        "    y_pred = model.predict(X_val)\n",
        "\n",
        "    cr = classification_report(y_val, y_pred, output_dict=True)\n",
        "    #print('Accuracy for', paramName, ' = ', p, ' = ',cr['accuracy'])\n",
        "    #print('Weighted precision = ', cr['weighted avg'])\n",
        "    if( cr['weighted avg']['f1-score'] > best_score):\n",
        "      best_score = cr['weighted avg']['f1-score']\n",
        "      bestP = p\n",
        "\n",
        "  params = { paramName : bestP}\n",
        "  newX_train = np.concatenate( (x_train, X_val), axis=0)\n",
        "  newY_train = np.concatenate( (Y, y_val), axis=0)\n",
        "  model = method.set_params(**params).fit(newX_train, newY_train)\n",
        "\n",
        "  y_pred = model.predict(X_test)\n",
        "  cr = classification_report(y_test, y_pred, output_dict=True)\n",
        "  binary_metricsPCA.loc[dataset + '_' + methodName] = [cr['accuracy'], cr['weighted avg']['precision'], cr['weighted avg']['recall'], cr['weighted avg']['f1-score']]\n",
        "  print('Accuracy for', paramName, ' = ', bestP, ' = ',cr['accuracy'])\n",
        "  print('Weighted precision = ', cr['weighted avg'])"
      ],
      "execution_count": 47,
      "outputs": []
    },
    {
      "cell_type": "code",
      "metadata": {
        "id": "3FB_5Ff2-sYh",
        "colab_type": "code",
        "colab": {
          "base_uri": "https://localhost:8080/",
          "height": 158
        },
        "outputId": "f9a39265-8b8b-46cd-a504-b63e665d49ef"
      },
      "source": [
        "algs = ['SVM', 'KNN', 'LR', 'GiniTREE']\n",
        "paramNames = ['C', 'n_neighbors', 'solver', 'max_depth']\n",
        "for name, paramName in zip(algs, paramNames):\n",
        "  TrainFunction( name, paramName)"
      ],
      "execution_count": 48,
      "outputs": [
        {
          "output_type": "stream",
          "text": [
            "Accuracy for C  =  1.0  =  0.77\n",
            "Weighted precision =  {'precision': 0.7635294117647059, 'recall': 0.77, 'f1-score': 0.7427956989247311, 'support': 300}\n",
            "Accuracy for n_neighbors  =  9  =  0.74\n",
            "Weighted precision =  {'precision': 0.7219269102990034, 'recall': 0.74, 'f1-score': 0.706060606060606, 'support': 300}\n",
            "Accuracy for solver  =  newton-cg  =  0.78\n",
            "Weighted precision =  {'precision': 0.7731808731808731, 'recall': 0.78, 'f1-score': 0.7751984126984126, 'support': 300}\n",
            "Accuracy for max_depth  =  7  =  0.6866666666666666\n",
            "Weighted precision =  {'precision': 0.671537909591007, 'recall': 0.6866666666666666, 'f1-score': 0.6771313492951443, 'support': 300}\n"
          ],
          "name": "stdout"
        }
      ]
    },
    {
      "cell_type": "code",
      "metadata": {
        "id": "WNvFhtdOSf0b",
        "colab_type": "code",
        "colab": {
          "base_uri": "https://localhost:8080/",
          "height": 158
        },
        "outputId": "51702b27-4c66-4a86-a02f-1d078ba93d5a"
      },
      "source": [
        "algs = ['SVM', 'KNN', 'LR', 'GiniTREE']\n",
        "paramNames = ['C', 'n_neighbors', 'solver', 'max_depth']\n",
        "for name, paramName in zip(algs, paramNames):\n",
        "  TrainFunction( name, paramName, dataset = 'adasyn')"
      ],
      "execution_count": 49,
      "outputs": [
        {
          "output_type": "stream",
          "text": [
            "Accuracy for C  =  1.0  =  0.7466666666666667\n",
            "Weighted precision =  {'precision': 0.7304166666666667, 'recall': 0.7466666666666667, 'f1-score': 0.7297777777777777, 'support': 300}\n",
            "Accuracy for n_neighbors  =  11  =  0.6566666666666666\n",
            "Weighted precision =  {'precision': 0.685475910693302, 'recall': 0.6566666666666666, 'f1-score': 0.6667366471133065, 'support': 300}\n",
            "Accuracy for solver  =  newton-cg  =  0.6933333333333334\n",
            "Weighted precision =  {'precision': 0.7269444444444444, 'recall': 0.6933333333333334, 'f1-score': 0.7034432234432235, 'support': 300}\n",
            "Accuracy for max_depth  =  5  =  0.64\n",
            "Weighted precision =  {'precision': 0.6657864741641337, 'recall': 0.64, 'f1-score': 0.6496542116523212, 'support': 300}\n"
          ],
          "name": "stdout"
        }
      ]
    },
    {
      "cell_type": "code",
      "metadata": {
        "id": "vVAasnY-aFNL",
        "colab_type": "code",
        "colab": {
          "base_uri": "https://localhost:8080/",
          "height": 158
        },
        "outputId": "3326f65e-f74b-4945-f0fe-531e9e705eb8"
      },
      "source": [
        "algs = ['SVM', 'KNN', 'LR', 'GiniTREE']\n",
        "paramNames = ['C', 'n_neighbors', 'solver', 'max_depth']\n",
        "for name, paramName in zip(algs, paramNames):\n",
        "  TrainFunction( name, paramName, dataset = 'smote')"
      ],
      "execution_count": 50,
      "outputs": [
        {
          "output_type": "stream",
          "text": [
            "Accuracy for C  =  1.0  =  0.74\n",
            "Weighted precision =  {'precision': 0.7247086247086247, 'recall': 0.74, 'f1-score': 0.727027027027027, 'support': 300}\n",
            "Accuracy for n_neighbors  =  11  =  0.67\n",
            "Weighted precision =  {'precision': 0.7167278661770706, 'recall': 0.67, 'f1-score': 0.6824937978643081, 'support': 300}\n",
            "Accuracy for solver  =  newton-cg  =  0.67\n",
            "Weighted precision =  {'precision': 0.7195763132932833, 'recall': 0.67, 'f1-score': 0.6827612555068708, 'support': 300}\n",
            "Accuracy for max_depth  =  5  =  0.6633333333333333\n",
            "Weighted precision =  {'precision': 0.6753719090502015, 'recall': 0.6633333333333333, 'f1-score': 0.668500620847681, 'support': 300}\n"
          ],
          "name": "stdout"
        }
      ]
    },
    {
      "cell_type": "code",
      "metadata": {
        "id": "RHTXJ3LxTMrS",
        "colab_type": "code",
        "colab": {
          "base_uri": "https://localhost:8080/",
          "height": 407
        },
        "outputId": "35eab944-f0fd-4dfb-ba75-204064d403f0"
      },
      "source": [
        "binary_metricsPCA"
      ],
      "execution_count": 51,
      "outputs": [
        {
          "output_type": "execute_result",
          "data": {
            "text/html": [
              "<div>\n",
              "<style scoped>\n",
              "    .dataframe tbody tr th:only-of-type {\n",
              "        vertical-align: middle;\n",
              "    }\n",
              "\n",
              "    .dataframe tbody tr th {\n",
              "        vertical-align: top;\n",
              "    }\n",
              "\n",
              "    .dataframe thead th {\n",
              "        text-align: right;\n",
              "    }\n",
              "</style>\n",
              "<table border=\"1\" class=\"dataframe\">\n",
              "  <thead>\n",
              "    <tr style=\"text-align: right;\">\n",
              "      <th></th>\n",
              "      <th>Accuracy</th>\n",
              "      <th>Precision</th>\n",
              "      <th>Sensitivity</th>\n",
              "      <th>F1 Score</th>\n",
              "    </tr>\n",
              "  </thead>\n",
              "  <tbody>\n",
              "    <tr>\n",
              "      <th>original_SVM</th>\n",
              "      <td>0.770000</td>\n",
              "      <td>0.763529</td>\n",
              "      <td>0.770000</td>\n",
              "      <td>0.742796</td>\n",
              "    </tr>\n",
              "    <tr>\n",
              "      <th>original_KNN</th>\n",
              "      <td>0.740000</td>\n",
              "      <td>0.721927</td>\n",
              "      <td>0.740000</td>\n",
              "      <td>0.706061</td>\n",
              "    </tr>\n",
              "    <tr>\n",
              "      <th>original_LR</th>\n",
              "      <td>0.780000</td>\n",
              "      <td>0.773181</td>\n",
              "      <td>0.780000</td>\n",
              "      <td>0.775198</td>\n",
              "    </tr>\n",
              "    <tr>\n",
              "      <th>original_GiniTREE</th>\n",
              "      <td>0.686667</td>\n",
              "      <td>0.671538</td>\n",
              "      <td>0.686667</td>\n",
              "      <td>0.677131</td>\n",
              "    </tr>\n",
              "    <tr>\n",
              "      <th>adasyn_SVM</th>\n",
              "      <td>0.746667</td>\n",
              "      <td>0.730417</td>\n",
              "      <td>0.746667</td>\n",
              "      <td>0.729778</td>\n",
              "    </tr>\n",
              "    <tr>\n",
              "      <th>adasyn_KNN</th>\n",
              "      <td>0.656667</td>\n",
              "      <td>0.685476</td>\n",
              "      <td>0.656667</td>\n",
              "      <td>0.666737</td>\n",
              "    </tr>\n",
              "    <tr>\n",
              "      <th>adasyn_LR</th>\n",
              "      <td>0.693333</td>\n",
              "      <td>0.726944</td>\n",
              "      <td>0.693333</td>\n",
              "      <td>0.703443</td>\n",
              "    </tr>\n",
              "    <tr>\n",
              "      <th>adasyn_GiniTREE</th>\n",
              "      <td>0.640000</td>\n",
              "      <td>0.665786</td>\n",
              "      <td>0.640000</td>\n",
              "      <td>0.649654</td>\n",
              "    </tr>\n",
              "    <tr>\n",
              "      <th>smote_SVM</th>\n",
              "      <td>0.740000</td>\n",
              "      <td>0.724709</td>\n",
              "      <td>0.740000</td>\n",
              "      <td>0.727027</td>\n",
              "    </tr>\n",
              "    <tr>\n",
              "      <th>smote_KNN</th>\n",
              "      <td>0.670000</td>\n",
              "      <td>0.716728</td>\n",
              "      <td>0.670000</td>\n",
              "      <td>0.682494</td>\n",
              "    </tr>\n",
              "    <tr>\n",
              "      <th>smote_LR</th>\n",
              "      <td>0.670000</td>\n",
              "      <td>0.719576</td>\n",
              "      <td>0.670000</td>\n",
              "      <td>0.682761</td>\n",
              "    </tr>\n",
              "    <tr>\n",
              "      <th>smote_GiniTREE</th>\n",
              "      <td>0.663333</td>\n",
              "      <td>0.675372</td>\n",
              "      <td>0.663333</td>\n",
              "      <td>0.668501</td>\n",
              "    </tr>\n",
              "  </tbody>\n",
              "</table>\n",
              "</div>"
            ],
            "text/plain": [
              "                   Accuracy  Precision  Sensitivity  F1 Score\n",
              "original_SVM       0.770000   0.763529     0.770000  0.742796\n",
              "original_KNN       0.740000   0.721927     0.740000  0.706061\n",
              "original_LR        0.780000   0.773181     0.780000  0.775198\n",
              "original_GiniTREE  0.686667   0.671538     0.686667  0.677131\n",
              "adasyn_SVM         0.746667   0.730417     0.746667  0.729778\n",
              "adasyn_KNN         0.656667   0.685476     0.656667  0.666737\n",
              "adasyn_LR          0.693333   0.726944     0.693333  0.703443\n",
              "adasyn_GiniTREE    0.640000   0.665786     0.640000  0.649654\n",
              "smote_SVM          0.740000   0.724709     0.740000  0.727027\n",
              "smote_KNN          0.670000   0.716728     0.670000  0.682494\n",
              "smote_LR           0.670000   0.719576     0.670000  0.682761\n",
              "smote_GiniTREE     0.663333   0.675372     0.663333  0.668501"
            ]
          },
          "metadata": {
            "tags": []
          },
          "execution_count": 51
        }
      ]
    },
    {
      "cell_type": "markdown",
      "metadata": {
        "id": "USLTB0NTNEfs",
        "colab_type": "text"
      },
      "source": [
        "## Features Selection"
      ]
    },
    {
      "cell_type": "code",
      "metadata": {
        "id": "h7_nV-_ZSc9_",
        "colab_type": "code",
        "colab": {}
      },
      "source": [
        "kBestList = [30,40,50]\n",
        "\n",
        "FSsteps = {\n",
        "    'SVM' : [('kbest', kbest), ('scaler', StandardScaler()), ('SVM', svm.SVC(kernel = \"rbf\", random_state = SEED))],\n",
        "    'KNN' : [('kbest', kbest), ('scaler', StandardScaler()), ('KNN', KNeighborsClassifier()) ],\n",
        "    'LR' : [('kbest', kbest), ('scaler', StandardScaler()), ('LR', LogisticRegression(max_iter = 10000, random_state = SEED, solver = 'lbfgs') ) ],\n",
        "    'GiniTREE' : [('kbest', kbest), ('scaler', StandardScaler()), ('GiniTREE', DecisionTreeClassifier(criterion = 'gini', random_state = SEED) ) ]\n",
        "}\n",
        "\n",
        "FSparams = {\n",
        "    'SVM' : {'SVM__C' : np.logspace(0, 4, 5), 'kbest__k': kBestList },\n",
        "    'KNN' : {'KNN__n_neighbors' : [5, 7, 9, 11], 'kbest__k': kBestList},\n",
        "    'LR' : {'LR__solver' : ['newton-cg', 'lbfgs', 'liblinear'], 'kbest__k': kBestList},\n",
        "    'GiniTREE' : {'GiniTREE__max_depth': np.arange(5, 20), 'kbest__k': kBestList }\n",
        "}\n"
      ],
      "execution_count": 52,
      "outputs": []
    },
    {
      "cell_type": "code",
      "metadata": {
        "id": "wgQcfFG2fQYi",
        "colab_type": "code",
        "colab": {}
      },
      "source": [
        "algs = ['SVM', 'KNN', 'LR', 'GiniTREE']"
      ],
      "execution_count": 53,
      "outputs": []
    },
    {
      "cell_type": "code",
      "metadata": {
        "id": "LWmlMzU0fkE_",
        "colab_type": "code",
        "colab": {
          "base_uri": "https://localhost:8080/",
          "height": 230
        },
        "outputId": "1e6be192-b8af-47da-be41-43c04ae32bc7"
      },
      "source": [
        "for el in algs:\n",
        "  steps = FSsteps[el]\n",
        "  parameters = FSparams[el]\n",
        "  pipeline = Pipeline(steps)\n",
        "  grid = GridSearchCV(pipeline, param_grid=parameters, cv=5, scoring = 'f1')\n",
        "\n",
        "  grid.fit(Xfs_train, yfs_train)\n",
        "  print('For method', el, 'best parameters are: ', grid.best_params_)\n",
        "\n",
        "  Yfs_pred = grid.predict(Xfs_test)\n",
        "  cr = classification_report(yfs_test, Yfs_pred, output_dict=True)\n",
        "  binary_metricsFS.loc['original' + '_' + el] = [cr['accuracy'], cr['weighted avg']['precision'], cr['weighted avg']['recall'], cr['weighted avg']['f1-score']]\n",
        "  print('Accuracy with ', el, ' = ',cr['accuracy'])\n",
        "  print('Weighted precision = ', cr['weighted avg'])\n",
        "   "
      ],
      "execution_count": 54,
      "outputs": [
        {
          "output_type": "stream",
          "text": [
            "For method SVM best parameters are:  {'SVM__C': 10.0, 'kbest__k': 50}\n",
            "Accuracy with  SVM  =  0.7166666666666667\n",
            "Weighted precision =  {'precision': 0.7074574717910532, 'recall': 0.7166666666666667, 'f1-score': 0.7110613819519762, 'support': 300}\n",
            "For method KNN best parameters are:  {'KNN__n_neighbors': 5, 'kbest__k': 40}\n",
            "Accuracy with  KNN  =  0.7333333333333333\n",
            "Weighted precision =  {'precision': 0.7138785978911371, 'recall': 0.7333333333333333, 'f1-score': 0.7139440325281033, 'support': 300}\n",
            "For method LR best parameters are:  {'LR__solver': 'liblinear', 'kbest__k': 40}\n",
            "Accuracy with  LR  =  0.7533333333333333\n",
            "Weighted precision =  {'precision': 0.7397824397824397, 'recall': 0.7533333333333333, 'f1-score': 0.741025641025641, 'support': 300}\n",
            "For method GiniTREE best parameters are:  {'GiniTREE__max_depth': 14, 'kbest__k': 50}\n",
            "Accuracy with  GiniTREE  =  0.67\n",
            "Weighted precision =  {'precision': 0.6627671978235522, 'recall': 0.67, 'f1-score': 0.6660286174547522, 'support': 300}\n"
          ],
          "name": "stdout"
        }
      ]
    },
    {
      "cell_type": "code",
      "metadata": {
        "id": "4MzSWfnKyKUN",
        "colab_type": "code",
        "colab": {
          "base_uri": "https://localhost:8080/",
          "height": 230
        },
        "outputId": "4fada5ef-1d45-414d-c761-4891645a3f09"
      },
      "source": [
        "for el in algs:\n",
        "  steps = FSsteps[el]\n",
        "  parameters = FSparams[el]\n",
        "  pipeline = Pipeline(steps)\n",
        "  grid = GridSearchCV(pipeline, param_grid=parameters, cv=5, scoring = 'f1')\n",
        "\n",
        "  grid.fit(Xfs_ADASYN, yfs_ADASYN)\n",
        "  print('For method', el, 'best parameters are: ', grid.best_params_)\n",
        "\n",
        "  Yfs_pred = grid.predict(Xfs_test)\n",
        "  cr = classification_report(yfs_test, Yfs_pred, output_dict=True)\n",
        "  binary_metricsFS.loc['adasyn' + '_' + el] = [cr['accuracy'], cr['weighted avg']['precision'], cr['weighted avg']['recall'], cr['weighted avg']['f1-score']]\n",
        "  print('Accuracy with ', el, ' = ',cr['accuracy'])\n",
        "  print('Weighted precision = ', cr['weighted avg'])"
      ],
      "execution_count": 55,
      "outputs": [
        {
          "output_type": "stream",
          "text": [
            "For method SVM best parameters are:  {'SVM__C': 10.0, 'kbest__k': 30}\n",
            "Accuracy with  SVM  =  0.7166666666666667\n",
            "Weighted precision =  {'precision': 0.7090309487569761, 'recall': 0.7166666666666667, 'f1-score': 0.7121825542878174, 'support': 300}\n",
            "For method KNN best parameters are:  {'KNN__n_neighbors': 11, 'kbest__k': 40}\n",
            "Accuracy with  KNN  =  0.6933333333333334\n",
            "Weighted precision =  {'precision': 0.710056409258899, 'recall': 0.6933333333333334, 'f1-score': 0.6997777328753283, 'support': 300}\n",
            "For method LR best parameters are:  {'LR__solver': 'newton-cg', 'kbest__k': 30}\n",
            "Accuracy with  LR  =  0.73\n",
            "Weighted precision =  {'precision': 0.7243295763699961, 'recall': 0.73, 'f1-score': 0.7267506870084336, 'support': 300}\n",
            "For method GiniTREE best parameters are:  {'GiniTREE__max_depth': 8, 'kbest__k': 30}\n",
            "Accuracy with  GiniTREE  =  0.6766666666666666\n",
            "Weighted precision =  {'precision': 0.6928205128205128, 'recall': 0.6766666666666666, 'f1-score': 0.6831149097815764, 'support': 300}\n"
          ],
          "name": "stdout"
        }
      ]
    },
    {
      "cell_type": "code",
      "metadata": {
        "id": "2EA33FzTaKqU",
        "colab_type": "code",
        "colab": {
          "base_uri": "https://localhost:8080/",
          "height": 230
        },
        "outputId": "406c3451-c965-48a3-97e2-289b5fb75fae"
      },
      "source": [
        "for el in algs:\n",
        "  steps = FSsteps[el]\n",
        "  parameters = FSparams[el]\n",
        "  pipeline = Pipeline(steps)\n",
        "  grid = GridSearchCV(pipeline, param_grid=parameters, cv=5, scoring = 'f1')\n",
        "\n",
        "  grid.fit(Xfs_SMOTE, yfs_SMOTE)\n",
        "  print('For method', el, 'best parameters are: ', grid.best_params_)\n",
        "\n",
        "  Yfs_pred = grid.predict(Xfs_test)\n",
        "  cr = classification_report(yfs_test, Yfs_pred, output_dict=True)\n",
        "  binary_metricsFS.loc['smote' + '_' + el] = [cr['accuracy'], cr['weighted avg']['precision'], cr['weighted avg']['recall'], cr['weighted avg']['f1-score']]\n",
        "  print('Accuracy with ', el, ' = ',cr['accuracy'])\n",
        "  print('Weighted precision = ', cr['weighted avg'])"
      ],
      "execution_count": 56,
      "outputs": [
        {
          "output_type": "stream",
          "text": [
            "For method SVM best parameters are:  {'SVM__C': 10.0, 'kbest__k': 40}\n",
            "Accuracy with  SVM  =  0.7166666666666667\n",
            "Weighted precision =  {'precision': 0.7106490478041197, 'recall': 0.7166666666666667, 'f1-score': 0.7132568937742823, 'support': 300}\n",
            "For method KNN best parameters are:  {'KNN__n_neighbors': 7, 'kbest__k': 50}\n",
            "Accuracy with  KNN  =  0.69\n",
            "Weighted precision =  {'precision': 0.6795979151154132, 'recall': 0.69, 'f1-score': 0.6838671590768682, 'support': 300}\n",
            "For method LR best parameters are:  {'LR__solver': 'liblinear', 'kbest__k': 40}\n",
            "Accuracy with  LR  =  0.74\n",
            "Weighted precision =  {'precision': 0.7325, 'recall': 0.74, 'f1-score': 0.7353761969904241, 'support': 300}\n",
            "For method GiniTREE best parameters are:  {'GiniTREE__max_depth': 8, 'kbest__k': 30}\n",
            "Accuracy with  GiniTREE  =  0.6433333333333333\n",
            "Weighted precision =  {'precision': 0.6605860805860806, 'recall': 0.6433333333333333, 'f1-score': 0.650446343779677, 'support': 300}\n"
          ],
          "name": "stdout"
        }
      ]
    },
    {
      "cell_type": "code",
      "metadata": {
        "id": "MDE-YMjdTct0",
        "colab_type": "code",
        "colab": {
          "base_uri": "https://localhost:8080/",
          "height": 407
        },
        "outputId": "95127174-4658-4b60-f690-0d6c84c99a5d"
      },
      "source": [
        "binary_metricsFS"
      ],
      "execution_count": 57,
      "outputs": [
        {
          "output_type": "execute_result",
          "data": {
            "text/html": [
              "<div>\n",
              "<style scoped>\n",
              "    .dataframe tbody tr th:only-of-type {\n",
              "        vertical-align: middle;\n",
              "    }\n",
              "\n",
              "    .dataframe tbody tr th {\n",
              "        vertical-align: top;\n",
              "    }\n",
              "\n",
              "    .dataframe thead th {\n",
              "        text-align: right;\n",
              "    }\n",
              "</style>\n",
              "<table border=\"1\" class=\"dataframe\">\n",
              "  <thead>\n",
              "    <tr style=\"text-align: right;\">\n",
              "      <th></th>\n",
              "      <th>Accuracy</th>\n",
              "      <th>Precision</th>\n",
              "      <th>Sensitivity</th>\n",
              "      <th>F1 Score</th>\n",
              "    </tr>\n",
              "  </thead>\n",
              "  <tbody>\n",
              "    <tr>\n",
              "      <th>original_SVM</th>\n",
              "      <td>0.716667</td>\n",
              "      <td>0.707457</td>\n",
              "      <td>0.716667</td>\n",
              "      <td>0.711061</td>\n",
              "    </tr>\n",
              "    <tr>\n",
              "      <th>original_KNN</th>\n",
              "      <td>0.733333</td>\n",
              "      <td>0.713879</td>\n",
              "      <td>0.733333</td>\n",
              "      <td>0.713944</td>\n",
              "    </tr>\n",
              "    <tr>\n",
              "      <th>original_LR</th>\n",
              "      <td>0.753333</td>\n",
              "      <td>0.739782</td>\n",
              "      <td>0.753333</td>\n",
              "      <td>0.741026</td>\n",
              "    </tr>\n",
              "    <tr>\n",
              "      <th>original_GiniTREE</th>\n",
              "      <td>0.670000</td>\n",
              "      <td>0.662767</td>\n",
              "      <td>0.670000</td>\n",
              "      <td>0.666029</td>\n",
              "    </tr>\n",
              "    <tr>\n",
              "      <th>adasyn_SVM</th>\n",
              "      <td>0.716667</td>\n",
              "      <td>0.709031</td>\n",
              "      <td>0.716667</td>\n",
              "      <td>0.712183</td>\n",
              "    </tr>\n",
              "    <tr>\n",
              "      <th>adasyn_KNN</th>\n",
              "      <td>0.693333</td>\n",
              "      <td>0.710056</td>\n",
              "      <td>0.693333</td>\n",
              "      <td>0.699778</td>\n",
              "    </tr>\n",
              "    <tr>\n",
              "      <th>adasyn_LR</th>\n",
              "      <td>0.730000</td>\n",
              "      <td>0.724330</td>\n",
              "      <td>0.730000</td>\n",
              "      <td>0.726751</td>\n",
              "    </tr>\n",
              "    <tr>\n",
              "      <th>adasyn_GiniTREE</th>\n",
              "      <td>0.676667</td>\n",
              "      <td>0.692821</td>\n",
              "      <td>0.676667</td>\n",
              "      <td>0.683115</td>\n",
              "    </tr>\n",
              "    <tr>\n",
              "      <th>smote_SVM</th>\n",
              "      <td>0.716667</td>\n",
              "      <td>0.710649</td>\n",
              "      <td>0.716667</td>\n",
              "      <td>0.713257</td>\n",
              "    </tr>\n",
              "    <tr>\n",
              "      <th>smote_KNN</th>\n",
              "      <td>0.690000</td>\n",
              "      <td>0.679598</td>\n",
              "      <td>0.690000</td>\n",
              "      <td>0.683867</td>\n",
              "    </tr>\n",
              "    <tr>\n",
              "      <th>smote_LR</th>\n",
              "      <td>0.740000</td>\n",
              "      <td>0.732500</td>\n",
              "      <td>0.740000</td>\n",
              "      <td>0.735376</td>\n",
              "    </tr>\n",
              "    <tr>\n",
              "      <th>smote_GiniTREE</th>\n",
              "      <td>0.643333</td>\n",
              "      <td>0.660586</td>\n",
              "      <td>0.643333</td>\n",
              "      <td>0.650446</td>\n",
              "    </tr>\n",
              "  </tbody>\n",
              "</table>\n",
              "</div>"
            ],
            "text/plain": [
              "                   Accuracy  Precision  Sensitivity  F1 Score\n",
              "original_SVM       0.716667   0.707457     0.716667  0.711061\n",
              "original_KNN       0.733333   0.713879     0.733333  0.713944\n",
              "original_LR        0.753333   0.739782     0.753333  0.741026\n",
              "original_GiniTREE  0.670000   0.662767     0.670000  0.666029\n",
              "adasyn_SVM         0.716667   0.709031     0.716667  0.712183\n",
              "adasyn_KNN         0.693333   0.710056     0.693333  0.699778\n",
              "adasyn_LR          0.730000   0.724330     0.730000  0.726751\n",
              "adasyn_GiniTREE    0.676667   0.692821     0.676667  0.683115\n",
              "smote_SVM          0.716667   0.710649     0.716667  0.713257\n",
              "smote_KNN          0.690000   0.679598     0.690000  0.683867\n",
              "smote_LR           0.740000   0.732500     0.740000  0.735376\n",
              "smote_GiniTREE     0.643333   0.660586     0.643333  0.650446"
            ]
          },
          "metadata": {
            "tags": []
          },
          "execution_count": 57
        }
      ]
    },
    {
      "cell_type": "markdown",
      "metadata": {
        "id": "qCgflih7oWOI",
        "colab_type": "text"
      },
      "source": [
        "## Original Datased"
      ]
    },
    {
      "cell_type": "code",
      "metadata": {
        "id": "rYiok-SinrVt",
        "colab_type": "code",
        "colab": {}
      },
      "source": [
        "Y_Orig = df['risk'].copy()\n",
        "X_Orig = oneHotDF\n",
        "X_Orig = (X_Orig-X_Orig.mean())/X_Orig.std()"
      ],
      "execution_count": 58,
      "outputs": []
    },
    {
      "cell_type": "code",
      "metadata": {
        "id": "RcuQ1VMOnlCt",
        "colab_type": "code",
        "colab": {}
      },
      "source": [
        "X_Orig, X_Orig_test, Y_Orig, Y_Orig_test = train_test_split(X_Orig, Y_Orig, test_size=0.3, stratify = Y_Orig)\n",
        "X_Orig_val, X_Orig_train, Y_Orig_val, Y_Orig_train = train_test_split(X_Orig, Y_Orig, test_size=0.57, stratify = Y_Orig)"
      ],
      "execution_count": 59,
      "outputs": []
    },
    {
      "cell_type": "code",
      "metadata": {
        "id": "gQGZKQwWomjb",
        "colab_type": "code",
        "colab": {}
      },
      "source": [
        "ORIGparams = {\n",
        "    'SVM' : {'C' : np.logspace(0, 4, 5) },\n",
        "    'KNN' : {'n_neighbors' : [5,7,9,11] },\n",
        "    'LR' : {'solver' : ['newton-cg', 'lbfgs', 'liblinear'] },\n",
        "    'GiniTREE' : {'max_depth': np.arange(5, 20) }\n",
        "}\n",
        "\n",
        "ORIGmethods = {\n",
        "    'SVM' : svm.SVC(kernel = \"rbf\", random_state = SEED),\n",
        "    'KNN' : KNeighborsClassifier(),\n",
        "    'LR' :  LogisticRegression(max_iter = 10000, random_state = SEED, solver = 'lbfgs'),\n",
        "    'GiniTREE' : DecisionTreeClassifier(criterion = 'gini', random_state = SEED)\n",
        "}"
      ],
      "execution_count": 60,
      "outputs": []
    },
    {
      "cell_type": "code",
      "metadata": {
        "id": "CXa83bspojK5",
        "colab_type": "code",
        "colab": {}
      },
      "source": [
        "def TrainOrigFunction(methodName, paramName):\n",
        "  method = ORIGmethods[methodName]\n",
        "  best_score = 0\n",
        "\n",
        "  for p in ORIGparams[methodName].get(paramName):\n",
        "    params = { paramName : p}\n",
        "    model = method.set_params(**params).fit(X_Orig_train, Y_Orig_train)\n",
        "    y_pred = model.predict(X_Orig_val)\n",
        "\n",
        "    cr = classification_report(Y_Orig_val, y_pred, output_dict=True)\n",
        "\n",
        "    if( cr['weighted avg']['f1-score'] > best_score):\n",
        "      best_score = cr['weighted avg']['f1-score']\n",
        "      bestP = p\n",
        "\n",
        "  params = { paramName : bestP}\n",
        "  newX_train = np.concatenate( (X_Orig_train, X_Orig_val), axis=0)\n",
        "  newY_train = np.concatenate( (Y_Orig_train, Y_Orig_val), axis=0)\n",
        "  model = method.set_params(**params).fit(newX_train, newY_train)\n",
        "  #if(methodName == 'GiniTREE'):\n",
        "  #  fig, ax = plt.subplots(figsize=(12, 12))\n",
        "  #  tree.plot_tree(model, max_depth=4, fontsize=10)\n",
        "  y_pred = model.predict(X_Orig_test)\n",
        "  cr = classification_report(Y_Orig_test, y_pred, output_dict=True)\n",
        "  binary_metricsORIG.loc['orig' + '_' + methodName] = [cr['accuracy'], cr['weighted avg']['precision'], cr['weighted avg']['recall'], cr['weighted avg']['f1-score']]\n",
        "  print('Accuracy for', paramName, ' = ', bestP, ' = ',cr['accuracy'])\n",
        "  print('Weighted precision = ', cr['weighted avg'])"
      ],
      "execution_count": 61,
      "outputs": []
    },
    {
      "cell_type": "code",
      "metadata": {
        "id": "ca141yTvoF_w",
        "colab_type": "code",
        "colab": {
          "base_uri": "https://localhost:8080/",
          "height": 158
        },
        "outputId": "20686045-f298-40b3-fb8c-86ed34c65c9b"
      },
      "source": [
        "algs = ['SVM', 'KNN', 'LR', 'GiniTREE']\n",
        "paramNames = ['C', 'n_neighbors', 'solver', 'max_depth']\n",
        "for name, paramName in zip(algs, paramNames):\n",
        "  TrainOrigFunction( name, paramName)"
      ],
      "execution_count": 62,
      "outputs": [
        {
          "output_type": "stream",
          "text": [
            "Accuracy for C  =  1.0  =  0.7533333333333333\n",
            "Weighted precision =  {'precision': 0.7388888888888889, 'recall': 0.7533333333333333, 'f1-score': 0.7270092226613967, 'support': 300}\n",
            "Accuracy for n_neighbors  =  11  =  0.7233333333333334\n",
            "Weighted precision =  {'precision': 0.6972313777191826, 'recall': 0.7233333333333334, 'f1-score': 0.686043067107212, 'support': 300}\n",
            "Accuracy for solver  =  newton-cg  =  0.74\n",
            "Weighted precision =  {'precision': 0.7265838509316771, 'recall': 0.74, 'f1-score': 0.729659090909091, 'support': 300}\n",
            "Accuracy for max_depth  =  6  =  0.67\n",
            "Weighted precision =  {'precision': 0.64249547920434, 'recall': 0.67, 'f1-score': 0.6508487958941966, 'support': 300}\n"
          ],
          "name": "stdout"
        }
      ]
    },
    {
      "cell_type": "code",
      "metadata": {
        "id": "wJA09X9vq4ZI",
        "colab_type": "code",
        "colab": {
          "base_uri": "https://localhost:8080/",
          "height": 167
        },
        "outputId": "3666a6e6-018a-481d-f156-1ca15af96ba8"
      },
      "source": [
        "binary_metricsORIG"
      ],
      "execution_count": 63,
      "outputs": [
        {
          "output_type": "execute_result",
          "data": {
            "text/html": [
              "<div>\n",
              "<style scoped>\n",
              "    .dataframe tbody tr th:only-of-type {\n",
              "        vertical-align: middle;\n",
              "    }\n",
              "\n",
              "    .dataframe tbody tr th {\n",
              "        vertical-align: top;\n",
              "    }\n",
              "\n",
              "    .dataframe thead th {\n",
              "        text-align: right;\n",
              "    }\n",
              "</style>\n",
              "<table border=\"1\" class=\"dataframe\">\n",
              "  <thead>\n",
              "    <tr style=\"text-align: right;\">\n",
              "      <th></th>\n",
              "      <th>Accuracy</th>\n",
              "      <th>Precision</th>\n",
              "      <th>Sensitivity</th>\n",
              "      <th>F1 Score</th>\n",
              "    </tr>\n",
              "  </thead>\n",
              "  <tbody>\n",
              "    <tr>\n",
              "      <th>orig_SVM</th>\n",
              "      <td>0.753333</td>\n",
              "      <td>0.738889</td>\n",
              "      <td>0.753333</td>\n",
              "      <td>0.727009</td>\n",
              "    </tr>\n",
              "    <tr>\n",
              "      <th>orig_KNN</th>\n",
              "      <td>0.723333</td>\n",
              "      <td>0.697231</td>\n",
              "      <td>0.723333</td>\n",
              "      <td>0.686043</td>\n",
              "    </tr>\n",
              "    <tr>\n",
              "      <th>orig_LR</th>\n",
              "      <td>0.740000</td>\n",
              "      <td>0.726584</td>\n",
              "      <td>0.740000</td>\n",
              "      <td>0.729659</td>\n",
              "    </tr>\n",
              "    <tr>\n",
              "      <th>orig_GiniTREE</th>\n",
              "      <td>0.670000</td>\n",
              "      <td>0.642495</td>\n",
              "      <td>0.670000</td>\n",
              "      <td>0.650849</td>\n",
              "    </tr>\n",
              "  </tbody>\n",
              "</table>\n",
              "</div>"
            ],
            "text/plain": [
              "               Accuracy  Precision  Sensitivity  F1 Score\n",
              "orig_SVM       0.753333   0.738889     0.753333  0.727009\n",
              "orig_KNN       0.723333   0.697231     0.723333  0.686043\n",
              "orig_LR        0.740000   0.726584     0.740000  0.729659\n",
              "orig_GiniTREE  0.670000   0.642495     0.670000  0.650849"
            ]
          },
          "metadata": {
            "tags": []
          },
          "execution_count": 63
        }
      ]
    },
    {
      "cell_type": "markdown",
      "metadata": {
        "id": "RJ9DaYebrDpP",
        "colab_type": "text"
      },
      "source": [
        "# Results"
      ]
    },
    {
      "cell_type": "markdown",
      "metadata": {
        "id": "8EsCh8f9rGbO",
        "colab_type": "text"
      },
      "source": [
        "In this work, I've compared various algorithms and approaches to find out which was the best way to solve the classification problem.\n",
        "\n",
        "The first thing to highlights is that apply a dataset reduction (both PCA and features selection) is been a good strategy: all the scores are positively affected by that.\n",
        "\n",
        "The question that arose during the analysis of the distribution of the variable 'risk' (if in a dataset not excessively unbalanced can be a good idea do data augmentation), has not a real answer. \n",
        "\n",
        "It's clear that in this case, some models perform better with the original dataset and others with the augmented one. \n",
        "So, in a similar situation, the best solution is to try and test all the possibility and see which is the best in that specific case.\n",
        "\n",
        "About classification models, we can see that Trees has always the worst performances; the reason might be that the dataset has not a defined pattern from the features to the output."
      ]
    },
    {
      "cell_type": "code",
      "metadata": {
        "id": "_D548qEcq9MW",
        "colab_type": "code",
        "colab": {
          "base_uri": "https://localhost:8080/",
          "height": 407
        },
        "outputId": "02361cea-3984-4362-ec41-a3dcdd3703d1"
      },
      "source": [
        "binary_metricsFS"
      ],
      "execution_count": 64,
      "outputs": [
        {
          "output_type": "execute_result",
          "data": {
            "text/html": [
              "<div>\n",
              "<style scoped>\n",
              "    .dataframe tbody tr th:only-of-type {\n",
              "        vertical-align: middle;\n",
              "    }\n",
              "\n",
              "    .dataframe tbody tr th {\n",
              "        vertical-align: top;\n",
              "    }\n",
              "\n",
              "    .dataframe thead th {\n",
              "        text-align: right;\n",
              "    }\n",
              "</style>\n",
              "<table border=\"1\" class=\"dataframe\">\n",
              "  <thead>\n",
              "    <tr style=\"text-align: right;\">\n",
              "      <th></th>\n",
              "      <th>Accuracy</th>\n",
              "      <th>Precision</th>\n",
              "      <th>Sensitivity</th>\n",
              "      <th>F1 Score</th>\n",
              "    </tr>\n",
              "  </thead>\n",
              "  <tbody>\n",
              "    <tr>\n",
              "      <th>original_SVM</th>\n",
              "      <td>0.716667</td>\n",
              "      <td>0.707457</td>\n",
              "      <td>0.716667</td>\n",
              "      <td>0.711061</td>\n",
              "    </tr>\n",
              "    <tr>\n",
              "      <th>original_KNN</th>\n",
              "      <td>0.733333</td>\n",
              "      <td>0.713879</td>\n",
              "      <td>0.733333</td>\n",
              "      <td>0.713944</td>\n",
              "    </tr>\n",
              "    <tr>\n",
              "      <th>original_LR</th>\n",
              "      <td>0.753333</td>\n",
              "      <td>0.739782</td>\n",
              "      <td>0.753333</td>\n",
              "      <td>0.741026</td>\n",
              "    </tr>\n",
              "    <tr>\n",
              "      <th>original_GiniTREE</th>\n",
              "      <td>0.670000</td>\n",
              "      <td>0.662767</td>\n",
              "      <td>0.670000</td>\n",
              "      <td>0.666029</td>\n",
              "    </tr>\n",
              "    <tr>\n",
              "      <th>adasyn_SVM</th>\n",
              "      <td>0.716667</td>\n",
              "      <td>0.709031</td>\n",
              "      <td>0.716667</td>\n",
              "      <td>0.712183</td>\n",
              "    </tr>\n",
              "    <tr>\n",
              "      <th>adasyn_KNN</th>\n",
              "      <td>0.693333</td>\n",
              "      <td>0.710056</td>\n",
              "      <td>0.693333</td>\n",
              "      <td>0.699778</td>\n",
              "    </tr>\n",
              "    <tr>\n",
              "      <th>adasyn_LR</th>\n",
              "      <td>0.730000</td>\n",
              "      <td>0.724330</td>\n",
              "      <td>0.730000</td>\n",
              "      <td>0.726751</td>\n",
              "    </tr>\n",
              "    <tr>\n",
              "      <th>adasyn_GiniTREE</th>\n",
              "      <td>0.676667</td>\n",
              "      <td>0.692821</td>\n",
              "      <td>0.676667</td>\n",
              "      <td>0.683115</td>\n",
              "    </tr>\n",
              "    <tr>\n",
              "      <th>smote_SVM</th>\n",
              "      <td>0.716667</td>\n",
              "      <td>0.710649</td>\n",
              "      <td>0.716667</td>\n",
              "      <td>0.713257</td>\n",
              "    </tr>\n",
              "    <tr>\n",
              "      <th>smote_KNN</th>\n",
              "      <td>0.690000</td>\n",
              "      <td>0.679598</td>\n",
              "      <td>0.690000</td>\n",
              "      <td>0.683867</td>\n",
              "    </tr>\n",
              "    <tr>\n",
              "      <th>smote_LR</th>\n",
              "      <td>0.740000</td>\n",
              "      <td>0.732500</td>\n",
              "      <td>0.740000</td>\n",
              "      <td>0.735376</td>\n",
              "    </tr>\n",
              "    <tr>\n",
              "      <th>smote_GiniTREE</th>\n",
              "      <td>0.643333</td>\n",
              "      <td>0.660586</td>\n",
              "      <td>0.643333</td>\n",
              "      <td>0.650446</td>\n",
              "    </tr>\n",
              "  </tbody>\n",
              "</table>\n",
              "</div>"
            ],
            "text/plain": [
              "                   Accuracy  Precision  Sensitivity  F1 Score\n",
              "original_SVM       0.716667   0.707457     0.716667  0.711061\n",
              "original_KNN       0.733333   0.713879     0.733333  0.713944\n",
              "original_LR        0.753333   0.739782     0.753333  0.741026\n",
              "original_GiniTREE  0.670000   0.662767     0.670000  0.666029\n",
              "adasyn_SVM         0.716667   0.709031     0.716667  0.712183\n",
              "adasyn_KNN         0.693333   0.710056     0.693333  0.699778\n",
              "adasyn_LR          0.730000   0.724330     0.730000  0.726751\n",
              "adasyn_GiniTREE    0.676667   0.692821     0.676667  0.683115\n",
              "smote_SVM          0.716667   0.710649     0.716667  0.713257\n",
              "smote_KNN          0.690000   0.679598     0.690000  0.683867\n",
              "smote_LR           0.740000   0.732500     0.740000  0.735376\n",
              "smote_GiniTREE     0.643333   0.660586     0.643333  0.650446"
            ]
          },
          "metadata": {
            "tags": []
          },
          "execution_count": 64
        }
      ]
    },
    {
      "cell_type": "code",
      "metadata": {
        "id": "l7eUJAzgrBJJ",
        "colab_type": "code",
        "colab": {
          "base_uri": "https://localhost:8080/",
          "height": 407
        },
        "outputId": "e415e26f-1ed4-4eba-e52e-faf4311f8526"
      },
      "source": [
        "binary_metricsPCA"
      ],
      "execution_count": 65,
      "outputs": [
        {
          "output_type": "execute_result",
          "data": {
            "text/html": [
              "<div>\n",
              "<style scoped>\n",
              "    .dataframe tbody tr th:only-of-type {\n",
              "        vertical-align: middle;\n",
              "    }\n",
              "\n",
              "    .dataframe tbody tr th {\n",
              "        vertical-align: top;\n",
              "    }\n",
              "\n",
              "    .dataframe thead th {\n",
              "        text-align: right;\n",
              "    }\n",
              "</style>\n",
              "<table border=\"1\" class=\"dataframe\">\n",
              "  <thead>\n",
              "    <tr style=\"text-align: right;\">\n",
              "      <th></th>\n",
              "      <th>Accuracy</th>\n",
              "      <th>Precision</th>\n",
              "      <th>Sensitivity</th>\n",
              "      <th>F1 Score</th>\n",
              "    </tr>\n",
              "  </thead>\n",
              "  <tbody>\n",
              "    <tr>\n",
              "      <th>original_SVM</th>\n",
              "      <td>0.770000</td>\n",
              "      <td>0.763529</td>\n",
              "      <td>0.770000</td>\n",
              "      <td>0.742796</td>\n",
              "    </tr>\n",
              "    <tr>\n",
              "      <th>original_KNN</th>\n",
              "      <td>0.740000</td>\n",
              "      <td>0.721927</td>\n",
              "      <td>0.740000</td>\n",
              "      <td>0.706061</td>\n",
              "    </tr>\n",
              "    <tr>\n",
              "      <th>original_LR</th>\n",
              "      <td>0.780000</td>\n",
              "      <td>0.773181</td>\n",
              "      <td>0.780000</td>\n",
              "      <td>0.775198</td>\n",
              "    </tr>\n",
              "    <tr>\n",
              "      <th>original_GiniTREE</th>\n",
              "      <td>0.686667</td>\n",
              "      <td>0.671538</td>\n",
              "      <td>0.686667</td>\n",
              "      <td>0.677131</td>\n",
              "    </tr>\n",
              "    <tr>\n",
              "      <th>adasyn_SVM</th>\n",
              "      <td>0.746667</td>\n",
              "      <td>0.730417</td>\n",
              "      <td>0.746667</td>\n",
              "      <td>0.729778</td>\n",
              "    </tr>\n",
              "    <tr>\n",
              "      <th>adasyn_KNN</th>\n",
              "      <td>0.656667</td>\n",
              "      <td>0.685476</td>\n",
              "      <td>0.656667</td>\n",
              "      <td>0.666737</td>\n",
              "    </tr>\n",
              "    <tr>\n",
              "      <th>adasyn_LR</th>\n",
              "      <td>0.693333</td>\n",
              "      <td>0.726944</td>\n",
              "      <td>0.693333</td>\n",
              "      <td>0.703443</td>\n",
              "    </tr>\n",
              "    <tr>\n",
              "      <th>adasyn_GiniTREE</th>\n",
              "      <td>0.640000</td>\n",
              "      <td>0.665786</td>\n",
              "      <td>0.640000</td>\n",
              "      <td>0.649654</td>\n",
              "    </tr>\n",
              "    <tr>\n",
              "      <th>smote_SVM</th>\n",
              "      <td>0.740000</td>\n",
              "      <td>0.724709</td>\n",
              "      <td>0.740000</td>\n",
              "      <td>0.727027</td>\n",
              "    </tr>\n",
              "    <tr>\n",
              "      <th>smote_KNN</th>\n",
              "      <td>0.670000</td>\n",
              "      <td>0.716728</td>\n",
              "      <td>0.670000</td>\n",
              "      <td>0.682494</td>\n",
              "    </tr>\n",
              "    <tr>\n",
              "      <th>smote_LR</th>\n",
              "      <td>0.670000</td>\n",
              "      <td>0.719576</td>\n",
              "      <td>0.670000</td>\n",
              "      <td>0.682761</td>\n",
              "    </tr>\n",
              "    <tr>\n",
              "      <th>smote_GiniTREE</th>\n",
              "      <td>0.663333</td>\n",
              "      <td>0.675372</td>\n",
              "      <td>0.663333</td>\n",
              "      <td>0.668501</td>\n",
              "    </tr>\n",
              "  </tbody>\n",
              "</table>\n",
              "</div>"
            ],
            "text/plain": [
              "                   Accuracy  Precision  Sensitivity  F1 Score\n",
              "original_SVM       0.770000   0.763529     0.770000  0.742796\n",
              "original_KNN       0.740000   0.721927     0.740000  0.706061\n",
              "original_LR        0.780000   0.773181     0.780000  0.775198\n",
              "original_GiniTREE  0.686667   0.671538     0.686667  0.677131\n",
              "adasyn_SVM         0.746667   0.730417     0.746667  0.729778\n",
              "adasyn_KNN         0.656667   0.685476     0.656667  0.666737\n",
              "adasyn_LR          0.693333   0.726944     0.693333  0.703443\n",
              "adasyn_GiniTREE    0.640000   0.665786     0.640000  0.649654\n",
              "smote_SVM          0.740000   0.724709     0.740000  0.727027\n",
              "smote_KNN          0.670000   0.716728     0.670000  0.682494\n",
              "smote_LR           0.670000   0.719576     0.670000  0.682761\n",
              "smote_GiniTREE     0.663333   0.675372     0.663333  0.668501"
            ]
          },
          "metadata": {
            "tags": []
          },
          "execution_count": 65
        }
      ]
    }
  ]
}